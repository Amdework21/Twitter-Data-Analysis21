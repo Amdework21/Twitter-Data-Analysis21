{
 "metadata": {
  "language_info": {
   "codemirror_mode": {
    "name": "ipython",
    "version": 3
   },
   "file_extension": ".py",
   "mimetype": "text/x-python",
   "name": "python",
   "nbconvert_exporter": "python",
   "pygments_lexer": "ipython3",
   "version": "3.8.4"
  },
  "orig_nbformat": 4,
  "kernelspec": {
   "name": "python3",
   "display_name": "Python 3.8.4 64-bit"
  },
  "interpreter": {
   "hash": "2db524e06e9f5f4ffedc911c917cb75e12dbc923643829bf417064a77eb14d37"
  }
 },
 "nbformat": 4,
 "nbformat_minor": 2,
 "cells": [
  {
   "source": [
    "<h1>Modelling</h1>"
   ],
   "cell_type": "markdown",
   "metadata": {}
  },
  {
   "source": [
    "<h3>Importing Model Ready Data</h3>"
   ],
   "cell_type": "markdown",
   "metadata": {}
  },
  {
   "cell_type": "code",
   "execution_count": 1,
   "metadata": {},
   "outputs": [],
   "source": [
    "import warnings\n",
    "warnings.filterwarnings(\"ignore\", category=DeprecationWarning)"
   ]
  },
  {
   "cell_type": "code",
   "execution_count": 2,
   "metadata": {},
   "outputs": [
    {
     "output_type": "execute_result",
     "data": {
      "text/plain": [
       "   sentiment lang      hashtags  \\\n",
       "0          1   en                 \n",
       "1          1   en                 \n",
       "2          1   en  red4research   \n",
       "3          1   en                 \n",
       "4          1   en                 \n",
       "\n",
       "                                          clean_text  \n",
       "0  rt telglobalhealth africa is in the midst of a...  \n",
       "1  rt globalhlthtwit dr moeti is head of who in a...  \n",
       "2  rt nhsrdforum thank you research note for crea...  \n",
       "3  rt highwiretalk former pfizer vp and virologis...  \n",
       "4  rt peterhotez i think it s important that we d...  "
      ],
      "text/html": "<div>\n<style scoped>\n    .dataframe tbody tr th:only-of-type {\n        vertical-align: middle;\n    }\n\n    .dataframe tbody tr th {\n        vertical-align: top;\n    }\n\n    .dataframe thead th {\n        text-align: right;\n    }\n</style>\n<table border=\"1\" class=\"dataframe\">\n  <thead>\n    <tr style=\"text-align: right;\">\n      <th></th>\n      <th>sentiment</th>\n      <th>lang</th>\n      <th>hashtags</th>\n      <th>clean_text</th>\n    </tr>\n  </thead>\n  <tbody>\n    <tr>\n      <th>0</th>\n      <td>1</td>\n      <td>en</td>\n      <td></td>\n      <td>rt telglobalhealth africa is in the midst of a...</td>\n    </tr>\n    <tr>\n      <th>1</th>\n      <td>1</td>\n      <td>en</td>\n      <td></td>\n      <td>rt globalhlthtwit dr moeti is head of who in a...</td>\n    </tr>\n    <tr>\n      <th>2</th>\n      <td>1</td>\n      <td>en</td>\n      <td>red4research</td>\n      <td>rt nhsrdforum thank you research note for crea...</td>\n    </tr>\n    <tr>\n      <th>3</th>\n      <td>1</td>\n      <td>en</td>\n      <td></td>\n      <td>rt highwiretalk former pfizer vp and virologis...</td>\n    </tr>\n    <tr>\n      <th>4</th>\n      <td>1</td>\n      <td>en</td>\n      <td></td>\n      <td>rt peterhotez i think it s important that we d...</td>\n    </tr>\n  </tbody>\n</table>\n</div>"
     },
     "metadata": {},
     "execution_count": 2
    }
   ],
   "source": [
    "import pandas as pd\n",
    "import joblib\n",
    "import pickle\n",
    "\n",
    "model_tweets = pd.read_csv('../data/model_ready_data.csv')\n",
    "model_tweets = model_tweets.fillna(\"\")\n",
    "model_tweets.head()"
   ]
  },
  {
   "cell_type": "code",
   "execution_count": 3,
   "metadata": {},
   "outputs": [
    {
     "output_type": "execute_result",
     "data": {
      "text/plain": [
       "(6417, 4)"
      ]
     },
     "metadata": {},
     "execution_count": 3
    }
   ],
   "source": [
    "model_tweets.shape"
   ]
  },
  {
   "cell_type": "code",
   "execution_count": 4,
   "metadata": {},
   "outputs": [],
   "source": [
    "# 4492 1925\n",
    "sentiment_analysis_tweet_data = model_tweets.copy(deep=True)\n",
    "sentiment_analysis_tweet_data.drop(sentiment_analysis_tweet_data[sentiment_analysis_tweet_data['sentiment'] == -1].index, inplace=True)\n",
    "sentiment_analysis_tweet_data.reset_index(drop=True, inplace=True)\n",
    "tweet_train = sentiment_analysis_tweet_data.iloc[:4492,]\n",
    "tweet_test = sentiment_analysis_tweet_data.iloc[4493:,]"
   ]
  },
  {
   "source": [
    "<h3>Sentiment Analysis</h3>"
   ],
   "cell_type": "markdown",
   "metadata": {}
  },
  {
   "cell_type": "code",
   "execution_count": 5,
   "metadata": {},
   "outputs": [],
   "source": [
    "from sklearn.feature_extraction.text import CountVectorizer, TfidfTransformer\n",
    "from joblib import dump, load # used for saving and loading sklearn objects\n",
    "from scipy.sparse import save_npz, load_npz # used for saving and loading sparse matrices\n",
    "from sklearn.decomposition import NMF, LatentDirichletAllocation"
   ]
  },
  {
   "source": [
    "#### Unigram Counts"
   ],
   "cell_type": "markdown",
   "metadata": {}
  },
  {
   "cell_type": "code",
   "execution_count": 6,
   "metadata": {},
   "outputs": [
    {
     "output_type": "execute_result",
     "data": {
      "text/plain": [
       "CountVectorizer()"
      ]
     },
     "metadata": {},
     "execution_count": 6
    }
   ],
   "source": [
    "unigram_vectorizer = CountVectorizer(ngram_range=(1, 1))\n",
    "unigram_vectorizer.fit(tweet_train['clean_text'].values)"
   ]
  },
  {
   "cell_type": "code",
   "execution_count": 7,
   "metadata": {},
   "outputs": [],
   "source": [
    "X_train_unigram = unigram_vectorizer.transform(tweet_train['clean_text'].values)"
   ]
  },
  {
   "source": [
    "#### Unigram Tf-Idf"
   ],
   "cell_type": "markdown",
   "metadata": {}
  },
  {
   "cell_type": "code",
   "execution_count": 8,
   "metadata": {},
   "outputs": [
    {
     "output_type": "execute_result",
     "data": {
      "text/plain": [
       "TfidfTransformer()"
      ]
     },
     "metadata": {},
     "execution_count": 8
    }
   ],
   "source": [
    "unigram_tf_idf_transformer = TfidfTransformer()\n",
    "unigram_tf_idf_transformer.fit(X_train_unigram)\n"
   ]
  },
  {
   "cell_type": "code",
   "execution_count": 9,
   "metadata": {},
   "outputs": [],
   "source": [
    "X_train_unigram_tf_idf = unigram_tf_idf_transformer.transform(X_train_unigram)"
   ]
  },
  {
   "source": [
    "#### Bigram Counts"
   ],
   "cell_type": "markdown",
   "metadata": {}
  },
  {
   "cell_type": "code",
   "execution_count": 10,
   "metadata": {},
   "outputs": [
    {
     "output_type": "execute_result",
     "data": {
      "text/plain": [
       "CountVectorizer(ngram_range=(1, 2))"
      ]
     },
     "metadata": {},
     "execution_count": 10
    }
   ],
   "source": [
    "bigram_vectorizer = CountVectorizer(ngram_range=(1, 2))\n",
    "bigram_vectorizer.fit(tweet_train['clean_text'].values)"
   ]
  },
  {
   "cell_type": "code",
   "execution_count": 11,
   "metadata": {},
   "outputs": [],
   "source": [
    "X_train_bigram = bigram_vectorizer.transform(tweet_train['clean_text'].values)"
   ]
  },
  {
   "source": [
    "#### Bigram Tf-Idf"
   ],
   "cell_type": "markdown",
   "metadata": {}
  },
  {
   "cell_type": "code",
   "execution_count": 12,
   "metadata": {},
   "outputs": [
    {
     "output_type": "execute_result",
     "data": {
      "text/plain": [
       "TfidfTransformer()"
      ]
     },
     "metadata": {},
     "execution_count": 12
    }
   ],
   "source": [
    "bigram_tf_idf_transformer = TfidfTransformer()\n",
    "bigram_tf_idf_transformer.fit(X_train_bigram)"
   ]
  },
  {
   "cell_type": "code",
   "execution_count": 13,
   "metadata": {},
   "outputs": [],
   "source": [
    "X_train_bigram_tf_idf = bigram_tf_idf_transformer.transform(X_train_bigram)"
   ]
  },
  {
   "cell_type": "code",
   "execution_count": 14,
   "metadata": {},
   "outputs": [],
   "source": [
    "from sklearn.linear_model import SGDClassifier\n",
    "from sklearn.model_selection import train_test_split\n",
    "from scipy.sparse import csr_matrix\n",
    "import numpy as np"
   ]
  },
  {
   "cell_type": "code",
   "execution_count": 15,
   "metadata": {},
   "outputs": [],
   "source": [
    "def train_and_show_scores(X: csr_matrix, y: np.array, title: str) -> None:\n",
    "    X_train, X_valid, y_train, y_valid = train_test_split(\n",
    "        X, y,train_size=0.75, stratify=y\n",
    "    )\n",
    "\n",
    "    clf = SGDClassifier()\n",
    "    clf.fit(X_train, y_train)\n",
    "    train_score = clf.score(X_train, y_train)\n",
    "    valid_score = clf.score(X_valid, y_valid)\n",
    "\n",
    "    global_vars = globals()\n",
    "    if(valid_score > global_vars['best_score']):\n",
    "        global_vars['best_model'] = clf\n",
    "        global_vars['best_model_name'] = title\n",
    "        global_vars['best_score'] = valid_score\n",
    "\n",
    "    print(f'{title}\\nTrain score: {round(train_score, 2)} ; Validation score: {round(valid_score, 2)}\\n')"
   ]
  },
  {
   "cell_type": "code",
   "execution_count": 16,
   "metadata": {},
   "outputs": [
    {
     "output_type": "execute_result",
     "data": {
      "text/plain": [
       "array([1, 1, 1, ..., 1, 1, 1], dtype=int64)"
      ]
     },
     "metadata": {},
     "execution_count": 16
    }
   ],
   "source": [
    "y_train = tweet_train['sentiment'].values\n",
    "y_train"
   ]
  },
  {
   "cell_type": "code",
   "execution_count": 17,
   "metadata": {},
   "outputs": [
    {
     "output_type": "stream",
     "name": "stdout",
     "text": [
      "Unigram Counts\nTrain score: 1.0 ; Validation score: 0.98\n\nUnigram Tf-Idf\nTrain score: 1.0 ; Validation score: 0.97\n\nBigram Counts\nTrain score: 1.0 ; Validation score: 0.98\n\nBigram Tf-Idf\nTrain score: 1.0 ; Validation score: 0.98\n\n"
     ]
    }
   ],
   "source": [
    "best_model = \"\"\n",
    "best_model_name = \"\"\n",
    "best_score = 0\n",
    "\n",
    "train_and_show_scores(X_train_unigram, y_train, 'Unigram Counts')\n",
    "train_and_show_scores(X_train_unigram_tf_idf, y_train, 'Unigram Tf-Idf')\n",
    "train_and_show_scores(X_train_bigram, y_train, 'Bigram Counts')\n",
    "train_and_show_scores(X_train_bigram_tf_idf, y_train, 'Bigram Tf-Idf')"
   ]
  },
  {
   "cell_type": "code",
   "execution_count": 18,
   "metadata": {},
   "outputs": [
    {
     "output_type": "stream",
     "name": "stdout",
     "text": [
      "The best Model is Bigram Counts with a Validation score of: 0.98\n"
     ]
    }
   ],
   "source": [
    "print(f'The best Model is {best_model_name} with a Validation score of: {round(best_score, 2)}')"
   ]
  },
  {
   "source": [
    "Testing"
   ],
   "cell_type": "markdown",
   "metadata": {}
  },
  {
   "cell_type": "code",
   "execution_count": 19,
   "metadata": {},
   "outputs": [],
   "source": [
    "def run_test_using_model(best_model: SGDClassifier, model_type: str):\n",
    "    unigram_vectorizer = CountVectorizer(ngram_range=(1, 1))\n",
    "    unigram_vectorizer.fit(tweet_test['clean_text'].values)\n",
    "    X_test_unigram = unigram_vectorizer.transform(tweet_test['clean_text'].values)\n",
    "\n",
    "    bigram_vectorizer = CountVectorizer(ngram_range=(1, 2))\n",
    "    bigram_vectorizer.fit(tweet_test['clean_text'].values)\n",
    "    X_test_bigram = bigram_vectorizer.transform(tweet_test['clean_text'].values)\n",
    "\n",
    "    y_test = tweet_test['sentiment'].values\n",
    "\n",
    "    if(model_type == \"Unigram Counts\"):\n",
    "        X_test = X_test_unigram\n",
    "\n",
    "    elif(model_type == \"Unigram Tf-Idf\"):\n",
    "        unigram_tf_idf_transformer = TfidfTransformer()\n",
    "        unigram_tf_idf_transformer.fit(X_test_unigram)\n",
    "        X_test_unigram_tf_idf = unigram_tf_idf_transformer.transform(X_test_unigram)\n",
    "\n",
    "        X_test = X_test_unigram_tf_idf\n",
    "\n",
    "    elif(model_type == \"Bigram Counts\"):\n",
    "        X_test = X_test_bigram\n",
    "\n",
    "    else:\n",
    "        bigram_tf_idf_transformer = TfidfTransformer()\n",
    "        bigram_tf_idf_transformer.fit(X_test_bigram)\n",
    "\n",
    "        X_test_bigram_tf_idf = bigram_tf_idf_transformer.transform(X_test_bigram)\n",
    "        X_test = X_test_bigram_tf_idf\n",
    "\n",
    "   \n",
    "    return best_model.score(X_test,y_test)\n"
   ]
  },
  {
   "cell_type": "code",
   "execution_count": 20,
   "metadata": {},
   "outputs": [],
   "source": [
    "# type(tweet_test['clean_text'].values)\n",
    "# run_test_using_model(best_model, best_model_name)"
   ]
  },
  {
   "source": [
    "Saving generated Topic LDA Model"
   ],
   "cell_type": "markdown",
   "metadata": {}
  },
  {
   "cell_type": "code",
   "execution_count": 21,
   "metadata": {},
   "outputs": [],
   "source": [
    "sgd = joblib.dump(best_model, '../trained_models/newsentimentSGDmodel.jl')\n",
    "# then reload it with\n",
    "# lda_model = joblib.load('lda_model.jl')"
   ]
  },
  {
   "source": [
    "<h3>Topic Modelling</h3>"
   ],
   "cell_type": "markdown",
   "metadata": {}
  },
  {
   "cell_type": "code",
   "execution_count": 22,
   "metadata": {},
   "outputs": [
    {
     "output_type": "stream",
     "name": "stderr",
     "text": [
      "[nltk_data] Downloading package stopwords to\n[nltk_data]     C:\\Users\\milky\\AppData\\Roaming\\nltk_data...\n[nltk_data]   Package stopwords is already up-to-date!\n"
     ]
    },
    {
     "output_type": "execute_result",
     "data": {
      "text/plain": [
       "True"
      ]
     },
     "metadata": {},
     "execution_count": 22
    }
   ],
   "source": [
    "import nltk\n",
    "nltk.download('stopwords')"
   ]
  },
  {
   "cell_type": "code",
   "execution_count": 23,
   "metadata": {},
   "outputs": [
    {
     "output_type": "stream",
     "name": "stderr",
     "text": [
      "C:\\Python38\\lib\\site-packages\\gensim\\similarities\\__init__.py:15: UserWarning: The gensim.similarities.levenshtein submodule is disabled, because the optional Levenshtein package <https://pypi.org/project/python-Levenshtein/> is unavailable. Install Levenhstein (e.g. `pip install python-Levenshtein`) to suppress this warning.\n",
      "  warnings.warn(msg)\n",
      "C:\\Python38\\lib\\site-packages\\ipykernel\\pylab\\config.py:70: DeprecationWarning: InlineBackend._figure_formats_changed is deprecated in traitlets 4.1: use @observe and @unobserve instead.\n",
      "  def _figure_formats_changed(self, name, old, new):\n"
     ]
    }
   ],
   "source": [
    "import re\n",
    "import numpy as np\n",
    "import pandas as  pd\n",
    "from pprint import pprint\n",
    "import gensim\n",
    "import gensim.corpora as corpora\n",
    "from gensim.utils import simple_preprocess\n",
    "from gensim.models import CoherenceModel\n",
    "import spacy\n",
    "import pyLDAvis\n",
    "import pyLDAvis.gensim_models\n",
    "import matplotlib.pyplot as plt\n",
    "%matplotlib inline"
   ]
  },
  {
   "source": [
    "Stopwords Preparation"
   ],
   "cell_type": "markdown",
   "metadata": {}
  },
  {
   "cell_type": "code",
   "execution_count": 24,
   "metadata": {},
   "outputs": [
    {
     "output_type": "stream",
     "name": "stderr",
     "text": [
      "C:\\Python38\\lib\\site-packages\\ipykernel\\ipkernel.py:283: DeprecationWarning: `should_run_async` will not call `transform_cell` automatically in the future. Please pass the result to `transformed_cell` argument and any exception that happen during thetransform in `preprocessing_exc_tuple` in IPython 7.17 and above.\n  and should_run_async(code)\n"
     ]
    }
   ],
   "source": [
    "# NLTK Stop words\n",
    "from nltk.corpus import stopwords\n",
    "stop_words = stopwords.words('english')\n",
    "stop_words.extend(['from', 'subject', 're', 'edu', 'use'])"
   ]
  },
  {
   "source": [
    "Loading Dataset"
   ],
   "cell_type": "markdown",
   "metadata": {}
  },
  {
   "cell_type": "code",
   "execution_count": 25,
   "metadata": {},
   "outputs": [
    {
     "output_type": "stream",
     "name": "stderr",
     "text": [
      "C:\\Python38\\lib\\site-packages\\ipykernel\\ipkernel.py:283: DeprecationWarning: `should_run_async` will not call `transform_cell` automatically in the future. Please pass the result to `transformed_cell` argument and any exception that happen during thetransform in `preprocessing_exc_tuple` in IPython 7.17 and above.\n  and should_run_async(code)\n"
     ]
    },
    {
     "output_type": "execute_result",
     "data": {
      "text/plain": [
       "      sentiment lang      hashtags  \\\n",
       "0             1   en                 \n",
       "1             1   en                 \n",
       "2             1   en  red4research   \n",
       "3             1   en                 \n",
       "4             1   en                 \n",
       "...         ...  ...           ...   \n",
       "6412         -1   en                 \n",
       "6413         -1   en       covid19   \n",
       "6414         -1   en                 \n",
       "6415         -1   en       covid19   \n",
       "6416          1   en       covid19   \n",
       "\n",
       "                                             clean_text  \n",
       "0     rt telglobalhealth africa is in the midst of a...  \n",
       "1     rt globalhlthtwit dr moeti is head of who in a...  \n",
       "2     rt nhsrdforum thank you research note for crea...  \n",
       "3     rt highwiretalk former pfizer vp and virologis...  \n",
       "4     rt peterhotez i think it s important that we d...  \n",
       "...                                                 ...  \n",
       "6412  pin code kamala nehru pmcgvaccines covaxin min...  \n",
       "6413  minute interview with the inventor of mrna vac...  \n",
       "6414  rt shawajason liars you tried to load off your...  \n",
       "6415  rt kalainh as of june th t amp t has administe...  \n",
       "6416  rt whoafro africa needs millions more doses he...  \n",
       "\n",
       "[6417 rows x 4 columns]"
      ],
      "text/html": "<div>\n<style scoped>\n    .dataframe tbody tr th:only-of-type {\n        vertical-align: middle;\n    }\n\n    .dataframe tbody tr th {\n        vertical-align: top;\n    }\n\n    .dataframe thead th {\n        text-align: right;\n    }\n</style>\n<table border=\"1\" class=\"dataframe\">\n  <thead>\n    <tr style=\"text-align: right;\">\n      <th></th>\n      <th>sentiment</th>\n      <th>lang</th>\n      <th>hashtags</th>\n      <th>clean_text</th>\n    </tr>\n  </thead>\n  <tbody>\n    <tr>\n      <th>0</th>\n      <td>1</td>\n      <td>en</td>\n      <td></td>\n      <td>rt telglobalhealth africa is in the midst of a...</td>\n    </tr>\n    <tr>\n      <th>1</th>\n      <td>1</td>\n      <td>en</td>\n      <td></td>\n      <td>rt globalhlthtwit dr moeti is head of who in a...</td>\n    </tr>\n    <tr>\n      <th>2</th>\n      <td>1</td>\n      <td>en</td>\n      <td>red4research</td>\n      <td>rt nhsrdforum thank you research note for crea...</td>\n    </tr>\n    <tr>\n      <th>3</th>\n      <td>1</td>\n      <td>en</td>\n      <td></td>\n      <td>rt highwiretalk former pfizer vp and virologis...</td>\n    </tr>\n    <tr>\n      <th>4</th>\n      <td>1</td>\n      <td>en</td>\n      <td></td>\n      <td>rt peterhotez i think it s important that we d...</td>\n    </tr>\n    <tr>\n      <th>...</th>\n      <td>...</td>\n      <td>...</td>\n      <td>...</td>\n      <td>...</td>\n    </tr>\n    <tr>\n      <th>6412</th>\n      <td>-1</td>\n      <td>en</td>\n      <td></td>\n      <td>pin code kamala nehru pmcgvaccines covaxin min...</td>\n    </tr>\n    <tr>\n      <th>6413</th>\n      <td>-1</td>\n      <td>en</td>\n      <td>covid19</td>\n      <td>minute interview with the inventor of mrna vac...</td>\n    </tr>\n    <tr>\n      <th>6414</th>\n      <td>-1</td>\n      <td>en</td>\n      <td></td>\n      <td>rt shawajason liars you tried to load off your...</td>\n    </tr>\n    <tr>\n      <th>6415</th>\n      <td>-1</td>\n      <td>en</td>\n      <td>covid19</td>\n      <td>rt kalainh as of june th t amp t has administe...</td>\n    </tr>\n    <tr>\n      <th>6416</th>\n      <td>1</td>\n      <td>en</td>\n      <td>covid19</td>\n      <td>rt whoafro africa needs millions more doses he...</td>\n    </tr>\n  </tbody>\n</table>\n<p>6417 rows × 4 columns</p>\n</div>"
     },
     "metadata": {},
     "execution_count": 25
    }
   ],
   "source": [
    "topic_model_data = model_tweets.copy(deep=True)\n",
    "topic_model_data"
   ]
  },
  {
   "source": [
    "Tokenizing words"
   ],
   "cell_type": "markdown",
   "metadata": {}
  },
  {
   "cell_type": "code",
   "execution_count": 26,
   "metadata": {},
   "outputs": [
    {
     "output_type": "stream",
     "name": "stderr",
     "text": [
      "C:\\Python38\\lib\\site-packages\\ipykernel\\ipkernel.py:283: DeprecationWarning: `should_run_async` will not call `transform_cell` automatically in the future. Please pass the result to `transformed_cell` argument and any exception that happen during thetransform in `preprocessing_exc_tuple` in IPython 7.17 and above.\n  and should_run_async(code)\n"
     ]
    }
   ],
   "source": [
    "def get_hastags_words_list():\n",
    "    hashtagList = []\n",
    "    for hashtags in topic_model_data.hashtags:\n",
    "        if(hashtags != \"\"):\n",
    "            hashtagList += hashtags.split(',')\n",
    "\n",
    "    return hashtagList\n",
    "\n",
    "hashtag = get_hastags_words_list()\n",
    "\n",
    "data = [word for sentence in topic_model_data.clean_text for word in sentence.split(' ')]"
   ]
  },
  {
   "cell_type": "code",
   "execution_count": 27,
   "metadata": {},
   "outputs": [
    {
     "output_type": "stream",
     "name": "stderr",
     "text": [
      "C:\\Python38\\lib\\site-packages\\ipykernel\\ipkernel.py:283: DeprecationWarning: `should_run_async` will not call `transform_cell` automatically in the future. Please pass the result to `transformed_cell` argument and any exception that happen during thetransform in `preprocessing_exc_tuple` in IPython 7.17 and above.\n  and should_run_async(code)\n"
     ]
    },
    {
     "output_type": "execute_result",
     "data": {
      "text/plain": [
       "['red4research', 'wecandothis', 'covid19', 'wecandothis', 'cuban']"
      ]
     },
     "metadata": {},
     "execution_count": 27
    }
   ],
   "source": [
    "hashtag[:5]"
   ]
  },
  {
   "cell_type": "code",
   "execution_count": 28,
   "metadata": {},
   "outputs": [
    {
     "output_type": "stream",
     "name": "stderr",
     "text": [
      "C:\\Python38\\lib\\site-packages\\ipykernel\\ipkernel.py:283: DeprecationWarning: `should_run_async` will not call `transform_cell` automatically in the future. Please pass the result to `transformed_cell` argument and any exception that happen during thetransform in `preprocessing_exc_tuple` in IPython 7.17 and above.\n  and should_run_async(code)\n"
     ]
    },
    {
     "output_type": "execute_result",
     "data": {
      "text/plain": [
       "['rt',\n",
       " 'telglobalhealth',\n",
       " 'africa',\n",
       " 'is',\n",
       " 'in',\n",
       " 'the',\n",
       " 'midst',\n",
       " 'of',\n",
       " 'a',\n",
       " 'full']"
      ]
     },
     "metadata": {},
     "execution_count": 28
    }
   ],
   "source": [
    "data[:10]"
   ]
  },
  {
   "cell_type": "code",
   "execution_count": 29,
   "metadata": {},
   "outputs": [
    {
     "output_type": "stream",
     "name": "stderr",
     "text": [
      "C:\\Python38\\lib\\site-packages\\ipykernel\\ipkernel.py:283: DeprecationWarning: `should_run_async` will not call `transform_cell` automatically in the future. Please pass the result to `transformed_cell` argument and any exception that happen during thetransform in `preprocessing_exc_tuple` in IPython 7.17 and above.\n  and should_run_async(code)\n"
     ]
    },
    {
     "output_type": "execute_result",
     "data": {
      "text/plain": [
       "['rt', 'telglobalhealth', 'africa', 'is', 'in']"
      ]
     },
     "metadata": {},
     "execution_count": 29
    }
   ],
   "source": [
    "data_words = data + hashtag\n",
    "data_words = [word for word in data_words if word != '']\n",
    "data_words[:5]"
   ]
  },
  {
   "source": [
    "Creating bigram and trigram models"
   ],
   "cell_type": "markdown",
   "metadata": {}
  },
  {
   "cell_type": "code",
   "execution_count": 30,
   "metadata": {},
   "outputs": [
    {
     "output_type": "stream",
     "name": "stderr",
     "text": [
      "C:\\Python38\\lib\\site-packages\\ipykernel\\ipkernel.py:283: DeprecationWarning: `should_run_async` will not call `transform_cell` automatically in the future. Please pass the result to `transformed_cell` argument and any exception that happen during thetransform in `preprocessing_exc_tuple` in IPython 7.17 and above.\n",
      "  and should_run_async(code)\n",
      "['r', 't']\n"
     ]
    }
   ],
   "source": [
    "# Build the bigram and trigram models\n",
    "bigram = gensim.models.Phrases(data_words, min_count=5, threshold=100) # higher threshold fewer phrases.\n",
    "trigram = gensim.models.Phrases(bigram[data_words], threshold=100)\n",
    "# Faster way to get a sentence clubbed as a trigram/bigram\n",
    "bigram_mod = gensim.models.phrases.Phraser(bigram)\n",
    "trigram_mod = gensim.models.phrases.Phraser(trigram)\n",
    "# See trigram example\n",
    "print(trigram_mod[bigram_mod[data_words[0]]])"
   ]
  },
  {
   "source": [
    "Removing Stopwords, making bigrams and lemmatization"
   ],
   "cell_type": "markdown",
   "metadata": {}
  },
  {
   "cell_type": "code",
   "execution_count": 31,
   "metadata": {},
   "outputs": [
    {
     "output_type": "stream",
     "name": "stderr",
     "text": [
      "C:\\Python38\\lib\\site-packages\\ipykernel\\ipkernel.py:283: DeprecationWarning: `should_run_async` will not call `transform_cell` automatically in the future. Please pass the result to `transformed_cell` argument and any exception that happen during thetransform in `preprocessing_exc_tuple` in IPython 7.17 and above.\n  and should_run_async(code)\n"
     ]
    }
   ],
   "source": [
    "# Define function for stopwords, bigrams, trigrams and lemmatization\n",
    "def remove_stopwords(texts):\n",
    "    return [[word for word in simple_preprocess(str(doc)) if word not in stop_words] for doc in texts]\n",
    "\n",
    "def make_bigrams(texts):\n",
    "    return [bigram_mod[doc] for doc in texts]\n",
    "\n",
    "def make_trigrams(texts):\n",
    "    return [trigram_mod[bigram_mod[doc]] for doc in texts]\n",
    "\n",
    "def lemmatization(texts, allowed_postags=['NOUN', 'ADJ', 'VERB', 'ADV']):\n",
    "    texts_out = []\n",
    "    for sent in texts:\n",
    "        doc = nlp(\" \".join(sent)) \n",
    "        texts_out.append([token.lemma_ for token in doc if token.pos_ in allowed_postags])\n",
    "    return texts_out"
   ]
  },
  {
   "cell_type": "code",
   "execution_count": 32,
   "metadata": {},
   "outputs": [
    {
     "output_type": "stream",
     "name": "stderr",
     "text": [
      "C:\\Python38\\lib\\site-packages\\ipykernel\\ipkernel.py:283: DeprecationWarning: `should_run_async` will not call `transform_cell` automatically in the future. Please pass the result to `transformed_cell` argument and any exception that happen during thetransform in `preprocessing_exc_tuple` in IPython 7.17 and above.\n",
      "  and should_run_async(code)\n",
      "[[]]\n"
     ]
    }
   ],
   "source": [
    "# Remove Stop Words\n",
    "data_words_nostops = remove_stopwords(data_words)\n",
    "\n",
    "# Form Bigrams\n",
    "data_words_bigrams = make_bigrams(data_words_nostops)\n",
    "\n",
    "# Initialize spacy 'en' model, keeping only tagger component (for efficiency)\n",
    "# python3 -m spacy download en\n",
    "nlp = spacy.load('en_core_web_sm', disable=['parser', 'ner'])\n",
    "\n",
    "# Do lemmatization keeping only noun, adj, vb, adv\n",
    "data_lemmatized = lemmatization(data_words_bigrams, allowed_postags=['NOUN', 'ADJ', 'VERB', 'ADV'])\n",
    "\n",
    "print(data_lemmatized[:1])"
   ]
  },
  {
   "cell_type": "code",
   "execution_count": 33,
   "metadata": {},
   "outputs": [
    {
     "output_type": "stream",
     "name": "stderr",
     "text": [
      "C:\\Python38\\lib\\site-packages\\ipykernel\\ipkernel.py:283: DeprecationWarning: `should_run_async` will not call `transform_cell` automatically in the future. Please pass the result to `transformed_cell` argument and any exception that happen during thetransform in `preprocessing_exc_tuple` in IPython 7.17 and above.\n  and should_run_async(code)\n"
     ]
    },
    {
     "output_type": "execute_result",
     "data": {
      "text/plain": [
       "[['telglobalhealth'], ['africa'], ['midst'], ['full'], ['blow']]"
      ]
     },
     "metadata": {},
     "execution_count": 33
    }
   ],
   "source": [
    "data_lemmatized = [word for word in data_lemmatized if word != []]\n",
    "data_lemmatized[:5]"
   ]
  },
  {
   "source": [
    "Create Dictionary and Corpus needed for Topic Modeling"
   ],
   "cell_type": "markdown",
   "metadata": {}
  },
  {
   "cell_type": "code",
   "execution_count": 34,
   "metadata": {
    "tags": [
     "outputPrepend"
    ]
   },
   "outputs": [
    {
     "output_type": "stream",
     "name": "stderr",
     "text": [
      "], [(64, 1)], [(7, 1)], [(765, 1)], [(64, 1)], [(64, 1)], [(64, 1)], [(64, 1)], [(441, 1)], [(64, 1)], [(64, 1)], [(844, 1)], [(64, 1)], [(64, 1)], [(64, 1)], [(64, 1)], [(7, 1)], [(64, 1)], [(64, 1)], [(64, 1)], [(374, 1)], [(64, 1)], [(64, 1)], [(64, 1)], [(64, 1)], [(64, 1)], [(64, 1)], [(278, 1)], [(7, 1)], [(844, 1)], [(64, 1)], [(64, 1)], [(64, 1)], [(64, 1)], [(64, 1)], [(64, 1)], [(64, 1)], [(720, 1)], [(441, 1)], [(64, 1)], [(64, 1)], [(194, 1)], [(64, 1)], [(64, 1)], [(64, 1)], [(64, 1)], [(64, 1)], [(64, 1)], [(64, 1)], [(1335, 1)], [(1335, 1)], [(64, 1)], [(2380, 1)], [(7, 1)], [(2381, 1)], [(64, 1)], [(64, 1)], [(64, 1)], [(64, 1)], [(64, 1)], [(64, 1)], [(64, 1)], [(64, 1)], [(64, 1)], [(64, 1)], [(2396, 1)], [(524, 1)], [(64, 1)], [(49, 1)], [(64, 1)], [(64, 1)], [(64, 1)], [(64, 1)], [(64, 1)], [(64, 1)], [(64, 1)], [(64, 1)], [(64, 1)], [(64, 1)], [(64, 1)], [(64, 1)], [(64, 1)], [(64, 1)], [(92, 1)], [(64, 1)], [(64, 1)], [(64, 1)], [(64, 1)], [(64, 1)], [(64, 1)], [(64, 1)], [(64, 1)], [(64, 1)], [(64, 1)], [(64, 1)], [(64, 1)], [(64, 1)], [(64, 1)], [(64, 1)], [(64, 1)], [(64, 1)], [(1176, 1)], [(177, 1)], [(1176, 1)], [(64, 1)], [(64, 1)], [(290, 1)], [(64, 1)], [(64, 1)], [(64, 1)], [(64, 1)], [(64, 1)], [(7, 1)], [(64, 1)], [(2483, 1)], [(64, 1)], [(64, 1)], [(64, 1)], [(65, 1)], [(64, 1)], [(64, 1)], [(290, 1)], [(64, 1)], [(64, 1)], [(64, 1)], [(64, 1)], [(64, 1)], [(1176, 1)], [(64, 1)], [(64, 1)], [(64, 1)], [(64, 1)], [(64, 1)], [(64, 1)], [(2483, 1)], [(64, 1)], [(64, 1)], [(64, 1)], [(2353, 1)], [(92, 1)], [(64, 1)], [(64, 1)], [(64, 1)], [(374, 1)], [(7, 1)], [(92, 1)], [(64, 1)], [(64, 1)], [(64, 1)], [(64, 1)], [(64, 1)], [(64, 1)], [(409, 1)], [(64, 1)], [(64, 1)], [(1726, 1)], [(64, 1)], [(2572, 1)], [(290, 1)], [(1573, 1)], [(64, 1)], [(64, 1)], [(1, 1)], [(64, 1)], [(374, 1)], [(64, 1)], [(64, 1)], [(2593, 1)], [(64, 1)], [(374, 1)], [(64, 1)], [(64, 1)], [(64, 1)], [(64, 1)], [(2042, 1)], [(64, 1)], [(64, 1)], [(64, 1)], [(64, 1)], [(64, 1)], [(64, 1)], [(64, 1)], [(64, 1)], [(64, 1)], [(1726, 1)], [(92, 1)], [(64, 1)], [(64, 1)], [(64, 1)], [(64, 1)], [(2632, 1)], [(64, 1)], [(64, 1)], [(64, 1)], [(177, 1)], [(1, 1)], [(177, 1)], [(64, 1)], [(64, 1)], [(64, 1)], [(64, 1)], [(49, 1)], [(64, 1)], [(64, 1)], [(64, 1)], [(7, 1)], [(64, 1)], [(374, 1)], [(720, 1)], [(2353, 1)], [(64, 1)], [(720, 1)], [(64, 1)], [(64, 1)], [(64, 1)], [(374, 1)], [(64, 1)], [(64, 1)], [(278, 1)], [(7, 1)], [(374, 1)], [(64, 1)], [(374, 1)], [(64, 1)], [(92, 1)], [(64, 1)], [(64, 1)], [(1, 1)], [(374, 1)], [(278, 1)], [(64, 1)], [(64, 1)], [(64, 1)], [(92, 1)], [(64, 1)], [(64, 1)], [(64, 1)], [(374, 1)], [(64, 1)], [(64, 1)], [(64, 1)], [(64, 1)], [(64, 1)], [(64, 1)], [(64, 1)], [(7, 1)], [(65, 1)], [(720, 1)], [(64, 1)], [(7, 1)], [(64, 1)], [(64, 1)], [(64, 1)], [(64, 1)], [(64, 1)], [(64, 1)], [(64, 1)], [(1, 1)], [(64, 1)], [(1, 1)], [(1, 1)], [(64, 1)], [(1, 1)], [(64, 1)], [(64, 1)], [(64, 1)], [(64, 1)], [(64, 1)], [(64, 1)], [(64, 1)], [(64, 1)], [(7, 1)], [(64, 1)], [(1, 1)], [(1, 1)], [(1, 1)], [(64, 1)], [(2796, 1)], [(64, 1)], [(64, 1)], [(1192, 1)], [(64, 1)], [(64, 1)], [(64, 1)], [(64, 1)], [(64, 1)], [(64, 1)], [(64, 1)], [(64, 1)], [(64, 1)], [(64, 1)], [(64, 1)], [(64, 1)], [(130, 1)], [(64, 1)], [(64, 1)], [(64, 1)], [(64, 1)], [(64, 1)], [(64, 1)], [(64, 1)], [(64, 1)], [(64, 1)], [(64, 1)], [(64, 1)], [(64, 1)], [(1, 1)], [(64, 1)], [(64, 1)], [(64, 1)], [(64, 1)], [(64, 1)], [(64, 1)], [(7, 1)], [(278, 1)], [(64, 1)], [(64, 1)], [(64, 1)], [(64, 1)], [(64, 1)], [(64, 1)], [(64, 1)], [(7, 1)], [(64, 1)], [(64, 1)], [(278, 1)], [(64, 1)], [(194, 1)], [(290, 1)], [(2877, 1)], [(2880, 1)], [(64, 1)], [(64, 1)], [(374, 1)], [(64, 1)], [(64, 1)], [(64, 1)], [(64, 1)], [(1905, 1)], [(64, 1)], [(1905, 1)], [(64, 1)], [(64, 1)], [(374, 1)], [(64, 1)], [(177, 1)], [(64, 1)], [(64, 1)], [(1, 1)], [(64, 1)], [(64, 1)], [(64, 1)], [(844, 1)], [(64, 1)], [(64, 1)], [(64, 1)], [(64, 1)], [(64, 1)], [(64, 1)], [(64, 1)], [(64, 1)], [(64, 1)], [(64, 1)], [(64, 1)], [(64, 1)], [(64, 1)], [(64, 1)], [(37, 1)], [(64, 1)], [(64, 1)], [(64, 1)], [(64, 1)], [(374, 1)], [(64, 1)], [(64, 1)], [(64, 1)], [(2931, 1)], [(64, 1)], [(2933, 1)], [(64, 1)], [(64, 1)], [(64, 1)], [(1, 1)], [(64, 1)], [(64, 1)], [(64, 1)], [(64, 1)], [(276, 1)], [(64, 1)], [(64, 1)], [(1905, 1)], [(64, 1)], [(64, 1)], [(64, 1)], [(7, 1)], [(64, 1)], [(64, 1)], [(64, 1)], [(64, 1)], [(64, 1)], [(177, 1)], [(290, 1)], [(64, 1)], [(64, 1)], [(64, 1)], [(1258, 1)], [(64, 1)], [(64, 1)], [(64, 1)], [(64, 1)], [(64, 1)], [(64, 1)], [(64, 1)], [(64, 1)], [(374, 1)], [(64, 1)], [(64, 1)], [(64, 1)], [(64, 1)], [(64, 1)], [(4683, 1)], [(64, 1)], [(64, 1)], [(64, 1)], [(64, 1)], [(64, 1)], [(2989, 1)], [(64, 1)], [(64, 1)], [(64, 1)], [(64, 1)], [(64, 1)], [(64, 1)], [(64, 1)], [(64, 1)], [(64, 1)], [(64, 1)], [(64, 1)], [(64, 1)], [(64, 1)], [(64, 1)], [(64, 1)], [(64, 1)], [(3015, 1)], [(64, 1)], [(374, 1)], [(64, 1)], [(64, 1)], [(374, 1)], [(64, 1)], [(64, 1)], [(64, 1)], [(629, 1)], [(64, 1)], [(629, 1)], [(64, 1)], [(64, 1)], [(374, 1)], [(24, 1), (33, 1)], [(64, 1)], [(64, 1)], [(64, 1)], [(278, 1)], [(64, 1)], [(64, 1)], [(64, 1)], [(996, 1)], [(64, 1)], [(64, 1)], [(64, 1)], [(65, 1)], [(1, 1)], [(64, 1)], [(64, 1)], [(64, 1)], [(64, 1)], [(64, 1)], [(92, 1)], [(64, 1)], [(4684, 1)], [(629, 1)], [(64, 1)], [(64, 1)], [(64, 1)], [(64, 1)], [(3071, 1)], [(905, 1)], [(64, 1)], [(64, 1)], [(1984, 1)], [(278, 1)], [(278, 1)], [(64, 1)], [(374, 1)], [(64, 1)], [(374, 1)], [(374, 1)], [(64, 1)], [(64, 1)], [(64, 1)], [(3101, 1)], [(64, 1)], [(92, 1)], [(64, 1)], [(64, 1)], [(64, 1)], [(64, 1)], [(64, 1)], [(2931, 1)], [(2931, 1)], [(64, 1)], [(64, 1)], [(591, 1)], [(64, 1)], [(64, 1)], [(64, 1)], [(64, 1)], [(2931, 1)], [(64, 1)], [(2931, 1)], [(374, 1)], [(64, 1)], [(64, 1)], [(64, 1)], [(64, 1)], [(64, 1)], [(64, 1)], [(905, 1)], [(64, 1)], [(64, 1)], [(64, 1)], [(64, 1)], [(64, 1)], [(64, 1)], [(64, 1)], [(92, 1)], [(64, 1)], [(64, 1)], [(64, 1)], [(3162, 1)], [(374, 1)], [(64, 1)], [(64, 1)], [(64, 1)], [(64, 1)], [(3170, 1)], [(64, 1)], [(64, 1)], [(64, 1)], [(64, 1)], [(64, 1)], [(64, 1)], [(374, 1)], [(64, 1)], [(64, 1)], [(64, 1)], [(64, 1)], [(64, 1)], [(64, 1)], [(1, 1)], [(64, 1)], [(64, 1)], [(64, 1)], [(64, 1)], [(64, 1)], [(64, 1)], [(3218, 1)], [(65, 1)], [(1, 1)], [(64, 1)], [(64, 1)], [(64, 1)], [(64, 1)], [(64, 1)], [(64, 1)], [(64, 1)], [(3237, 1)], [(64, 1)], [(64, 1)], [(64, 1)], [(64, 1)], [(64, 1)], [(64, 1)], [(64, 1)], [(3250, 1)], [(64, 1)], [(64, 1)], [(3250, 1)], [(64, 1)], [(64, 1)], [(374, 1)], [(374, 1)], [(64, 1)], [(64, 1)], [(64, 1)], [(64, 1)], [(177, 1)], [(64, 1)], [(177, 1)], [(64, 1)], [(64, 1)], [(177, 1)], [(64, 1)], [(374, 1)], [(3276, 1)], [(64, 1)], [(414, 1)], [(3279, 1)], [(64, 1)], [(64, 1)], [(64, 1)], [(64, 1)], [(3282, 1)], [(629, 1)], [(64, 1)], [(7, 1)], [(64, 1)], [(7, 1)], [(65, 1)], [(64, 1)], [(64, 1)], [(64, 1)], [(64, 1)], [(64, 1)], [(3282, 1)], [(64, 1)], [(3282, 1)], [(64, 1)], [(64, 1)], [(64, 1)], [(64, 1)], [(2009, 1)], [(64, 1)], [(64, 1)], [(64, 1)], [(64, 1)], [(64, 1)], [(3318, 1)], [(64, 1)], [(64, 1)], [(64, 1)], [(64, 1)], [(64, 1)], [(64, 1)], [(64, 1)], [(64, 1)], [(64, 1)], [(64, 1)], [(64, 1)], [(64, 1)], [(64, 1)], [(65, 1)], [(64, 1)], [(64, 1)], [(64, 1)], [(64, 1)], [(3218, 1)], [(49, 1)], [(64, 1)], [(3338, 1)], [(1590, 1)], [(3338, 1)], [(64, 1)], [(64, 1)], [(3347, 1)], [(64, 1)], [(64, 1)], [(1491, 1)], [(64, 1)], [(64, 1)], [(64, 1)], [(64, 1)], [(64, 1)], [(92, 1)], [(64, 1)], [(64, 1)], [(64, 1)], [(64, 1)], [(64, 1)], [(64, 1)], [(64, 1)], [(905, 1)], [(64, 1)], [(64, 1)], [(374, 1)], [(64, 1)], [(64, 1)], [(64, 1)], [(64, 1)], [(3386, 1)], [(64, 1)], [(365, 1)], [(65, 1)], [(64, 1)], [(64, 1)], [(64, 1)], [(1268, 1)], [(3406, 1)], [(3406, 1)], [(3410, 1)], [(64, 1)], [(64, 1)], [(177, 1)], [(64, 1)], [(64, 1)], [(64, 1)], [(65, 1)], [(2009, 1)], [(2009, 1)], [(64, 1)], [(64, 1)], [(64, 1)], [(64, 1)], [(64, 1)], [(64, 1)], [(64, 1)], [(1176, 1)], [(2096, 1)], [(4685, 1)], [(2096, 1)], [(64, 1)], [(64, 1)], [(3406, 1)], [(64, 1)], [(64, 1)], [(64, 1)], [(92, 1)], [(64, 1)], [(64, 1)], [(64, 1)], [(64, 1)], [(64, 1)], [(64, 1)], [(64, 1)], [(64, 1)], [(64, 1)], [(3406, 1)], [(3406, 1)], [(64, 1)], [(64, 1)], [(64, 1)], [(64, 1)], [(92, 1)], [(64, 1)], [(64, 1)], [(3276, 1)], [(64, 1)], [(64, 1)], [(64, 1)], [(64, 1)], [(64, 1)], [(64, 1)], [(64, 1)], [(64, 1)], [(1446, 1)], [(177, 1)], [(177, 1)], [(64, 1)], [(365, 1)], [(64, 1)], [(64, 1)], [(64, 1)], [(3479, 1)], [(64, 1)], [(64, 1)], [(64, 1)], [(64, 1)], [(64, 1)], [(64, 1)], [(64, 1)], [(64, 1)], [(64, 1)], [(3237, 1)], [(1946, 1)], [(64, 1)], [(64, 1)], [(64, 1)], [(64, 1)], [(177, 1)], [(1590, 1)], [(64, 1)], [(64, 1)], [(64, 1)], [(64, 1)], [(64, 1)], [(64, 1)], [(64, 1)], [(64, 1)], [(64, 1)], [(64, 1)], [(64, 1)], [(64, 1)], [(64, 1)], [(64, 1)], [(64, 1)], [(64, 1)], [(64, 1)], [(64, 1)], [(64, 1)], [(64, 1)], [(64, 1)], [(64, 1)], [(64, 1)], [(64, 1)], [(64, 1)], [(64, 1)], [(64, 1)], [(64, 1)], [(64, 1)], [(64, 1)], [(64, 1)], [(64, 1)], [(64, 1)], [(64, 1)], [(64, 1)], [(64, 1)], [(64, 1)], [(64, 1)], [(2880, 1)], [(64, 1)], [(64, 1)], [(64, 1)], [(64, 1)], [(64, 1)], [(64, 1)], [(64, 1)], [(64, 1)], [(3539, 1)], [(64, 1)], [(64, 1)], [(1446, 1)], [(64, 1)], [(374, 1)], [(374, 1)], [(64, 1)], [(64, 1)], [(64, 1)], [(65, 1)], [(64, 1)], [(64, 1)], [(64, 1)], [(3548, 1)], [(64, 1)], [(64, 1)], [(64, 1)], [(64, 1)], [(3554, 1)], [(64, 1)], [(64, 1)], [(64, 1)], [(64, 1)], [(64, 1)], [(64, 1)], [(64, 1)], [(374, 1)], [(64, 1)], [(64, 1)], [(64, 1)], [(64, 1)], [(64, 1)], [(64, 1)], [(64, 1)], [(64, 1)], [(64, 1)], [(64, 1)], [(64, 1)], [(64, 1)], [(64, 1)], [(65, 1)], [(64, 1)], [(64, 1)], [(64, 1)], [(64, 1)], [(64, 1)], [(64, 1)], [(64, 1)], [(64, 1)], [(64, 1)], [(64, 1)], [(64, 1)], [(64, 1)], [(64, 1)], [(64, 1)], [(64, 1)], [(64, 1)], [(64, 1)], [(64, 1)], [(64, 1)], [(64, 1)], [(64, 1)], [(64, 1)], [(64, 1)], [(2880, 1)], [(64, 1)], [(64, 1)], [(64, 1)], [(3600, 1)], [(2880, 1)], [(64, 1)], [(64, 1)], [(64, 1)], [(64, 1)], [(64, 1)], [(278, 1)], [(64, 1)], [(3609, 1)], [(64, 1)], [(64, 1)], [(3563, 1)], [(64, 1)], [(64, 1)], [(64, 1)], [(64, 1)], [(64, 1)], [(64, 1)], [(64, 1)], [(64, 1)], [(64, 1)], [(64, 1)], [(64, 1)], [(996, 1)], [(64, 1)], [(64, 1)], [(64, 1)], [(64, 1)], [(64, 1)], [(441, 1)], [(4686, 1)], [(64, 1)], [(64, 1)], [(64, 1)], [(64, 1)], [(64, 1)], [(64, 1)], [(64, 1)], [(64, 1)], [(3641, 1)], [(64, 1)], [(64, 1)], [(64, 1)], [(64, 1)], [(64, 1)], [(3652, 1)], [(64, 1)], [(64, 1)], [(64, 1)], [(64, 1)], [(64, 1)], [(64, 1)], [(278, 1)], [(65, 1)], [(64, 1)], [(64, 1)], [(64, 1)], [(64, 1)], [(64, 1)], [(64, 1)], [(64, 1)], [(64, 1)], [(64, 1)], [(278, 1)], [(64, 1)], [(64, 1)], [(64, 1)], [(64, 1)], [(64, 1)], [(64, 1)], [(64, 1)], [(64, 1)], [(64, 1)], [(64, 1)], [(64, 1)], [(64, 1)], [(64, 1)], [(64, 1)], [(64, 1)], [(64, 1)], [(64, 1)], [(64, 1)], [(64, 1)], [(64, 1)], [(64, 1)], [(64, 1)], [(64, 1)], [(64, 1)], [(64, 1)], [(3282, 1)], [(64, 1)], [(3712, 1)], [(593, 1)], [(64, 1)], [(3406, 1)], [(64, 1)], [(64, 1)], [(1590, 1)], [(1, 1)], [(64, 1)], [(64, 1)], [(130, 1)], [(64, 1)], [(64, 1)], [(64, 1)], [(64, 1)], [(64, 1)], [(2931, 1)], [(64, 1)], [(64, 1)], [(3738, 1)], [(64, 1)], [(64, 1)], [(64, 1)], [(3738, 1)], [(64, 1)], [(64, 1)], [(64, 1)], [(64, 1)], [(64, 1)], [(64, 1)], [(64, 1)], [(64, 1)], [(64, 1)], [(64, 1)], [(64, 1)], [(64, 1)], [(64, 1)], [(64, 1)], [(64, 1)], [(64, 1)], [(1928, 1)], [(177, 1)], [(64, 1)], [(64, 1)], [(64, 1)], [(3778, 1)], [(64, 1)], [(64, 1)], [(64, 1)], [(64, 1)], [(64, 1)], [(64, 1)], [(64, 1)], [(3788, 1)], [(64, 1)], [(64, 1)], [(64, 1)], [(64, 1)], [(64, 1)], [(92, 1)], [(64, 1)], [(64, 1)], [(64, 1)], [(64, 1)], [(64, 1)], [(3797, 1)], [(64, 1)], [(64, 1)], [(64, 1)], [(64, 1)], [(64, 1)], [(64, 1)], [(64, 1)], [(64, 1)], [(1451, 1)], [(3162, 1)], [(64, 1)], [(64, 1)], [(64, 1)], [(64, 1)], [(64, 1)], [(64, 1)], [(64, 1)], [(64, 1)], [(64, 1)], [(1075, 1)], [(64, 1)], [(1075, 1)], [(1075, 1)], [(1075, 1)], [(1075, 1)], [(1075, 1)], [(1075, 1)], [(1075, 1)], [(64, 1)], [(64, 1)], [(64, 1)], [(64, 1)], [(64, 1)], [(64, 1)], [(3859, 1)], [(64, 1)], [(7, 1)], [(3867, 1)], [(64, 1)], [(177, 1)], [(64, 1)], [(64, 1)], [(64, 1)], [(593, 1)], [(64, 1)], [(64, 1)], [(64, 1)], [(64, 1)], [(64, 1)], [(64, 1)], [(64, 1)], [(64, 1)], [(64, 1)], [(64, 1)], [(64, 1)], [(374, 1)], [(64, 1)], [(374, 1)], [(64, 1)], [(64, 1)], [(374, 1)], [(64, 1)], [(3903, 1)], [(64, 1)], [(374, 1)], [(1733, 1)], [(64, 1)], [(64, 1)], [(64, 1)], [(64, 1)], [(64, 1)], [(64, 1)], [(374, 1)], [(290, 1)], [(7, 1)], [(64, 1)], [(7, 1)], [(64, 1)], [(593, 1)], [(64, 1)], [(7, 1)], [(593, 1)], [(593, 1)], [(64, 1)], [(64, 1)], [(7, 1)], [(593, 1)], [(7, 1)], [(64, 1)], [(64, 1)], [(7, 1)], [(7, 1)], [(7, 1)], [(64, 1)], [(7, 1)], [(374, 1)], [(290, 1)], [(64, 1)], [(290, 1)], [(64, 1)], [(64, 1)], [(64, 1)], [(7, 1)], [(64, 1)], [(7, 1)], [(7, 1)], [(64, 1)], [(7, 1)], [(64, 1)], [(374, 1)], [(64, 1)], [(64, 1)], [(7, 1)], [(49, 1)], [(374, 1)], [(64, 1)], [(7, 1)], [(7, 1)], [(64, 1)], [(64, 1)], [(64, 1)], [(7, 1)], [(64, 1)], [(7, 1)], [(7, 1)], [(3972, 1)], [(65, 1)], [(64, 1)], [(64, 1)], [(7, 1)], [(64, 1)], [(64, 1)], [(64, 1)], [(7, 1)], [(64, 1)], [(7, 1)], [(278, 1)], [(64, 1)], [(64, 1)], [(64, 1)], [(7, 1)], [(194, 1)], [(64, 1)], [(278, 1)], [(3983, 1)], [(7, 1)], [(720, 1)], [(64, 1)], [(64, 1)], [(64, 1)], [(65, 1)], [(64, 1)], [(92, 1)], [(3972, 1)], [(64, 1)], [(7, 1)], [(64, 1)], [(64, 1)], [(64, 1)], [(49, 1)], [(762, 1)], [(64, 1)], [(64, 1)], [(64, 1)], [(7, 1)], [(3983, 1)], [(64, 1)], [(64, 1)], [(49, 1)], [(64, 1)], [(64, 1)], [(4003, 1)], [(64, 1)], [(64, 1)], [(64, 1)], [(278, 1)], [(3162, 1)], [(64, 1)], [(64, 1)], [(64, 1)], [(7, 1)], [(389, 1)], [(389, 1)], [(64, 1)], [(593, 1)], [(64, 1)], [(64, 1)], [(64, 1)], [(278, 1)], [(64, 1)], [(64, 1)], [(64, 1)], [(4048, 1)], [(64, 1)], [(7, 1)], [(762, 1)], [(1, 1)], [(64, 1)], [(4048, 1)], [(278, 1)], [(64, 1)], [(64, 1)], [(64, 1)], [(64, 1)], [(64, 1)], [(278, 1)], [(278, 1)], [(64, 1)], [(64, 1)], [(64, 1)], [(64, 1)], [(64, 1)], [(64, 1)], [(64, 1)], [(3282, 1)], [(64, 1)], [(64, 1)], [(3282, 1)], [(64, 1)], [(64, 1)], [(64, 1)], [(64, 1)], [(398, 1)], [(64, 1)], [(64, 1)], [(64, 1)], [(64, 1)], [(64, 1)], [(64, 1)], [(619, 1)], [(64, 1)], [(64, 1)], [(619, 1)], [(64, 1)], [(64, 1)], [(374, 1)], [(619, 1)], [(619, 1)], [(64, 1)], [(64, 1)], [(64, 1)], [(64, 1)], [(64, 1)], [(64, 1)], [(64, 1)], [(4114, 1)], [(64, 1)], [(64, 1)], [(7, 1)], [(64, 1)], [(64, 1)], [(2120, 1)], [(4133, 1)], [(64, 1)], [(64, 1)], [(64, 1)], [(905, 1)], [(64, 1)], [(64, 1)], [(4141, 1)], [(64, 1)], [(64, 1)], [(290, 1)], [(64, 1)], [(64, 1)], [(64, 1)], [(64, 1)], [(64, 1)], [(64, 1)], [(64, 1)], [(1268, 1)], [(1647, 1)], [(4165, 1)], [(64, 1)], [(64, 1)], [(64, 1)], [(64, 1)], [(4170, 1)], [(7, 1)], [(64, 1)], [(7, 1)], [(64, 1)], [(64, 1)], [(64, 1)], [(64, 1)], [(64, 1)], [(1, 1)], [(7, 1)], [(7, 1)], [(7, 1)], [(64, 1)], [(64, 1)], [(64, 1)], [(7, 1)], [(64, 1)], [(64, 1)], [(64, 1)], [(64, 1)], [(64, 1)], [(64, 1)], [(64, 1)], [(7, 1)], [(64, 1)], [(64, 1)], [(64, 1)], [(64, 1)], [(64, 1)], [(7, 1)], [(64, 1)], [(7, 1)], [(64, 1)], [(64, 1)], [(64, 1)], [(64, 1)], [(64, 1)], [(64, 1)], [(64, 1)], [(64, 1)], [(64, 1)], [(374, 1)], [(2120, 1)], [(64, 1)], [(7, 1)], [(64, 1)], [(4048, 1)], [(4048, 1)], [(64, 1)], [(64, 1)], [(64, 1)], [(64, 1)], [(64, 1)], [(996, 1)], [(64, 1)], [(64, 1)], [(64, 1)], [(64, 1)], [(290, 1)], [(64, 1)], [(4048, 1)], [(64, 1)], [(64, 1)], [(7, 1)], [(4048, 1)], [(64, 1)], [(64, 1)], [(3972, 1)], [(64, 1)], [(64, 1)], [(64, 1)], [(4048, 1)], [(64, 1)], [(64, 1)], [(64, 1)], [(7, 1)], [(64, 1)], [(64, 1)], [(64, 1)], [(64, 1)], [(64, 1)], [(3972, 1)], [(64, 1)], [(64, 1)], [(374, 1)], [(64, 1)], [(374, 1)], [(7, 1)], [(64, 1)], [(64, 1)], [(905, 1)], [(3641, 1)], [(64, 1)], [(4048, 1)], [(4048, 1)], [(278, 1)], [(64, 1)], [(64, 1)], [(64, 1)], [(720, 1)], [(720, 1)], [(720, 1)], [(64, 1)], [(720, 1)], [(64, 1)], [(278, 1)], [(64, 1)], [(64, 1)], [(64, 1)], [(4279, 1)], [(64, 1)], [(64, 1)], [(64, 1)], [(3972, 1)], [(64, 1)], [(149, 1)], [(1, 1)], [(64, 1)], [(64, 1)], [(64, 1)], [(64, 1)], [(720, 1)], [(7, 1)], [(64, 1)], [(64, 1)], [(3600, 1)], [(64, 1)], [(374, 1)], [(2009, 1)], [(194, 1)], [(64, 1)], [(4048, 1)], [(4333, 1)], [(64, 1)], [(64, 1)], [(64, 1)], [(64, 1)], [(1881, 1)], [(64, 1)], [(374, 1)], [(64, 1)], [(64, 1)], [(64, 1)], [(64, 1)], [(64, 1)], [(64, 1)], [(64, 1)], [(64, 1)], [(64, 1)], [(64, 1)], [(64, 1), (177, 1)], [(64, 1)], [(441, 1)], [(64, 1)], [(7, 1)], [(64, 1)], [(4687, 1)], [(1, 1)], [(64, 1)], [(2118, 1)], [(64, 1)], [(64, 1)], [(64, 1)], [(64, 1)], [(374, 1)], [(64, 1)], [(7, 1)], [(64, 1)], [(64, 1)], [(64, 1)], [(64, 1)], [(4374, 1)], [(49, 1)], [(64, 1)], [(64, 1)], [(64, 1)], [(64, 1)], [(64, 1)], [(64, 1)], [(2931, 1)], [(2931, 1)], [(64, 1)], [(64, 1)], [(64, 1)], [(64, 1)], [(64, 1)], [(64, 1)], [(64, 1)], [(64, 1)], [(64, 1)], [(64, 1)], [(64, 1)], [(64, 1)], [(720, 1)], [(64, 1)], [(593, 1)], [(593, 1)], [(4165, 1)], [(64, 1)], [(64, 1)], [(950, 1)], [(64, 1)], [(64, 1)], [(64, 1)], [(64, 1)], [(64, 1)], [(64, 1)], [(2277, 1)], [(64, 1)], [(64, 1)], [(4425, 1)], [(64, 1)], [(64, 1)], [(64, 1)], [(64, 1)], [(2277, 1)], [(374, 1)], [(64, 1)], [(64, 1)], [(7, 1)], [(64, 1)], [(64, 1)], [(64, 1)], [(64, 1)], [(64, 1)], [(65, 1)], [(290, 1)], [(374, 1)], [(92, 1)], [(64, 1)], [(64, 1)], [(64, 1)], [(3378, 1)], [(64, 1)], [(7, 1)], [(2120, 1)], [(64, 1)], [(720, 1)], [(374, 1)], [(64, 1)], [(64, 1)], [(64, 1)], [(64, 1)], [(64, 1)], [(64, 1)], [(64, 1)], [(64, 1)], [(64, 1)], [(64, 1)], [(4453, 1)], [(64, 1)], [(64, 1)], [(4455, 1)], [(64, 1)], [(64, 1)], [(64, 1)], [(374, 1)], [(64, 1)], [(64, 1)], [(64, 1)], [(64, 1)], [(3378, 1)], [(374, 1)], [(64, 1)], [(64, 1)], [(64, 1)], [(4425, 1)], [(64, 1)], [(64, 1)], [(720, 1)], [(374, 1)], [(4048, 1)], [(64, 1)], [(64, 1)], [(64, 1)], [(64, 1)], [(64, 1)], [(64, 1)], [(64, 1)], [(64, 1)], [(64, 1)], [(4498, 1)], [(64, 1)], [(64, 1)], [(4498, 1)], [(64, 1)], [(64, 1)], [(64, 1)], [(64, 1)], [(64, 1)], [(1543, 1)], [(4520, 1)], [(64, 1), (177, 1)], [(4498, 1)], [(64, 1)], [(64, 1)], [(64, 1)], [(64, 1)], [(64, 1)], [(64, 1)], [(3977, 1)], [(64, 1)], [(64, 1)], [(64, 1)], [(64, 1)], [(64, 1)], [(64, 1)], [(64, 1)], [(64, 1)], [(64, 1)], [(64, 1)], [(64, 1)], [(64, 1)], [(64, 1)], [(64, 1)], [(64, 1)], [(64, 1)], [(64, 1)], [(64, 1)], [(64, 1)], [(7, 1)], [(64, 1)], [(64, 1)], [(64, 1)], [(64, 1)], [(1, 1)], [(64, 1)], [(4455, 1)], [(64, 1)], [(64, 1)], [(64, 1)], [(64, 1)], [(64, 1)], [(64, 1)], [(64, 1)], [(4585, 1)], [(64, 1)], [(64, 1)], [(64, 1)], [(64, 1)], [(7, 1)], [(64, 1)], [(64, 1)], [(64, 1)], [(64, 1)], [(4591, 1)], [(64, 1)], [(64, 1)], [(4592, 1)], [(64, 1)], [(64, 1)], [(64, 1)], [(64, 1)], [(64, 1)], [(64, 1)], [(374, 1)], [(64, 1)], [(64, 1)], [(7, 1)], [(64, 1)], [(64, 1)], [(7, 1)], [(64, 1)], [(64, 1)], [(64, 1)], [(64, 1)], [(64, 1)], [(64, 1)], [(64, 1)], [(64, 1)], [(64, 1)], [(64, 1)], [(64, 1)], [(64, 1)], [(64, 1)], [(64, 1)], [(4688, 1)], [(276, 1)], [(3548, 1)], [(64, 1)], [(4498, 1)], [(64, 1)], [(64, 1)], [(64, 1)], [(7, 1)], [(64, 1)], [(64, 1)], [(64, 1)], [(64, 1)], [(64, 1)], [(64, 1)], [(1, 1)], [(64, 1)], [(64, 1)], [(64, 1)], [(64, 1)], [(1, 1)], [(64, 1)], [(593, 1)], [(64, 1)], [(64, 1)], [(64, 1)], [(64, 1)], [(593, 1)], [(64, 1)], [(4498, 1)], [(64, 1)], [(64, 1)], [(64, 1)], [(64, 1)], [(290, 1)], [(64, 1)], [(64, 1)], [(64, 1)], [(374, 1)], [(64, 1)], [(64, 1)], [(64, 1)], [(64, 1)], [(3427, 1)], [(64, 1)], [(4333, 1)], [(64, 1)], [(3972, 1)], [(64, 1)], [(64, 1)], [(1590, 1)], [(4455, 1)], [(7, 1)], [(64, 1)], [(3470, 1)], [(64, 1)], [(64, 1)], [(64, 1)], [(1075, 1)], [(64, 1)], [(64, 1)], [(64, 1)], [(64, 1)], [(64, 1)], [(64, 1)], [(64, 1)], [(64, 1)]]\n"
     ]
    }
   ],
   "source": [
    "# Create Dictionary \n",
    "id2word = corpora.Dictionary(data_lemmatized)  \n",
    "# Create Corpus \n",
    "texts = data_lemmatized  \n",
    "# Term Document Frequency \n",
    "corpus = [id2word.doc2bow(text) for text in texts]  \n",
    "# View \n",
    "print(corpus)"
   ]
  },
  {
   "cell_type": "code",
   "execution_count": 35,
   "metadata": {},
   "outputs": [
    {
     "output_type": "stream",
     "name": "stderr",
     "text": [
      "C:\\Python38\\lib\\site-packages\\ipykernel\\ipkernel.py:283: DeprecationWarning: `should_run_async` will not call `transform_cell` automatically in the future. Please pass the result to `transformed_cell` argument and any exception that happen during thetransform in `preprocessing_exc_tuple` in IPython 7.17 and above.\n  and should_run_async(code)\n"
     ]
    },
    {
     "output_type": "execute_result",
     "data": {
      "text/plain": [
       "[[('telglobalhealth', 1)],\n",
       " [('africa', 1)],\n",
       " [('midst', 1)],\n",
       " [('full', 1)],\n",
       " [('blow', 1)],\n",
       " [('third', 1)],\n",
       " [('wave', 1)],\n",
       " [('coronavirus', 1)],\n",
       " [('head', 1)],\n",
       " [('whoafro', 1)]]"
      ]
     },
     "metadata": {},
     "execution_count": 35
    }
   ],
   "source": [
    "# Readable View\n",
    "[[(id2word[id], freq) for id, freq in cp] for cp in corpus[:10]]"
   ]
  },
  {
   "source": [
    "Building the topic Model"
   ],
   "cell_type": "markdown",
   "metadata": {}
  },
  {
   "cell_type": "code",
   "execution_count": 36,
   "metadata": {},
   "outputs": [
    {
     "output_type": "stream",
     "name": "stderr",
     "text": [
      "C:\\Python38\\lib\\site-packages\\ipykernel\\ipkernel.py:283: DeprecationWarning: `should_run_async` will not call `transform_cell` automatically in the future. Please pass the result to `transformed_cell` argument and any exception that happen during thetransform in `preprocessing_exc_tuple` in IPython 7.17 and above.\n  and should_run_async(code)\n"
     ]
    }
   ],
   "source": [
    "lda_model = gensim.models.ldamodel.LdaModel(corpus=corpus,\n",
    "                                           id2word=id2word,\n",
    "                                           num_topics=20, \n",
    "                                           random_state=100,\n",
    "                                           update_every=1,\n",
    "                                           chunksize=100,\n",
    "                                           passes=10,\n",
    "                                           alpha='auto',\n",
    "                                           per_word_topics=True)"
   ]
  },
  {
   "cell_type": "code",
   "execution_count": 37,
   "metadata": {},
   "outputs": [
    {
     "output_type": "stream",
     "name": "stdout",
     "text": [
      "[(0,\n",
      "  '0.088*\"yet\" + 0.081*\"doctor\" + 0.048*\"roger\" + 0.000*\"ce\" + 0.000*\"yard\" + '\n",
      "  '0.000*\"baby\" + 0.000*\"girl\" + 0.000*\"guinea\" + 0.000*\"equatorial\" + '\n",
      "  '0.000*\"chinaeconomy\"'),\n",
      " (1,\n",
      "  '0.642*\"africa\" + 0.091*\"wave\" + 0.071*\"health\" + 0.058*\"good\" + '\n",
      "  '0.000*\"deltavariant\" + 0.000*\"india\" + 0.000*\"israel\" + 0.000*\"uganda\" + '\n",
      "  '0.000*\"dose\" + 0.000*\"expire\"'),\n",
      " (2,\n",
      "  '0.224*\"public\" + 0.051*\"remember\" + 0.007*\"sell\" + 0.000*\"ce\" + '\n",
      "  '0.000*\"baby\" + 0.000*\"girl\" + 0.000*\"guinea\" + 0.000*\"equatorial\" + '\n",
      "  '0.000*\"chinaeconomy\" + 0.000*\"cute\"'),\n",
      " (3,\n",
      "  '0.054*\"policy\" + 0.054*\"amazingly\" + 0.000*\"birth\" + 0.000*\"baby\" + '\n",
      "  '0.000*\"girl\" + 0.000*\"guinea\" + 0.000*\"equatorial\" + 0.000*\"chinaeconomy\" + '\n",
      "  '0.000*\"ce\" + 0.000*\"intense\"'),\n",
      " (4,\n",
      "  '0.253*\"government\" + 0.163*\"head\" + 0.051*\"rise\" + 0.031*\"courageous\" + '\n",
      "  '0.000*\"chinaeconomy\" + 0.000*\"equatorial\" + 0.000*\"guinea\" + 0.000*\"girl\" + '\n",
      "  '0.000*\"unicefafrica\" + 0.000*\"baby\"'),\n",
      " (5,\n",
      "  '0.115*\"pfizer\" + 0.055*\"atlanta\" + 0.048*\"qualified\" + 0.000*\"ce\" + '\n",
      "  '0.000*\"baby\" + 0.000*\"girl\" + 0.000*\"guinea\" + 0.000*\"equatorial\" + '\n",
      "  '0.000*\"chinaeconomy\" + 0.000*\"intense\"'),\n",
      " (6,\n",
      "  '0.228*\"blow\" + 0.043*\"realjoelsmalley\" + 0.026*\"thank\" + '\n",
      "  '0.000*\"unicefafrica\" + 0.000*\"girl\" + 0.000*\"guinea\" + 0.000*\"equatorial\" + '\n",
      "  '0.000*\"chinaeconomy\" + 0.000*\"ce\" + 0.000*\"birth\"'),\n",
      " (7,\n",
      "  '0.817*\"coronavirus\" + 0.051*\"third\" + 0.030*\"expert\" + 0.007*\"easy\" + '\n",
      "  '0.000*\"deltavariant\" + 0.000*\"israel\" + 0.000*\"india\" + 0.000*\"dose\" + '\n",
      "  '0.000*\"expire\" + 0.000*\"liar\"'),\n",
      " (8,\n",
      "  '0.309*\"dr\" + 0.000*\"ce\" + 0.000*\"unicefafrica\" + 0.000*\"baby\" + '\n",
      "  '0.000*\"girl\" + 0.000*\"guinea\" + 0.000*\"equatorial\" + 0.000*\"chinaeconomy\" + '\n",
      "  '0.000*\"cute\" + 0.000*\"birth\"'),\n",
      " (9,\n",
      "  '0.079*\"pleased\" + 0.000*\"ce\" + 0.000*\"unicefafrica\" + 0.000*\"baby\" + '\n",
      "  '0.000*\"girl\" + 0.000*\"guinea\" + 0.000*\"equatorial\" + 0.000*\"chinaeconomy\" + '\n",
      "  '0.000*\"cute\" + 0.000*\"birth\"'),\n",
      " (10,\n",
      "  '0.195*\"go\" + 0.114*\"find\" + 0.000*\"chinaeconomy\" + 0.000*\"birth\" + '\n",
      "  '0.000*\"baby\" + 0.000*\"girl\" + 0.000*\"guinea\" + 0.000*\"equatorial\" + '\n",
      "  '0.000*\"cute\" + 0.000*\"ce\"'),\n",
      " (11,\n",
      "  '0.069*\"speak\" + 0.019*\"warnedcase\" + 0.000*\"yard\" + 0.000*\"girl\" + '\n",
      "  '0.000*\"guinea\" + 0.000*\"equatorial\" + 0.000*\"chinaeconomy\" + 0.000*\"ce\" + '\n",
      "  '0.000*\"birth\" + 0.000*\"intense\"'),\n",
      " (12,\n",
      "  '0.216*\"globalhlthtwit\" + 0.051*\"cdcdirector\" + 0.000*\"ce\" + 0.000*\"intense\" '\n",
      "  '+ 0.000*\"baby\" + 0.000*\"girl\" + 0.000*\"guinea\" + 0.000*\"equatorial\" + '\n",
      "  '0.000*\"chinaeconomy\" + 0.000*\"birth\"'),\n",
      " (13,\n",
      "  '0.233*\"today\" + 0.137*\"know\" + 0.132*\"midst\" + 0.098*\"leader\" + '\n",
      "  '0.039*\"still\" + 0.031*\"medical\" + 0.000*\"deltavariant\" + 0.000*\"india\" + '\n",
      "  '0.000*\"israel\" + 0.000*\"uganda\"'),\n",
      " (14,\n",
      "  '0.992*\"covid\" + 0.000*\"telglobalhealth\" + 0.000*\"israel\" + 0.000*\"dose\" + '\n",
      "  '0.000*\"india\" + 0.000*\"expire\" + 0.000*\"war\" + 0.000*\"crime\" + 0.000*\"load\" '\n",
      "  '+ 0.000*\"try\"'),\n",
      " (15,\n",
      "  '0.858*\"vaccine\" + 0.015*\"whoafro\" + 0.007*\"crazy\" + 0.000*\"deltavariant\" + '\n",
      "  '0.000*\"india\" + 0.000*\"israel\" + 0.000*\"uganda\" + 0.000*\"dose\" + '\n",
      "  '0.000*\"expire\" + 0.000*\"palestinian\"'),\n",
      " (16,\n",
      "  '0.275*\"full\" + 0.165*\"desperate\" + 0.000*\"birth\" + 0.000*\"baby\" + '\n",
      "  '0.000*\"girl\" + 0.000*\"guinea\" + 0.000*\"equatorial\" + 0.000*\"chinaeconomy\" + '\n",
      "  '0.000*\"ce\" + 0.000*\"intense\"'),\n",
      " (17,\n",
      "  '0.200*\"moeti\" + 0.122*\"research\" + 0.000*\"red\" + 0.000*\"ce\" + '\n",
      "  '0.000*\"unicefafrica\" + 0.000*\"girl\" + 0.000*\"guinea\" + 0.000*\"equatorial\" + '\n",
      "  '0.000*\"chinaeconomy\" + 0.000*\"intense\"'),\n",
      " (18,\n",
      "  '0.496*\"amp\" + 0.000*\"birth\" + 0.000*\"yard\" + 0.000*\"girl\" + 0.000*\"guinea\" '\n",
      "  '+ 0.000*\"equatorial\" + 0.000*\"chinaeconomy\" + 0.000*\"ce\" + 0.000*\"intense\" '\n",
      "  '+ 0.000*\"unicefafrica\"'),\n",
      " (19,\n",
      "  '0.067*\"way\" + 0.053*\"hodkinson\" + 0.000*\"ce\" + 0.000*\"unicefafrica\" + '\n",
      "  '0.000*\"baby\" + 0.000*\"girl\" + 0.000*\"guinea\" + 0.000*\"equatorial\" + '\n",
      "  '0.000*\"chinaeconomy\" + 0.000*\"cute\"')]\n",
      "C:\\Python38\\lib\\site-packages\\ipykernel\\ipkernel.py:283: DeprecationWarning: `should_run_async` will not call `transform_cell` automatically in the future. Please pass the result to `transformed_cell` argument and any exception that happen during thetransform in `preprocessing_exc_tuple` in IPython 7.17 and above.\n",
      "  and should_run_async(code)\n"
     ]
    }
   ],
   "source": [
    "# Print the keyword of topics\n",
    "pprint(lda_model.print_topics())\n",
    "doc_lda = lda_model[corpus]"
   ]
  },
  {
   "source": [
    "Evaluating trained topic model using perplexity and cherence score"
   ],
   "cell_type": "markdown",
   "metadata": {}
  },
  {
   "cell_type": "code",
   "execution_count": 38,
   "metadata": {},
   "outputs": [
    {
     "output_type": "stream",
     "name": "stderr",
     "text": [
      "C:\\Python38\\lib\\site-packages\\ipykernel\\ipkernel.py:283: DeprecationWarning: `should_run_async` will not call `transform_cell` automatically in the future. Please pass the result to `transformed_cell` argument and any exception that happen during thetransform in `preprocessing_exc_tuple` in IPython 7.17 and above.\n",
      "  and should_run_async(code)\n",
      "\n",
      "Perplexity:  -23.87144830096047\n",
      "\n",
      "Coherence Score:  0.7245872265477\n"
     ]
    }
   ],
   "source": [
    "# Compute Perplexity\n",
    "perplexity_score = lda_model.log_perplexity(corpus)\n",
    "print('\\nPerplexity: ', perplexity_score)  \n",
    "# a measure of how good the model is. lower the better.\n",
    "\n",
    "# Compute Coherence Score\n",
    "coherence_model_lda = CoherenceModel(model=lda_model, texts=data_lemmatized, dictionary=id2word, coherence='c_v')\n",
    "coherence_lda = coherence_model_lda.get_coherence()\n",
    "print('\\nCoherence Score: ', coherence_lda)"
   ]
  },
  {
   "source": [
    "Visualize the topic model"
   ],
   "cell_type": "markdown",
   "metadata": {}
  },
  {
   "cell_type": "code",
   "execution_count": 39,
   "metadata": {},
   "outputs": [
    {
     "output_type": "stream",
     "name": "stderr",
     "text": [
      "C:\\Python38\\lib\\site-packages\\ipykernel\\ipkernel.py:283: DeprecationWarning: `should_run_async` will not call `transform_cell` automatically in the future. Please pass the result to `transformed_cell` argument and any exception that happen during thetransform in `preprocessing_exc_tuple` in IPython 7.17 and above.\n  and should_run_async(code)\n"
     ]
    },
    {
     "output_type": "execute_result",
     "data": {
      "text/plain": [
       "PreparedData(topic_coordinates=              x         y  topics  cluster       Freq\n",
       "topic                                                \n",
       "14     0.526404 -0.272529       1        1  29.586400\n",
       "15     0.200265  0.147384       2        1  19.204289\n",
       "1      0.170031  0.091339       3        1  11.013465\n",
       "13     0.001997 -0.015487       4        1   7.732089\n",
       "7      0.246144  0.318155       5        1   6.389000\n",
       "4     -0.051346 -0.021307       6        1   3.138714\n",
       "16    -0.061107 -0.021045       7        1   2.963679\n",
       "18    -0.051006 -0.021152       8        1   2.589579\n",
       "6     -0.077565 -0.018943       9        1   2.166022\n",
       "2     -0.078694 -0.018642      10        1   2.002311\n",
       "12    -0.079719 -0.018331      11        1   1.717549\n",
       "5     -0.082902 -0.017234      12        1   1.511704\n",
       "10    -0.076474 -0.019177      13        1   1.449681\n",
       "17    -0.075341 -0.019419      14        1   1.388373\n",
       "8     -0.076349 -0.019170      15        1   1.346756\n",
       "19    -0.087173 -0.014861      16        1   1.333382\n",
       "0     -0.082950 -0.017215      17        1   1.312622\n",
       "11    -0.088212 -0.014016      18        1   1.184181\n",
       "9     -0.088428 -0.013798      19        1   1.026993\n",
       "3     -0.087577 -0.014552      20        1   0.943212, topic_info=           Term         Freq         Total Category  logprob  loglift\n",
       "64        covid  21233.00000  21233.000000  Default  30.0000  30.0000\n",
       "65      vaccine  11910.00000  11910.000000  Default  29.0000  29.0000\n",
       "1        africa   5119.00000   5119.000000  Default  28.0000  28.0000\n",
       "7   coronavirus   3777.00000   3777.000000  Default  27.0000  27.0000\n",
       "29          amp    931.00000    931.000000  Default  26.0000  26.0000\n",
       "..          ...          ...           ...      ...      ...      ...\n",
       "21    desperate      0.12974    357.110743  Topic20  -8.5672  -3.2566\n",
       "23        thank      0.12974     44.800081  Topic20  -8.5672  -1.1808\n",
       "24     research      0.12974    126.396808  Topic20  -8.5672  -2.2180\n",
       "25         note      0.12974      3.870644  Topic20  -8.5672   1.2680\n",
       "26       create      0.12974      3.870673  Topic20  -8.5672   1.2680\n",
       "\n",
       "[1200 rows x 6 columns], token_table=      Topic      Freq             Term\n",
       "term                                  \n",
       "1         3  0.999340           africa\n",
       "68       20  0.909875        amazingly\n",
       "29        8  0.996280              amp\n",
       "59       12  0.943073          atlanta\n",
       "4         9  0.989749             blow\n",
       "56       11  0.947967      cdcdirector\n",
       "7         5  0.998900      coronavirus\n",
       "70        6  0.946638       courageous\n",
       "64        1  0.999802            covid\n",
       "74        2  0.965484            crazy\n",
       "21        7  0.988489        desperate\n",
       "71       17  0.952913           doctor\n",
       "13       15  0.988736               dr\n",
       "61        5  0.887075             easy\n",
       "18        5  0.976792           expert\n",
       "63       13  0.967273             find\n",
       "3         7  0.993825             full\n",
       "12       11  0.987598   globalhlthtwit\n",
       "53       13  0.984405               go\n",
       "15        3  0.991760             good\n",
       "75        6  0.993308       government\n",
       "8         6  0.989732             head\n",
       "17        3  0.993319           health\n",
       "73       16  0.942177        hodkinson\n",
       "20        4  0.994825             know\n",
       "19        4  0.994349           leader\n",
       "42        4  0.980902          medical\n",
       "2         4  0.994652            midst\n",
       "14       14  0.979592            moeti\n",
       "37       12  0.970946           pfizer\n",
       "57       19  0.946226          pleased\n",
       "76       20  0.909846           policy\n",
       "16       10  0.988774           public\n",
       "69       12  0.934971        qualified\n",
       "66        9  0.950889  realjoelsmalley\n",
       "60       10  0.952929         remember\n",
       "24       14  0.973126         research\n",
       "11        6  0.966495             rise\n",
       "72       17  0.921204            roger\n",
       "48       10  0.711458             sell\n",
       "44       18  0.939077            speak\n",
       "51        4  0.986347            still\n",
       "0         1  0.552771  telglobalhealth\n",
       "23        9  0.915177            thank\n",
       "5         5  0.985123            third\n",
       "34        4  0.996979            today\n",
       "65        2  0.999727          vaccine\n",
       "10       18  0.807502       warnedcase\n",
       "6         3  0.995274             wave\n",
       "62       16  0.940440              way\n",
       "9         2  0.982746          whoafro\n",
       "67       17  0.962049              yet, R=30, lambda_step=0.01, plot_opts={'xlab': 'PC1', 'ylab': 'PC2'}, topic_order=[15, 16, 2, 14, 8, 5, 17, 19, 7, 3, 13, 6, 11, 18, 9, 20, 1, 12, 10, 4])"
      ],
      "text/html": "\n<link rel=\"stylesheet\" type=\"text/css\" href=\"https://cdn.jsdelivr.net/gh/bmabey/pyLDAvis@3.3.1/pyLDAvis/js/ldavis.v1.0.0.css\">\n\n\n<div id=\"ldavis_el1422025202153332327014712136\"></div>\n<script type=\"text/javascript\">\n\nvar ldavis_el1422025202153332327014712136_data = {\"mdsDat\": {\"x\": [0.5264036595265952, 0.20026542180623835, 0.17003126440685382, 0.0019970406098671492, 0.2461438489976055, -0.0513456957665483, -0.06110689191679473, -0.05100608252762148, -0.07756468483788014, -0.07869407045650018, -0.07971946181819078, -0.08290210475976606, -0.07647406637108616, -0.07534051287502037, -0.07634854580402642, -0.08717267727156038, -0.0829495865200199, -0.08821229477155443, -0.08842792272410968, -0.0875766369264797], \"y\": [-0.2725289615604995, 0.14738421946983432, 0.09133946083058773, -0.015487162116927428, 0.3181545350372224, -0.021306835472130015, -0.021044959960741724, -0.02115187254342488, -0.018943020134248145, -0.018642219605685323, -0.018330557986066764, -0.017233980805695343, -0.019177310022942203, -0.01941949727091866, -0.01917012349372359, -0.014860719950521137, -0.017215044121000254, -0.014015865629835204, -0.013797709736489968, -0.014552374926793862], \"topics\": [1, 2, 3, 4, 5, 6, 7, 8, 9, 10, 11, 12, 13, 14, 15, 16, 17, 18, 19, 20], \"cluster\": [1, 1, 1, 1, 1, 1, 1, 1, 1, 1, 1, 1, 1, 1, 1, 1, 1, 1, 1, 1], \"Freq\": [29.586399874608198, 19.204289160274076, 11.013464779741449, 7.732088788101153, 6.389000402452146, 3.138713849193822, 2.9636785879201506, 2.589578990368546, 2.166021658837989, 2.002311117113773, 1.717548530853422, 1.5117040348930613, 1.4496808046083314, 1.3883729685039803, 1.3467559742574478, 1.3333818398046624, 1.3126219924044862, 1.184181228363097, 1.0269929199133976, 0.9432124977868113]}, \"tinfo\": {\"Term\": [\"covid\", \"vaccine\", \"africa\", \"coronavirus\", \"amp\", \"today\", \"full\", \"government\", \"know\", \"midst\", \"wave\", \"blow\", \"leader\", \"dr\", \"head\", \"public\", \"desperate\", \"health\", \"globalhlthtwit\", \"good\", \"go\", \"moeti\", \"third\", \"pfizer\", \"research\", \"still\", \"find\", \"medical\", \"rise\", \"yet\", \"covid\", \"telglobalhealth\", \"israel\", \"dose\", \"india\", \"expire\", \"war\", \"crime\", \"load\", \"try\", \"liar\", \"shawajason\", \"capacity\", \"deltavariant\", \"case\", \"age\", \"limit\", \"min\", \"pin\", \"code\", \"covaxin\", \"people\", \"provide\", \"need\", \"uganda\", \"pmcgvaccine\", \"south\", \"free\", \"palestinian\", \"cuban\", \"vaccine\", \"whoafro\", \"crazy\", \"deltavariant\", \"india\", \"israel\", \"uganda\", \"dose\", \"expire\", \"palestinian\", \"war\", \"crime\", \"load\", \"try\", \"shawajason\", \"liar\", \"cuban\", \"china\", \"astrazeneca\", \"capacity\", \"bihar\", \"case\", \"age\", \"min\", \"limit\", \"pin\", \"code\", \"tanzania\", \"covaxin\", \"provide\", \"africa\", \"wave\", \"health\", \"good\", \"deltavariant\", \"uganda\", \"israel\", \"india\", \"palestinian\", \"cuban\", \"expire\", \"dose\", \"war\", \"crime\", \"load\", \"shawajason\", \"liar\", \"try\", \"china\", \"astrazeneca\", \"bihar\", \"capacity\", \"age\", \"tanzania\", \"case\", \"min\", \"limit\", \"pin\", \"code\", \"vaccinequity\", \"people\", \"covaxin\", \"today\", \"know\", \"midst\", \"leader\", \"still\", \"medical\", \"nhsrdforum\", \"amazing\", \"campaign\", \"peterhotez\", \"brain\", \"aid\", \"agent\", \"notice\", \"victim\", \"stroke\", \"pass\", \"pathetically\", \"disrespectful\", \"mere\", \"hund\", \"falcicchio\", \"join\", \"training\", \"dc\", \"corpsthey\", \"door\", \"attend\", \"vaxhunterscan\", \"mb\", \"la\", \"individual\", \"jab\", \"guy\", \"straight\", \"instead\", \"junk\", \"attention\", \"drive\", \"rgrosjean\", \"excited\", \"race\", \"roadamerica\", \"weekend\", \"gogiveone\", \"true\", \"production\", \"sivathambisetty\", \"page\", \"ad\", \"prion\", \"title\", \"modern\", \"tmv\", \"tighten\", \"stat\", \"medium\", \"trust\", \"bihar\", \"migo\", \"chuckschumer\", \"ctru\", \"dumaguete\", \"tanzania\", \"southkorea\", \"exercise\", \"sleevesupplacer\", \"fauciemail\", \"poorercountrie\", \"expertskisuno\", \"uninterrupted\", \"eritrea\", \"tigray\", \"nstnation\", \"joebiden\", \"zimbabwe\", \"vandalurzoo\", \"cornwall\", \"ethiopia\", \"blantyre\", \"ccpchina\", \"singaporemoh\", \"covax\", \"cabalworld\", \"vaccineequity\", \"chumakov\", \"tripswaiver\", \"actor\", \"covidvaccine\", \"askcuexpert\", \"iso\", \"unsc\", \"sarscov\", \"palestine\", \"china\", \"astrazeneca\", \"getvaccinate\", \"palestinian\", \"taiwan\", \"yuoksambath\", \"uganda\", \"cuban\", \"deltavariant\", \"vaccinequity\", \"sinovac\", \"ernreconnet\", \"goc\", \"risk\", \"india\", \"israel\", \"war\", \"crime\", \"try\", \"load\", \"shawajason\", \"liar\", \"expire\", \"dose\", \"capacity\", \"case\", \"age\", \"min\", \"limit\", \"pin\", \"coronavirus\", \"third\", \"expert\", \"easy\", \"nhsrdforum\", \"amazing\", \"campaign\", \"peterhotez\", \"brain\", \"aid\", \"agent\", \"notice\", \"victim\", \"stroke\", \"pass\", \"pathetically\", \"disrespectful\", \"mere\", \"hund\", \"falcicchio\", \"join\", \"training\", \"dc\", \"corpsthey\", \"door\", \"attend\", \"vaxhunterscan\", \"mb\", \"winnipeg\", \"scurfield\", \"mugkip\", \"shib\", \"mrk\", \"pollachi\", \"stephencurry\", \"tedro\", \"mom\", \"bease\", \"beansprout\", \"dammit\", \"protective\", \"brazilian\", \"actual\", \"diddr\", \"nothingisunreal\", \"lucienmusique\", \"jm\", \"heretorebuild\", \"ab\", \"abila\", \"confirm\", \"trtworld\", \"arrive\", \"careful\", \"fix\", \"protein\", \"bastard\", \"ryan\", \"petestone\", \"boblefridge\", \"twist\", \"deendayal\", \"memorial\", \"hospit\", \"ramchanderrao\", \"jammu\", \"gujjar\", \"bakarwal\", \"bjp\", \"bmcc\", \"pvtvaccine\", \"aged\", \"conduct\", \"piece\", \"presentation\", \"informative\", \"extreme\", \"wake\", \"bjgmc\", \"staff\", \"shoot\", \"technology\", \"woman\", \"reach\", \"remote\", \"leave\", \"digital\", \"vibe\", \"shawajason\", \"liar\", \"try\", \"load\", \"war\", \"crime\", \"expire\", \"provide\", \"pin\", \"code\", \"capacity\", \"min\", \"limit\", \"case\", \"people\", \"age\", \"south\", \"free\", \"designer\", \"zweli\", \"givenkazeni\", \"firework\", \"graphic\", \"new\", \"pmcgvaccine\", \"base\", \"dose\", \"israel\", \"covaxin\", \"india\", \"need\", \"uganda\", \"deltavariant\", \"cuban\", \"palestinian\", \"china\", \"government\", \"head\", \"rise\", \"courageous\", \"nhsrdforum\", \"amazing\", \"campaign\", \"peterhotez\", \"brain\", \"aid\", \"agent\", \"notice\", \"victim\", \"stroke\", \"pass\", \"pathetically\", \"disrespectful\", \"mere\", \"hund\", \"falcicchio\", \"join\", \"training\", \"dc\", \"corpsthey\", \"door\", \"attend\", \"vaxhunterscan\", \"mb\", \"winnipeg\", \"scurfield\", \"telglobalhealth\", \"africa\", \"midst\", \"full\", \"blow\", \"third\", \"wave\", \"coronavirus\", \"whoafro\", \"warnedcase\", \"globalhlthtwit\", \"dr\", \"moeti\", \"good\", \"public\", \"health\", \"expert\", \"leader\", \"know\", \"desperate\", \"thank\", \"research\", \"note\", \"create\", \"full\", \"desperate\", \"nhsrdforum\", \"amazing\", \"campaign\", \"peterhotez\", \"brain\", \"aid\", \"agent\", \"notice\", \"victim\", \"stroke\", \"pass\", \"pathetically\", \"disrespectful\", \"mere\", \"hund\", \"falcicchio\", \"join\", \"training\", \"dc\", \"corpsthey\", \"door\", \"attend\", \"vaxhunterscan\", \"mb\", \"winnipeg\", \"scurfield\", \"pharmacy\", \"blvd\", \"telglobalhealth\", \"africa\", \"midst\", \"blow\", \"third\", \"wave\", \"coronavirus\", \"head\", \"whoafro\", \"warnedcase\", \"rise\", \"globalhlthtwit\", \"dr\", \"moeti\", \"good\", \"public\", \"health\", \"expert\", \"leader\", \"know\", \"thank\", \"research\", \"note\", \"create\", \"amp\", \"amp\", \"nhsrdforum\", \"amazing\", \"campaign\", \"peterhotez\", \"brain\", \"aid\", \"agent\", \"notice\", \"victim\", \"stroke\", \"pass\", \"pathetically\", \"disrespectful\", \"mere\", \"hund\", \"falcicchio\", \"join\", \"training\", \"dc\", \"corpsthey\", \"door\", \"attend\", \"vaxhunterscan\", \"mb\", \"winnipeg\", \"scurfield\", \"pharmacy\", \"blvd\", \"gebauerken\", \"telglobalhealth\", \"africa\", \"midst\", \"full\", \"blow\", \"third\", \"wave\", \"coronavirus\", \"head\", \"whoafro\", \"warnedcase\", \"rise\", \"globalhlthtwit\", \"dr\", \"moeti\", \"good\", \"public\", \"health\", \"expert\", \"leader\", \"know\", \"desperate\", \"thank\", \"research\", \"note\", \"create\", \"blow\", \"realjoelsmalley\", \"thank\", \"nhsrdforum\", \"amazing\", \"campaign\", \"peterhotez\", \"brain\", \"aid\", \"agent\", \"notice\", \"victim\", \"stroke\", \"pass\", \"pathetically\", \"disrespectful\", \"mere\", \"hund\", \"falcicchio\", \"join\", \"training\", \"dc\", \"corpsthey\", \"door\", \"attend\", \"vaxhunterscan\", \"mb\", \"winnipeg\", \"scurfield\", \"pharmacy\", \"telglobalhealth\", \"africa\", \"midst\", \"full\", \"third\", \"wave\", \"coronavirus\", \"head\", \"whoafro\", \"warnedcase\", \"rise\", \"globalhlthtwit\", \"dr\", \"moeti\", \"good\", \"public\", \"health\", \"expert\", \"leader\", \"know\", \"desperate\", \"research\", \"note\", \"create\", \"public\", \"remember\", \"sell\", \"nhsrdforum\", \"amazing\", \"campaign\", \"peterhotez\", \"brain\", \"aid\", \"agent\", \"notice\", \"victim\", \"stroke\", \"pass\", \"pathetically\", \"disrespectful\", \"mere\", \"hund\", \"falcicchio\", \"join\", \"training\", \"dc\", \"corpsthey\", \"door\", \"attend\", \"vaxhunterscan\", \"mb\", \"winnipeg\", \"scurfield\", \"pharmacy\", \"telglobalhealth\", \"africa\", \"midst\", \"full\", \"blow\", \"third\", \"wave\", \"coronavirus\", \"head\", \"whoafro\", \"warnedcase\", \"rise\", \"globalhlthtwit\", \"dr\", \"moeti\", \"good\", \"health\", \"expert\", \"leader\", \"know\", \"desperate\", \"thank\", \"research\", \"note\", \"create\", \"globalhlthtwit\", \"cdcdirector\", \"nhsrdforum\", \"amazing\", \"campaign\", \"peterhotez\", \"brain\", \"aid\", \"agent\", \"notice\", \"victim\", \"stroke\", \"pass\", \"pathetically\", \"disrespectful\", \"mere\", \"hund\", \"falcicchio\", \"join\", \"training\", \"dc\", \"corpsthey\", \"door\", \"attend\", \"vaxhunterscan\", \"mb\", \"winnipeg\", \"scurfield\", \"pharmacy\", \"blvd\", \"telglobalhealth\", \"africa\", \"midst\", \"full\", \"blow\", \"third\", \"wave\", \"coronavirus\", \"head\", \"whoafro\", \"warnedcase\", \"rise\", \"dr\", \"moeti\", \"good\", \"public\", \"health\", \"expert\", \"leader\", \"know\", \"desperate\", \"thank\", \"research\", \"note\", \"create\", \"pfizer\", \"atlanta\", \"qualified\", \"nhsrdforum\", \"amazing\", \"campaign\", \"peterhotez\", \"brain\", \"aid\", \"agent\", \"notice\", \"victim\", \"stroke\", \"pass\", \"pathetically\", \"disrespectful\", \"mere\", \"hund\", \"falcicchio\", \"join\", \"training\", \"dc\", \"corpsthey\", \"door\", \"attend\", \"vaxhunterscan\", \"mb\", \"winnipeg\", \"scurfield\", \"pharmacy\", \"telglobalhealth\", \"africa\", \"midst\", \"full\", \"blow\", \"third\", \"wave\", \"coronavirus\", \"head\", \"whoafro\", \"warnedcase\", \"rise\", \"globalhlthtwit\", \"dr\", \"moeti\", \"good\", \"public\", \"health\", \"expert\", \"leader\", \"know\", \"desperate\", \"thank\", \"research\", \"note\", \"create\", \"go\", \"find\", \"nhsrdforum\", \"amazing\", \"campaign\", \"peterhotez\", \"brain\", \"aid\", \"agent\", \"notice\", \"victim\", \"stroke\", \"pass\", \"pathetically\", \"disrespectful\", \"mere\", \"hund\", \"falcicchio\", \"join\", \"training\", \"dc\", \"corpsthey\", \"door\", \"attend\", \"vaxhunterscan\", \"mb\", \"winnipeg\", \"scurfield\", \"pharmacy\", \"blvd\", \"telglobalhealth\", \"africa\", \"midst\", \"full\", \"blow\", \"third\", \"wave\", \"coronavirus\", \"head\", \"whoafro\", \"warnedcase\", \"rise\", \"globalhlthtwit\", \"dr\", \"moeti\", \"good\", \"public\", \"health\", \"expert\", \"leader\", \"know\", \"desperate\", \"thank\", \"research\", \"note\", \"create\", \"moeti\", \"research\", \"red\", \"nhsrdforum\", \"amazing\", \"campaign\", \"peterhotez\", \"brain\", \"aid\", \"agent\", \"notice\", \"victim\", \"stroke\", \"pass\", \"pathetically\", \"disrespectful\", \"mere\", \"hund\", \"falcicchio\", \"join\", \"training\", \"dc\", \"corpsthey\", \"door\", \"attend\", \"vaxhunterscan\", \"mb\", \"winnipeg\", \"scurfield\", \"pharmacy\", \"telglobalhealth\", \"africa\", \"midst\", \"full\", \"blow\", \"third\", \"wave\", \"coronavirus\", \"head\", \"whoafro\", \"warnedcase\", \"rise\", \"globalhlthtwit\", \"dr\", \"good\", \"public\", \"health\", \"expert\", \"leader\", \"know\", \"desperate\", \"thank\", \"note\", \"create\", \"dr\", \"nhsrdforum\", \"amazing\", \"campaign\", \"peterhotez\", \"brain\", \"aid\", \"agent\", \"notice\", \"victim\", \"stroke\", \"pass\", \"pathetically\", \"disrespectful\", \"mere\", \"hund\", \"falcicchio\", \"join\", \"training\", \"dc\", \"corpsthey\", \"door\", \"attend\", \"vaxhunterscan\", \"mb\", \"winnipeg\", \"scurfield\", \"pharmacy\", \"blvd\", \"gebauerken\", \"telglobalhealth\", \"africa\", \"midst\", \"full\", \"blow\", \"third\", \"wave\", \"coronavirus\", \"head\", \"whoafro\", \"warnedcase\", \"rise\", \"globalhlthtwit\", \"moeti\", \"good\", \"public\", \"health\", \"expert\", \"leader\", \"know\", \"desperate\", \"thank\", \"research\", \"note\", \"create\", \"amp\", \"way\", \"hodkinson\", \"nhsrdforum\", \"amazing\", \"campaign\", \"peterhotez\", \"brain\", \"aid\", \"agent\", \"notice\", \"victim\", \"stroke\", \"pass\", \"pathetically\", \"disrespectful\", \"mere\", \"hund\", \"falcicchio\", \"join\", \"training\", \"dc\", \"corpsthey\", \"door\", \"attend\", \"vaxhunterscan\", \"mb\", \"winnipeg\", \"scurfield\", \"pharmacy\", \"blvd\", \"telglobalhealth\", \"africa\", \"midst\", \"full\", \"blow\", \"third\", \"wave\", \"coronavirus\", \"head\", \"whoafro\", \"warnedcase\", \"rise\", \"globalhlthtwit\", \"dr\", \"moeti\", \"good\", \"public\", \"health\", \"expert\", \"leader\", \"know\", \"desperate\", \"thank\", \"research\", \"note\", \"create\", \"yet\", \"doctor\", \"roger\", \"nhsrdforum\", \"amazing\", \"campaign\", \"peterhotez\", \"brain\", \"aid\", \"agent\", \"notice\", \"victim\", \"stroke\", \"pass\", \"pathetically\", \"disrespectful\", \"mere\", \"hund\", \"falcicchio\", \"join\", \"training\", \"dc\", \"corpsthey\", \"door\", \"attend\", \"vaxhunterscan\", \"mb\", \"winnipeg\", \"scurfield\", \"pharmacy\", \"telglobalhealth\", \"africa\", \"midst\", \"full\", \"blow\", \"third\", \"wave\", \"coronavirus\", \"head\", \"whoafro\", \"warnedcase\", \"rise\", \"globalhlthtwit\", \"dr\", \"moeti\", \"good\", \"public\", \"health\", \"expert\", \"leader\", \"know\", \"desperate\", \"thank\", \"research\", \"note\", \"create\", \"speak\", \"warnedcase\", \"nhsrdforum\", \"amazing\", \"campaign\", \"peterhotez\", \"brain\", \"aid\", \"agent\", \"notice\", \"victim\", \"stroke\", \"pass\", \"pathetically\", \"disrespectful\", \"mere\", \"hund\", \"falcicchio\", \"join\", \"training\", \"dc\", \"corpsthey\", \"door\", \"attend\", \"vaxhunterscan\", \"mb\", \"winnipeg\", \"scurfield\", \"pharmacy\", \"blvd\", \"telglobalhealth\", \"africa\", \"midst\", \"full\", \"blow\", \"third\", \"wave\", \"coronavirus\", \"head\", \"whoafro\", \"rise\", \"globalhlthtwit\", \"dr\", \"moeti\", \"good\", \"public\", \"health\", \"expert\", \"leader\", \"know\", \"desperate\", \"thank\", \"research\", \"note\", \"create\", \"pleased\", \"nhsrdforum\", \"amazing\", \"campaign\", \"peterhotez\", \"brain\", \"aid\", \"agent\", \"notice\", \"victim\", \"stroke\", \"pass\", \"pathetically\", \"disrespectful\", \"mere\", \"hund\", \"falcicchio\", \"join\", \"training\", \"dc\", \"corpsthey\", \"door\", \"attend\", \"vaxhunterscan\", \"mb\", \"winnipeg\", \"scurfield\", \"pharmacy\", \"blvd\", \"gebauerken\", \"telglobalhealth\", \"africa\", \"midst\", \"full\", \"blow\", \"third\", \"wave\", \"coronavirus\", \"head\", \"whoafro\", \"warnedcase\", \"rise\", \"globalhlthtwit\", \"dr\", \"moeti\", \"good\", \"public\", \"health\", \"expert\", \"leader\", \"know\", \"desperate\", \"thank\", \"research\", \"note\", \"create\", \"policy\", \"amazingly\", \"nhsrdforum\", \"amazing\", \"campaign\", \"peterhotez\", \"brain\", \"aid\", \"agent\", \"notice\", \"victim\", \"stroke\", \"pass\", \"pathetically\", \"disrespectful\", \"mere\", \"hund\", \"falcicchio\", \"join\", \"training\", \"dc\", \"corpsthey\", \"door\", \"attend\", \"vaxhunterscan\", \"mb\", \"winnipeg\", \"scurfield\", \"pharmacy\", \"blvd\", \"telglobalhealth\", \"africa\", \"midst\", \"full\", \"blow\", \"third\", \"wave\", \"coronavirus\", \"head\", \"whoafro\", \"warnedcase\", \"rise\", \"globalhlthtwit\", \"dr\", \"moeti\", \"good\", \"public\", \"health\", \"expert\", \"leader\", \"know\", \"desperate\", \"thank\", \"research\", \"note\", \"create\"], \"Freq\": [21233.0, 11910.0, 5119.0, 3777.0, 931.0, 1304.0, 593.0, 576.0, 766.0, 741.0, 724.0, 360.0, 549.0, 304.0, 373.0, 327.0, 357.0, 570.0, 271.0, 464.0, 208.0, 204.0, 239.0, 129.0, 126.0, 224.0, 123.0, 174.0, 120.0, 87.0, 21229.364692590665, 5.208061285055142, 0.03344205495263591, 0.03343993436075604, 0.03343787942940456, 0.033433057028374985, 0.03342212819820509, 0.03342212819820509, 0.03342205767393385, 0.033422018763991104, 0.0334219968771483, 0.03342199444527688, 0.033405837091549956, 0.03342103871980809, 0.033399932507737644, 0.033398266675813665, 0.03339801619305721, 0.033398013761185785, 0.03339785812141479, 0.03339785812141479, 0.033393568300226606, 0.03339338347799854, 0.033393298362498776, 0.03339090783289107, 0.033392899535585586, 0.03338697063305906, 0.03338603922630448, 0.03338524400434953, 0.03338902799628197, 0.03338751050851472, 11906.737266408278, 212.20673735998616, 101.09538554456446, 0.3572590409320829, 0.35623727916882736, 0.35610905382593516, 0.35597901004209587, 0.3559771410889003, 0.35591814278261774, 0.35590773725942065, 0.3558019898671241, 0.3558019898671241, 0.35580143423239025, 0.3558009796221535, 0.3558008028292836, 0.3558008028292836, 0.3557723644333615, 0.3557023797130238, 0.3556439370414752, 0.35562837926892804, 0.3556232017634538, 0.35557417962625587, 0.3555507671990624, 0.3555484183795058, 0.3555484183795058, 0.3555475596712808, 0.3555475596712808, 0.3555236926338506, 0.3555196516539682, 0.35550601334686527, 5115.744388046387, 720.7869734938362, 567.1775656334868, 461.1939152061616, 0.23450204541388928, 0.23439677475163437, 0.23440607356357268, 0.23441425709744362, 0.23438821463036408, 0.23437746740535126, 0.23438959062278483, 0.2343937910207009, 0.23438016145366983, 0.23438016145366983, 0.2343801180012776, 0.23438006006475462, 0.23438006006475462, 0.23438007454888535, 0.2343695735540952, 0.2343649386322568, 0.23436263565546833, 0.23436440271941925, 0.23435746482079237, 0.23435419140724398, 0.23435907255930505, 0.2343572185905697, 0.2343572185905697, 0.23435710271752375, 0.23435710271752375, 0.23435012136650463, 0.2343534237483145, 0.23435439418507442, 1301.4669148067403, 763.4931628584523, 738.4925771714314, 545.6273698736248, 220.583540413141, 170.85362106210138, 0.39499908483265117, 0.39499908483265117, 0.39499908483265117, 0.39499908483265117, 0.39499908483265117, 0.39499908483265117, 0.39499908483265117, 0.39499908483265117, 0.39499908483265117, 0.39499908483265117, 0.39499908483265117, 0.39499908483265117, 0.39499908483265117, 0.39499908483265117, 0.39499908483265117, 0.39499908483265117, 0.39499908483265117, 0.39499908483265117, 0.39499908483265117, 0.39499908483265117, 0.39499908483265117, 0.39499908483265117, 0.39499908483265117, 0.39499908483265117, 0.3949991255074387, 0.3949991255074387, 0.3949991255074387, 0.3949991255074387, 0.3949991255074387, 0.3949991255074387, 0.3949991255074387, 0.3949991255074387, 0.3949991255074387, 0.3949991255074387, 0.3949991255074387, 0.3949991255074387, 0.3949991255074387, 0.3949991255074387, 0.3949991255074387, 0.3949991255074387, 0.3949991255074387, 0.3949991255074387, 0.3949991255074387, 0.3949991255074387, 0.3949991255074387, 0.3949991255074387, 0.3949991255074387, 0.3949991255074387, 0.39499916618222625, 0.39499916618222625, 0.39499916618222625, 0.39499916618222625, 0.3950157614955337, 0.3950016066694773, 0.39500030507627676, 0.39500030507627676, 0.39500030507627676, 0.3950115313176318, 0.39500042710063926, 0.39500042710063926, 0.39500042710063926, 0.39500185071820243, 0.3950005491250018, 0.3950005491250018, 0.3950005491250018, 0.3950005491250018, 0.3950007118241519, 0.3950018100434149, 0.3950005491250018, 0.39500034575106424, 0.39500034575106424, 0.39500034575106424, 0.39500034575106424, 0.39500034575106424, 0.3950006304745769, 0.3950086840825055, 0.39500742316409243, 0.3950057554978042, 0.39500351838449066, 0.39500616224567936, 0.3950087654320805, 0.39500502335162885, 0.3950038437827908, 0.3950027048887403, 0.39500217611650257, 0.3950031116366155, 0.3950083993589929, 0.39500193206777745, 0.3950184867062974, 0.39501608689383383, 0.3950061215708919, 0.39502658098901355, 0.39500404715672843, 0.3950029082626779, 0.3950293468745648, 0.39502092719354853, 0.3950782379691618, 0.3950087654320805, 0.39500591819695424, 0.3950053080751415, 0.3950039251323659, 0.3950078705867551, 0.3950345125725796, 0.3950304857686153, 0.39501970694992294, 0.39501970694992294, 0.39501966627513546, 0.39501966627513546, 0.3950196256003479, 0.3950196256003479, 0.3950233676807996, 0.39502454724963765, 0.39501332100828257, 0.3950112465941192, 0.39501059579751885, 0.39501051444794383, 0.39501051444794383, 0.3950104330983688, 3773.3786787429403, 235.78698685103538, 138.52545684118581, 33.42379449981214, 0.09351791855320873, 0.09351791855320873, 0.09351791855320873, 0.09351791855320873, 0.09351791855320873, 0.09351791855320873, 0.09351791855320873, 0.09351791855320873, 0.09351791855320873, 0.09351791855320873, 0.09351791855320873, 0.09351791855320873, 0.09351791855320873, 0.09351791855320873, 0.09351791855320873, 0.09351791855320873, 0.09351791855320873, 0.09351791855320873, 0.09351791855320873, 0.09351791855320873, 0.09351791855320873, 0.09351791855320873, 0.09351791855320873, 0.09351791855320873, 0.09351791855320873, 0.09351791855320873, 0.09351792695557067, 0.09351792695557067, 0.09351792695557067, 0.09351792695557067, 0.09351792695557067, 0.09351792695557067, 0.09351792695557067, 0.09351792695557067, 0.09351792695557067, 0.09351792695557067, 0.09351792695557067, 0.09351792695557067, 0.09351792695557067, 0.09351792695557067, 0.09351792695557067, 0.09351792695557067, 0.09351792695557067, 0.09351792695557067, 0.09351792695557067, 0.09351792695557067, 0.09351792695557067, 0.09351792695557067, 0.09351792695557067, 0.09351792695557067, 0.09351792695557067, 0.09351792695557067, 0.09351793535793258, 0.09351793535793258, 0.09351793535793258, 0.09351793535793258, 0.09351793535793258, 0.09351795216265645, 0.09351795216265645, 0.09351795216265645, 0.09351795216265645, 0.09351795216265645, 0.09351795216265645, 0.09351795216265645, 0.09351795216265645, 0.09351795216265645, 0.09351795216265645, 0.09351795216265645, 0.09351795216265645, 0.09351795216265645, 0.09351795216265645, 0.09351795216265645, 0.09351795216265645, 0.09351795216265645, 0.09351795216265645, 0.09351795216265645, 0.09351795216265645, 0.09351793535793258, 0.09351798577210416, 0.09351795216265645, 0.09351795216265645, 0.09351797736974223, 0.09351797736974223, 0.09351797736974223, 0.09351900245789743, 0.09351900245789743, 0.09351900245789743, 0.09351900245789743, 0.09351900245789743, 0.09351900245789743, 0.09351918730985984, 0.09351845630437211, 0.09351852352326753, 0.09351852352326753, 0.09351866636342031, 0.09351852352326753, 0.09351852352326753, 0.09351856553507717, 0.09351843949964826, 0.09351852352326753, 0.09351831346421934, 0.09351828825713356, 0.093518237842962, 0.093518237842962, 0.093518237842962, 0.093518237842962, 0.09351824624532391, 0.093518237842962, 0.09351831346421934, 0.093518120209895, 0.09351926293111719, 0.09351943938071768, 0.09351843949964826, 0.09351933015001261, 0.09351836387839091, 0.09351889322719237, 0.09352011997203383, 0.0935186327539726, 0.09351867476578224, 0.09351843949964826, 573.2330658205145, 370.2113126063601, 116.39398261484101, 69.26228005059622, 0.24337019200011123, 0.24337019200011123, 0.24337019200011123, 0.24337019200011123, 0.24337019200011123, 0.24337019200011123, 0.24337019200011123, 0.24337019200011123, 0.24337019200011123, 0.24337019200011123, 0.24337019200011123, 0.24337019200011123, 0.24337019200011123, 0.24337019200011123, 0.24337019200011123, 0.24337019200011123, 0.24337019200011123, 0.24337019200011123, 0.24337019200011123, 0.24337019200011123, 0.24337019200011123, 0.24337019200011123, 0.24337019200011123, 0.24337019200011123, 0.24337019200011123, 0.24337019200011123, 0.24337019200011123, 0.24337019200011123, 0.24337019200011123, 0.24337019200011123, 0.24337019200011123, 0.24337019200011123, 0.24337019200011123, 0.24337019200011123, 0.24337019200011123, 0.24337019200011123, 0.24337019200011123, 0.24337019200011123, 0.24337019200011123, 0.24337019200011123, 0.24337019200011123, 0.24337019200011123, 0.24337019200011123, 0.24337019200011123, 0.24337019200011123, 0.24337019200011123, 0.24337019200011123, 0.24337019200011123, 0.24337019200011123, 0.24337019200011123, 590.0508781608853, 353.49595363918155, 0.25585503816185823, 0.25585503816185823, 0.25585503816185823, 0.25585503816185823, 0.25585503816185823, 0.25585503816185823, 0.25585503816185823, 0.25585503816185823, 0.25585503816185823, 0.25585503816185823, 0.25585503816185823, 0.25585503816185823, 0.25585503816185823, 0.25585503816185823, 0.25585503816185823, 0.25585503816185823, 0.25585503816185823, 0.25585503816185823, 0.25585503816185823, 0.25585503816185823, 0.25585503816185823, 0.25585503816185823, 0.25585503816185823, 0.25585503816185823, 0.25585503816185823, 0.25585503816185823, 0.25585503816185823, 0.25585503816185823, 0.25585503816185823, 0.25585503816185823, 0.25585503816185823, 0.25585503816185823, 0.25585503816185823, 0.25585503816185823, 0.25585503816185823, 0.25585503816185823, 0.25585503816185823, 0.25585503816185823, 0.25585503816185823, 0.25585503816185823, 0.25585503816185823, 0.25585503816185823, 0.25585503816185823, 0.25585503816185823, 0.25585503816185823, 0.25585503816185823, 0.25585503816185823, 0.25585503816185823, 0.25585503816185823, 0.25585503816185823, 0.25585503816185823, 0.25585503816185823, 0.25585503816185823, 927.7961637348276, 0.20146533856721346, 0.20146533856721346, 0.20146533856721346, 0.20146533856721346, 0.20146533856721346, 0.20146533856721346, 0.20146533856721346, 0.20146533856721346, 0.20146533856721346, 0.20146533856721346, 0.20146533856721346, 0.20146533856721346, 0.20146533856721346, 0.20146533856721346, 0.20146533856721346, 0.20146533856721346, 0.20146533856721346, 0.20146533856721346, 0.20146533856721346, 0.20146533856721346, 0.20146533856721346, 0.20146533856721346, 0.20146533856721346, 0.20146533856721346, 0.20146533856721346, 0.20146533856721346, 0.20146533856721346, 0.20146533856721346, 0.20146533856721346, 0.20146533856721346, 0.20146533856721346, 0.20146533856721346, 0.20146533856721346, 0.20146533856721346, 0.20146533856721346, 0.20146533856721346, 0.20146533856721346, 0.20146533856721346, 0.20146533856721346, 0.20146533856721346, 0.20146533856721346, 0.20146533856721346, 0.20146533856721346, 0.20146533856721346, 0.20146533856721346, 0.20146533856721346, 0.20146533856721346, 0.20146533856721346, 0.20146533856721346, 0.20146533856721346, 0.20146533856721346, 0.20146533856721346, 0.20146533856721346, 0.20146533856721346, 0.20146533856721346, 357.0616973938374, 66.82467574665232, 41.16438826295661, 0.23495150509883006, 0.23495150509883006, 0.23495150509883006, 0.23495150509883006, 0.23495150509883006, 0.23495150509883006, 0.23495150509883006, 0.23495150509883006, 0.23495150509883006, 0.23495150509883006, 0.23495150509883006, 0.23495150509883006, 0.23495150509883006, 0.23495150509883006, 0.23495150509883006, 0.23495150509883006, 0.23495150509883006, 0.23495150509883006, 0.23495150509883006, 0.23495150509883006, 0.23495150509883006, 0.23495150509883006, 0.23495150509883006, 0.23495150509883006, 0.23495150509883006, 0.23495150509883006, 0.23495150509883006, 0.23495150509883006, 0.23495150509883006, 0.23495150509883006, 0.23495150509883006, 0.23495150509883006, 0.23495150509883006, 0.23495150509883006, 0.23495150509883006, 0.23495150509883006, 0.23495150509883006, 0.23495150509883006, 0.23495150509883006, 0.23495150509883006, 0.23495150509883006, 0.23495150509883006, 0.23495150509883006, 0.23495150509883006, 0.23495150509883006, 0.23495150509883006, 0.23495150509883006, 0.23495150509883006, 0.23495150509883006, 0.23495150509883006, 0.23495150509883006, 324.02953405058855, 74.00647305179322, 10.406781330776894, 0.22177297531564472, 0.22177297531564472, 0.22177297531564472, 0.22177297531564472, 0.22177297531564472, 0.22177297531564472, 0.22177297531564472, 0.22177297531564472, 0.22177297531564472, 0.22177297531564472, 0.22177297531564472, 0.22177297531564472, 0.22177297531564472, 0.22177297531564472, 0.22177297531564472, 0.22177297531564472, 0.22177297531564472, 0.22177297531564472, 0.22177297531564472, 0.22177297531564472, 0.22177297531564472, 0.22177297531564472, 0.22177297531564472, 0.22177297531564472, 0.22177297531564472, 0.22177297531564472, 0.22177297531564472, 0.22177297531564472, 0.22177297531564472, 0.22177297531564472, 0.22177297531564472, 0.22177297531564472, 0.22177297531564472, 0.22177297531564472, 0.22177297531564472, 0.22177297531564472, 0.22177297531564472, 0.22177297531564472, 0.22177297531564472, 0.22177297531564472, 0.22177297531564472, 0.22177297531564472, 0.22177297531564472, 0.22177297531564472, 0.22177297531564472, 0.22177297531564472, 0.22177297531564472, 0.22177297531564472, 0.22177297531564472, 0.22177297531564472, 0.22177297531564472, 0.22177297531564472, 267.6890097761009, 63.83648941145471, 0.19420993908377318, 0.19420993908377318, 0.19420993908377318, 0.19420993908377318, 0.19420993908377318, 0.19420993908377318, 0.19420993908377318, 0.19420993908377318, 0.19420993908377318, 0.19420993908377318, 0.19420993908377318, 0.19420993908377318, 0.19420993908377318, 0.19420993908377318, 0.19420993908377318, 0.19420993908377318, 0.19420993908377318, 0.19420993908377318, 0.19420993908377318, 0.19420993908377318, 0.19420993908377318, 0.19420993908377318, 0.19420993908377318, 0.19420993908377318, 0.19420993908377318, 0.19420993908377318, 0.19420993908377318, 0.19420993908377318, 0.19420993908377318, 0.19420993908377318, 0.19420993908377318, 0.19420993908377318, 0.19420993908377318, 0.19420993908377318, 0.19420993908377318, 0.19420993908377318, 0.19420993908377318, 0.19420993908377318, 0.19420993908377318, 0.19420993908377318, 0.19420993908377318, 0.19420993908377318, 0.19420993908377318, 0.19420993908377318, 0.19420993908377318, 0.19420993908377318, 0.19420993908377318, 0.19420993908377318, 0.19420993908377318, 0.19420993908377318, 0.19420993908377318, 0.19420993908377318, 0.19420993908377318, 126.08212762004206, 59.93364248986516, 51.92849660872717, 0.18246217462812883, 0.18246217462812883, 0.18246217462812883, 0.18246217462812883, 0.18246217462812883, 0.18246217462812883, 0.18246217462812883, 0.18246217462812883, 0.18246217462812883, 0.18246217462812883, 0.18246217462812883, 0.18246217462812883, 0.18246217462812883, 0.18246217462812883, 0.18246217462812883, 0.18246217462812883, 0.18246217462812883, 0.18246217462812883, 0.18246217462812883, 0.18246217462812883, 0.18246217462812883, 0.18246217462812883, 0.18246217462812883, 0.18246217462812883, 0.18246217462812883, 0.18246217462812883, 0.18246217462812883, 0.18246217462812883, 0.18246217462812883, 0.18246217462812883, 0.18246217462812883, 0.18246217462812883, 0.18246217462812883, 0.18246217462812883, 0.18246217462812883, 0.18246217462812883, 0.18246217462812883, 0.18246217462812883, 0.18246217462812883, 0.18246217462812883, 0.18246217462812883, 0.18246217462812883, 0.18246217462812883, 0.18246217462812883, 0.18246217462812883, 0.18246217462812883, 0.18246217462812883, 0.18246217462812883, 0.18246217462812883, 0.18246217462812883, 0.18246217462812883, 0.18246217462812883, 0.18246217462812883, 204.53141183811454, 119.31018416480366, 0.15452904582526378, 0.15452904582526378, 0.15452904582526378, 0.15452904582526378, 0.15452904582526378, 0.15452904582526378, 0.15452904582526378, 0.15452904582526378, 0.15452904582526378, 0.15452904582526378, 0.15452904582526378, 0.15452904582526378, 0.15452904582526378, 0.15452904582526378, 0.15452904582526378, 0.15452904582526378, 0.15452904582526378, 0.15452904582526378, 0.15452904582526378, 0.15452904582526378, 0.15452904582526378, 0.15452904582526378, 0.15452904582526378, 0.15452904582526378, 0.15452904582526378, 0.15452904582526378, 0.15452904582526378, 0.15452904582526378, 0.15452904582526378, 0.15452904582526378, 0.15452904582526378, 0.15452904582526378, 0.15452904582526378, 0.15452904582526378, 0.15452904582526378, 0.15452904582526378, 0.15452904582526378, 0.15452904582526378, 0.15452904582526378, 0.15452904582526378, 0.15452904582526378, 0.15452904582526378, 0.15452904582526378, 0.15452904582526378, 0.15452904582526378, 0.15452904582526378, 0.15452904582526378, 0.15452904582526378, 0.15452904582526378, 0.15452904582526378, 0.15452904582526378, 0.15452904582526378, 0.15452904582526378, 0.15452904582526378, 200.44128842924005, 122.67139077859449, 0.14601065633382507, 0.1452272326515936, 0.1452272326515936, 0.1452272326515936, 0.1452272326515936, 0.1452272326515936, 0.1452272326515936, 0.1452272326515936, 0.1452272326515936, 0.1452272326515936, 0.1452272326515936, 0.1452272326515936, 0.1452272326515936, 0.1452272326515936, 0.1452272326515936, 0.1452272326515936, 0.1452272326515936, 0.1452272326515936, 0.1452272326515936, 0.1452272326515936, 0.1452272326515936, 0.1452272326515936, 0.1452272326515936, 0.1452272326515936, 0.1452272326515936, 0.1452272326515936, 0.1452272326515936, 0.1452272326515936, 0.1452272326515936, 0.1452272326515936, 0.1452272326515936, 0.1452272326515936, 0.1452272326515936, 0.1452272326515936, 0.1452272326515936, 0.1452272326515936, 0.1452272326515936, 0.1452272326515936, 0.1452272326515936, 0.1452272326515936, 0.1452272326515936, 0.1452272326515936, 0.1452272326515936, 0.1452272326515936, 0.1452272326515936, 0.1452272326515936, 0.1452272326515936, 0.1452272326515936, 0.1452272326515936, 0.1452272326515936, 0.1452272326515936, 0.1452272326515936, 300.7021257286311, 0.14355851592243254, 0.14355851592243254, 0.14355851592243254, 0.14355851592243254, 0.14355851592243254, 0.14355851592243254, 0.14355851592243254, 0.14355851592243254, 0.14355851592243254, 0.14355851592243254, 0.14355851592243254, 0.14355851592243254, 0.14355851592243254, 0.14355851592243254, 0.14355851592243254, 0.14355851592243254, 0.14355851592243254, 0.14355851592243254, 0.14355851592243254, 0.14355851592243254, 0.14355851592243254, 0.14355851592243254, 0.14355851592243254, 0.14355851592243254, 0.14355851592243254, 0.14355851592243254, 0.14355851592243254, 0.14355851592243254, 0.14355851592243254, 0.14355851592243254, 0.14355851592243254, 0.14355851592243254, 0.14355851592243254, 0.14355851592243254, 0.14355851592243254, 0.14355851592243254, 0.14355851592243254, 0.14355851592243254, 0.14355851592243254, 0.14355851592243254, 0.14355851592243254, 0.14355851592243254, 0.14355851592243254, 0.14355851592243254, 0.14355851592243254, 0.14355851592243254, 0.14355851592243254, 0.14355851592243254, 0.14355851592243254, 0.14355851592243254, 0.14355851592243254, 0.14355851592243254, 0.14355851592243254, 0.14355851592243254, 0.14355851592243254, 64.36356764351828, 51.501640975083674, 0.18096219493042806, 0.18096219493042806, 0.18096219493042806, 0.18096219493042806, 0.18096219493042806, 0.18096219493042806, 0.18096219493042806, 0.18096219493042806, 0.18096219493042806, 0.18096219493042806, 0.18096219493042806, 0.18096219493042806, 0.18096219493042806, 0.18096219493042806, 0.18096219493042806, 0.18096219493042806, 0.18096219493042806, 0.18096219493042806, 0.18096219493042806, 0.18096219493042806, 0.18096219493042806, 0.18096219493042806, 0.18096219493042806, 0.18096219493042806, 0.18096219493042806, 0.18096219493042806, 0.18096219493042806, 0.18096219493042806, 0.18096219493042806, 0.18096219493042806, 0.18096219493042806, 0.18096219493042806, 0.18096219493042806, 0.18096219493042806, 0.18096219493042806, 0.18096219493042806, 0.18096219493042806, 0.18096219493042806, 0.18096219493042806, 0.18096219493042806, 0.18096219493042806, 0.18096219493042806, 0.18096219493042806, 0.18096219493042806, 0.18096219493042806, 0.18096219493042806, 0.18096219493042806, 0.18096219493042806, 0.18096219493042806, 0.18096219493042806, 0.18096219493042806, 0.18096219493042806, 0.18096219493042806, 0.18096219493042806, 83.6016001504011, 77.0928507908499, 45.13705453229964, 0.1585988152006795, 0.1585988152006795, 0.1585988152006795, 0.1585988152006795, 0.1585988152006795, 0.1585988152006795, 0.1585988152006795, 0.1585988152006795, 0.1585988152006795, 0.1585988152006795, 0.1585988152006795, 0.1585988152006795, 0.1585988152006795, 0.1585988152006795, 0.1585988152006795, 0.1585988152006795, 0.1585988152006795, 0.1585988152006795, 0.1585988152006795, 0.1585988152006795, 0.1585988152006795, 0.1585988152006795, 0.1585988152006795, 0.1585988152006795, 0.1585988152006795, 0.1585988152006795, 0.1585988152006795, 0.1585988152006795, 0.1585988152006795, 0.1585988152006795, 0.1585988152006795, 0.1585988152006795, 0.1585988152006795, 0.1585988152006795, 0.1585988152006795, 0.1585988152006795, 0.1585988152006795, 0.1585988152006795, 0.1585988152006795, 0.1585988152006795, 0.1585988152006795, 0.1585988152006795, 0.1585988152006795, 0.1585988152006795, 0.1585988152006795, 0.1585988152006795, 0.1585988152006795, 0.1585988152006795, 0.1585988152006795, 0.1585988152006795, 0.1585988152006795, 0.1585988152006795, 0.1585988152006795, 59.123625499892746, 16.11016153398875, 0.1666160145537415, 0.1666160145537415, 0.1666160145537415, 0.1666160145537415, 0.1666160145537415, 0.1666160145537415, 0.1666160145537415, 0.1666160145537415, 0.1666160145537415, 0.1666160145537415, 0.1666160145537415, 0.1666160145537415, 0.1666160145537415, 0.1666160145537415, 0.1666160145537415, 0.1666160145537415, 0.1666160145537415, 0.1666160145537415, 0.1666160145537415, 0.1666160145537415, 0.1666160145537415, 0.1666160145537415, 0.1666160145537415, 0.1666160145537415, 0.1666160145537415, 0.1666160145537415, 0.1666160145537415, 0.1666160145537415, 0.1666160145537415, 0.1666160145537415, 0.1666160145537415, 0.1666160145537415, 0.1666160145537415, 0.1666160145537415, 0.1666160145537415, 0.1666160145537415, 0.1666160145537415, 0.1666160145537415, 0.1666160145537415, 0.1666160145537415, 0.1666160145537415, 0.1666160145537415, 0.1666160145537415, 0.1666160145537415, 0.1666160145537415, 0.1666160145537415, 0.1666160145537415, 0.1666160145537415, 0.1666160145537415, 0.1666160145537415, 0.1666160145537415, 0.1666160145537415, 0.1666160145537415, 58.62820901066239, 0.14588045810240596, 0.14588045810240596, 0.14588045810240596, 0.14588045810240596, 0.14588045810240596, 0.14588045810240596, 0.14588045810240596, 0.14588045810240596, 0.14588045810240596, 0.14588045810240596, 0.14588045810240596, 0.14588045810240596, 0.14588045810240596, 0.14588045810240596, 0.14588045810240596, 0.14588045810240596, 0.14588045810240596, 0.14588045810240596, 0.14588045810240596, 0.14588045810240596, 0.14588045810240596, 0.14588045810240596, 0.14588045810240596, 0.14588045810240596, 0.14588045810240596, 0.14588045810240596, 0.14588045810240596, 0.14588045810240596, 0.14588045810240596, 0.14588045810240596, 0.14588045810240596, 0.14588045810240596, 0.14588045810240596, 0.14588045810240596, 0.14588045810240596, 0.14588045810240596, 0.14588045810240596, 0.14588045810240596, 0.14588045810240596, 0.14588045810240596, 0.14588045810240596, 0.14588045810240596, 0.14588045810240596, 0.14588045810240596, 0.14588045810240596, 0.14588045810240596, 0.14588045810240596, 0.14588045810240596, 0.14588045810240596, 0.14588045810240596, 0.14588045810240596, 0.14588045810240596, 0.14588045810240596, 0.14588045810240596, 0.14588045810240596, 36.92531165241443, 36.92404397569787, 0.12974037673161734, 0.12974037673161734, 0.12974037673161734, 0.12974037673161734, 0.12974037673161734, 0.12974037673161734, 0.12974037673161734, 0.12974037673161734, 0.12974037673161734, 0.12974037673161734, 0.12974037673161734, 0.12974037673161734, 0.12974037673161734, 0.12974037673161734, 0.12974037673161734, 0.12974037673161734, 0.12974037673161734, 0.12974037673161734, 0.12974037673161734, 0.12974037673161734, 0.12974037673161734, 0.12974037673161734, 0.12974037673161734, 0.12974037673161734, 0.12974037673161734, 0.12974037673161734, 0.12974037673161734, 0.12974037673161734, 0.12974037673161734, 0.12974037673161734, 0.12974037673161734, 0.12974037673161734, 0.12974037673161734, 0.12974037673161734, 0.12974037673161734, 0.12974037673161734, 0.12974037673161734, 0.12974037673161734, 0.12974037673161734, 0.12974037673161734, 0.12974037673161734, 0.12974037673161734, 0.12974037673161734, 0.12974037673161734, 0.12974037673161734, 0.12974037673161734, 0.12974037673161734, 0.12974037673161734, 0.12974037673161734, 0.12974037673161734, 0.12974037673161734, 0.12974037673161734, 0.12974037673161734, 0.12974037673161734], \"Total\": [21233.0, 11910.0, 5119.0, 3777.0, 931.0, 1304.0, 593.0, 576.0, 766.0, 741.0, 724.0, 360.0, 549.0, 304.0, 373.0, 327.0, 357.0, 570.0, 271.0, 464.0, 208.0, 204.0, 239.0, 129.0, 126.0, 224.0, 123.0, 174.0, 120.0, 87.0, 21233.201969358863, 9.04533805324308, 3.8717069242651987, 3.871554493424834, 3.8718430751919897, 3.871483162198159, 3.8713428057005412, 3.8713428057005412, 3.8713420954143567, 3.871341558441785, 3.871341304603154, 3.8713413021712824, 3.871130423225322, 3.872980299780698, 3.871062813596217, 3.8710354347901768, 3.8710325079080663, 3.8710325054761947, 3.871031293905578, 3.871031293905578, 3.8709953679908953, 3.8709765658886206, 3.8709799283341892, 3.870946371295999, 3.871516741204795, 3.870896391619764, 3.8708905321217437, 3.8708739121468767, 3.871430052414585, 3.8712767190684705, 11910.252678263425, 215.72214921513842, 104.61079739971679, 3.872980299780698, 3.8718430751919897, 3.8717069242651987, 3.871516741204795, 3.871554493424834, 3.871483162198159, 3.871430052414585, 3.8713428057005412, 3.8713428057005412, 3.8713420954143567, 3.871341558441785, 3.8713413021712824, 3.871341304603154, 3.8712767190684705, 3.8711904869937173, 3.8711222832267596, 3.871130423225322, 3.871094903869069, 3.871062813596217, 3.8710354347901768, 3.8710325054761947, 3.8710325079080663, 3.871031293905578, 3.871031293905578, 3.8709816562604047, 3.8709953679908953, 3.8709799283341892, 5119.380704275894, 724.4232897233429, 570.8138818629935, 464.8302314356685, 3.872980299780698, 3.871516741204795, 3.8717069242651987, 3.8718430751919897, 3.871430052414585, 3.8712767190684705, 3.871483162198159, 3.871554493424834, 3.8713428057005412, 3.8713428057005412, 3.8713420954143567, 3.8713413021712824, 3.871341304603154, 3.871341558441785, 3.8711904869937173, 3.8711222832267596, 3.871094903869069, 3.871130423225322, 3.8710354347901768, 3.8709816562604047, 3.871062813596217, 3.8710325054761947, 3.8710325079080663, 3.871031293905578, 3.871031293905578, 3.870919765413942, 3.8709765658886206, 3.8709953679908953, 1304.942559738252, 766.9688077899632, 741.9682221029424, 549.1030148051358, 224.05918534465206, 174.32926599361244, 3.8706440163437676, 3.8706440163437676, 3.8706440163437676, 3.8706440163437676, 3.8706440163437676, 3.8706440163437676, 3.8706440163437676, 3.8706440163437676, 3.8706440163437676, 3.8706440163437676, 3.8706440163437676, 3.8706440163437676, 3.8706440163437676, 3.8706440163437676, 3.8706440163437676, 3.8706440163437676, 3.8706440163437676, 3.8706440163437676, 3.8706440163437676, 3.8706440163437676, 3.8706440163437676, 3.8706440163437676, 3.8706440163437676, 3.8706440163437676, 3.870644509882632, 3.8706445123145037, 3.870644514746375, 3.870644514746375, 3.870644514746375, 3.870644514746375, 3.870644514746375, 3.8706445171782464, 3.870644537570628, 3.870644537570628, 3.870644537570628, 3.870644537570628, 3.870644537570628, 3.870644537570628, 3.870644537570628, 3.870644537570628, 3.870644537570628, 3.870644537570628, 3.870644537570628, 3.870644537570628, 3.870644537570628, 3.870644537570628, 3.870644537570628, 3.870644537570628, 3.8706454778295605, 3.870645500653813, 3.870645589626051, 3.8706456138376675, 3.871094903869069, 3.8707110513931386, 3.870676063137048, 3.870676063137048, 3.870676063137048, 3.8709816562604047, 3.8706794397522457, 3.8706794397522457, 3.8706794397522457, 3.8707182259181403, 3.8706829405590493, 3.8706829429909204, 3.8706829429909204, 3.8706829682470447, 3.8706874103732294, 3.8707173574421825, 3.8706830405390384, 3.8706775139983254, 3.8706775139983254, 3.8706775139983254, 3.8706775139983254, 3.8706775139983254, 3.870685311645674, 3.870905301408188, 3.87087271875708, 3.8708261986833326, 3.870763948719371, 3.870838002410192, 3.8709114756291596, 3.8708069318243448, 3.870773925579045, 3.8707420892105175, 3.8707274603710267, 3.8707539708126504, 3.8709021537548187, 3.87072138607586, 3.8711904869937173, 3.8711222832267596, 3.8708391877891977, 3.871430052414585, 3.8707809326128566, 3.8707494122180655, 3.871516741204795, 3.8712767190684705, 3.872980299780698, 3.870919765413942, 3.8708371491098097, 3.870821234881719, 3.8707799407753654, 3.8709066348054573, 3.8718430751919897, 3.8717069242651987, 3.8713428057005412, 3.8713428057005412, 3.871341558441785, 3.8713420954143567, 3.8713413021712824, 3.871341304603154, 3.871483162198159, 3.871554493424834, 3.871130423225322, 3.871062813596217, 3.8710354347901768, 3.8710325054761947, 3.8710325079080663, 3.871031293905578, 3777.155804840731, 239.56411294882588, 142.30258293897631, 37.20092059760269, 3.8706440163437676, 3.8706440163437676, 3.8706440163437676, 3.8706440163437676, 3.8706440163437676, 3.8706440163437676, 3.8706440163437676, 3.8706440163437676, 3.8706440163437676, 3.8706440163437676, 3.8706440163437676, 3.8706440163437676, 3.8706440163437676, 3.8706440163437676, 3.8706440163437676, 3.8706440163437676, 3.8706440163437676, 3.8706440163437676, 3.8706440163437676, 3.8706440163437676, 3.8706440163437676, 3.8706440163437676, 3.8706440163437676, 3.8706440163437676, 3.8706440163437676, 3.8706440163437676, 3.870646239844717, 3.870646467256933, 3.870646467256933, 3.870646467256933, 3.8706465228686824, 3.87064655032092, 3.87064655032092, 3.87064655032092, 3.87064655032092, 3.87064655032092, 3.87064655032092, 3.87064655032092, 3.87064655032092, 3.87064655032092, 3.87064655032092, 3.87064655032092, 3.87064655032092, 3.87064655032092, 3.87064655032092, 3.8706465696687937, 3.8706465696687937, 3.8706465696687937, 3.870646597356789, 3.870646597356789, 3.870646597356789, 3.8706466228486716, 3.870650300181136, 3.870650300181136, 3.870650300181136, 3.870650300181136, 3.870650300181136, 3.8706583218055064, 3.8706583218055064, 3.8706583218055064, 3.870658570783272, 3.870658570783272, 3.870658570783272, 3.870658570783272, 3.870658570783272, 3.870658787873448, 3.870658787873448, 3.870658843699393, 3.870658843699393, 3.870658843699393, 3.870658843699393, 3.870658843699393, 3.870658843699393, 3.870658843699393, 3.870658843699393, 3.870658886358976, 3.8706589990553737, 3.8706504738376046, 3.8706789587017143, 3.8706592559233077, 3.8706592559233077, 3.870674330659617, 3.870674333091489, 3.870674333091489, 3.8713413021712824, 3.871341304603154, 3.871341558441785, 3.8713420954143567, 3.8713428057005412, 3.8713428057005412, 3.871483162198159, 3.8709799283341892, 3.871031293905578, 3.871031293905578, 3.871130423225322, 3.8710325054761947, 3.8710325079080663, 3.871062813596217, 3.8709765658886206, 3.8710354347901768, 3.8708905321217437, 3.8708739121468767, 3.87084103916033, 3.87084103916033, 3.87084103916033, 3.8708413848559013, 3.8708488277262982, 3.870844081417978, 3.870896391619764, 3.8707630748920967, 3.871554493424834, 3.8717069242651987, 3.8709953679908953, 3.8718430751919897, 3.870946371295999, 3.871516741204795, 3.872980299780698, 3.8712767190684705, 3.871430052414585, 3.8711904869937173, 576.8603396448581, 373.83858643070374, 120.02125643918468, 72.88955387493989, 3.8706440163437676, 3.8706440163437676, 3.8706440163437676, 3.8706440163437676, 3.8706440163437676, 3.8706440163437676, 3.8706440163437676, 3.8706440163437676, 3.8706440163437676, 3.8706440163437676, 3.8706440163437676, 3.8706440163437676, 3.8706440163437676, 3.8706440163437676, 3.8706440163437676, 3.8706440163437676, 3.8706440163437676, 3.8706440163437676, 3.8706440163437676, 3.8706440163437676, 3.8706440163437676, 3.8706440163437676, 3.8706440163437676, 3.8706440163437676, 3.8706440163437676, 3.8706440163437676, 9.04533805324308, 5119.380704275894, 741.9682221029424, 593.6656671390671, 360.69738990508233, 239.56411294882588, 724.4232897233429, 3777.155804840731, 215.72214921513842, 19.81418953577878, 271.3654438533609, 304.4292112290524, 204.1667052129322, 464.8302314356685, 327.6784050916167, 570.8138818629935, 142.30258293897631, 549.1030148051358, 766.9688077899632, 357.1107426173634, 44.80008077420154, 126.39680756228667, 3.8706441741316198, 3.8706734170194355, 593.6656671390671, 357.1107426173634, 3.8706440163437676, 3.8706440163437676, 3.8706440163437676, 3.8706440163437676, 3.8706440163437676, 3.8706440163437676, 3.8706440163437676, 3.8706440163437676, 3.8706440163437676, 3.8706440163437676, 3.8706440163437676, 3.8706440163437676, 3.8706440163437676, 3.8706440163437676, 3.8706440163437676, 3.8706440163437676, 3.8706440163437676, 3.8706440163437676, 3.8706440163437676, 3.8706440163437676, 3.8706440163437676, 3.8706440163437676, 3.8706440163437676, 3.8706440163437676, 3.8706440163437676, 3.8706440163437676, 3.8706440163437676, 3.8706440163437676, 9.04533805324308, 5119.380704275894, 741.9682221029424, 360.69738990508233, 239.56411294882588, 724.4232897233429, 3777.155804840731, 373.83858643070374, 215.72214921513842, 19.81418953577878, 120.02125643918468, 271.3654438533609, 304.4292112290524, 204.1667052129322, 464.8302314356685, 327.6784050916167, 570.8138818629935, 142.30258293897631, 549.1030148051358, 766.9688077899632, 44.80008077420154, 126.39680756228667, 3.8706441741316198, 3.8706734170194355, 931.4653424126041, 931.4653424126041, 3.8706440163437676, 3.8706440163437676, 3.8706440163437676, 3.8706440163437676, 3.8706440163437676, 3.8706440163437676, 3.8706440163437676, 3.8706440163437676, 3.8706440163437676, 3.8706440163437676, 3.8706440163437676, 3.8706440163437676, 3.8706440163437676, 3.8706440163437676, 3.8706440163437676, 3.8706440163437676, 3.8706440163437676, 3.8706440163437676, 3.8706440163437676, 3.8706440163437676, 3.8706440163437676, 3.8706440163437676, 3.8706440163437676, 3.8706440163437676, 3.8706440163437676, 3.8706440163437676, 3.8706440163437676, 3.8706440163437676, 3.8706440163437676, 9.04533805324308, 5119.380704275894, 741.9682221029424, 593.6656671390671, 360.69738990508233, 239.56411294882588, 724.4232897233429, 3777.155804840731, 373.83858643070374, 215.72214921513842, 19.81418953577878, 120.02125643918468, 271.3654438533609, 304.4292112290524, 204.1667052129322, 464.8302314356685, 327.6784050916167, 570.8138818629935, 142.30258293897631, 549.1030148051358, 766.9688077899632, 357.1107426173634, 44.80008077420154, 126.39680756228667, 3.8706441741316198, 3.8706734170194355, 360.69738990508233, 70.46036825789727, 44.80008077420154, 3.8706440163437676, 3.8706440163437676, 3.8706440163437676, 3.8706440163437676, 3.8706440163437676, 3.8706440163437676, 3.8706440163437676, 3.8706440163437676, 3.8706440163437676, 3.8706440163437676, 3.8706440163437676, 3.8706440163437676, 3.8706440163437676, 3.8706440163437676, 3.8706440163437676, 3.8706440163437676, 3.8706440163437676, 3.8706440163437676, 3.8706440163437676, 3.8706440163437676, 3.8706440163437676, 3.8706440163437676, 3.8706440163437676, 3.8706440163437676, 3.8706440163437676, 3.8706440163437676, 3.8706440163437676, 9.04533805324308, 5119.380704275894, 741.9682221029424, 593.6656671390671, 239.56411294882588, 724.4232897233429, 3777.155804840731, 373.83858643070374, 215.72214921513842, 19.81418953577878, 120.02125643918468, 271.3654438533609, 304.4292112290524, 204.1667052129322, 464.8302314356685, 327.6784050916167, 570.8138818629935, 142.30258293897631, 549.1030148051358, 766.9688077899632, 357.1107426173634, 126.39680756228667, 3.8706441741316198, 3.8706734170194355, 327.6784050916167, 77.65534409282137, 14.055652371805015, 3.8706440163437676, 3.8706440163437676, 3.8706440163437676, 3.8706440163437676, 3.8706440163437676, 3.8706440163437676, 3.8706440163437676, 3.8706440163437676, 3.8706440163437676, 3.8706440163437676, 3.8706440163437676, 3.8706440163437676, 3.8706440163437676, 3.8706440163437676, 3.8706440163437676, 3.8706440163437676, 3.8706440163437676, 3.8706440163437676, 3.8706440163437676, 3.8706440163437676, 3.8706440163437676, 3.8706440163437676, 3.8706440163437676, 3.8706440163437676, 3.8706440163437676, 3.8706440163437676, 3.8706440163437676, 9.04533805324308, 5119.380704275894, 741.9682221029424, 593.6656671390671, 360.69738990508233, 239.56411294882588, 724.4232897233429, 3777.155804840731, 373.83858643070374, 215.72214921513842, 19.81418953577878, 120.02125643918468, 271.3654438533609, 304.4292112290524, 204.1667052129322, 464.8302314356685, 570.8138818629935, 142.30258293897631, 549.1030148051358, 766.9688077899632, 357.1107426173634, 44.80008077420154, 126.39680756228667, 3.8706441741316198, 3.8706734170194355, 271.3654438533609, 67.51292348871472, 3.8706440163437676, 3.8706440163437676, 3.8706440163437676, 3.8706440163437676, 3.8706440163437676, 3.8706440163437676, 3.8706440163437676, 3.8706440163437676, 3.8706440163437676, 3.8706440163437676, 3.8706440163437676, 3.8706440163437676, 3.8706440163437676, 3.8706440163437676, 3.8706440163437676, 3.8706440163437676, 3.8706440163437676, 3.8706440163437676, 3.8706440163437676, 3.8706440163437676, 3.8706440163437676, 3.8706440163437676, 3.8706440163437676, 3.8706440163437676, 3.8706440163437676, 3.8706440163437676, 3.8706440163437676, 3.8706440163437676, 9.04533805324308, 5119.380704275894, 741.9682221029424, 593.6656671390671, 360.69738990508233, 239.56411294882588, 724.4232897233429, 3777.155804840731, 373.83858643070374, 215.72214921513842, 19.81418953577878, 120.02125643918468, 304.4292112290524, 204.1667052129322, 464.8302314356685, 327.6784050916167, 570.8138818629935, 142.30258293897631, 549.1030148051358, 766.9688077899632, 357.1107426173634, 44.80008077420154, 126.39680756228667, 3.8706441741316198, 3.8706734170194355, 129.77030946175768, 63.6218243315808, 55.61667845044281, 3.8706440163437676, 3.8706440163437676, 3.8706440163437676, 3.8706440163437676, 3.8706440163437676, 3.8706440163437676, 3.8706440163437676, 3.8706440163437676, 3.8706440163437676, 3.8706440163437676, 3.8706440163437676, 3.8706440163437676, 3.8706440163437676, 3.8706440163437676, 3.8706440163437676, 3.8706440163437676, 3.8706440163437676, 3.8706440163437676, 3.8706440163437676, 3.8706440163437676, 3.8706440163437676, 3.8706440163437676, 3.8706440163437676, 3.8706440163437676, 3.8706440163437676, 3.8706440163437676, 3.8706440163437676, 9.04533805324308, 5119.380704275894, 741.9682221029424, 593.6656671390671, 360.69738990508233, 239.56411294882588, 724.4232897233429, 3777.155804840731, 373.83858643070374, 215.72214921513842, 19.81418953577878, 120.02125643918468, 271.3654438533609, 304.4292112290524, 204.1667052129322, 464.8302314356685, 327.6784050916167, 570.8138818629935, 142.30258293897631, 549.1030148051358, 766.9688077899632, 357.1107426173634, 44.80008077420154, 126.39680756228667, 3.8706441741316198, 3.8706734170194355, 208.247526808633, 123.02629913532216, 3.8706440163437676, 3.8706440163437676, 3.8706440163437676, 3.8706440163437676, 3.8706440163437676, 3.8706440163437676, 3.8706440163437676, 3.8706440163437676, 3.8706440163437676, 3.8706440163437676, 3.8706440163437676, 3.8706440163437676, 3.8706440163437676, 3.8706440163437676, 3.8706440163437676, 3.8706440163437676, 3.8706440163437676, 3.8706440163437676, 3.8706440163437676, 3.8706440163437676, 3.8706440163437676, 3.8706440163437676, 3.8706440163437676, 3.8706440163437676, 3.8706440163437676, 3.8706440163437676, 3.8706440163437676, 3.8706440163437676, 9.04533805324308, 5119.380704275894, 741.9682221029424, 593.6656671390671, 360.69738990508233, 239.56411294882588, 724.4232897233429, 3777.155804840731, 373.83858643070374, 215.72214921513842, 19.81418953577878, 120.02125643918468, 271.3654438533609, 304.4292112290524, 204.1667052129322, 464.8302314356685, 327.6784050916167, 570.8138818629935, 142.30258293897631, 549.1030148051358, 766.9688077899632, 357.1107426173634, 44.80008077420154, 126.39680756228667, 3.8706441741316198, 3.8706734170194355, 204.1667052129322, 126.39680756228667, 3.871462329446832, 3.8706440163437676, 3.8706440163437676, 3.8706440163437676, 3.8706440163437676, 3.8706440163437676, 3.8706440163437676, 3.8706440163437676, 3.8706440163437676, 3.8706440163437676, 3.8706440163437676, 3.8706440163437676, 3.8706440163437676, 3.8706440163437676, 3.8706440163437676, 3.8706440163437676, 3.8706440163437676, 3.8706440163437676, 3.8706440163437676, 3.8706440163437676, 3.8706440163437676, 3.8706440163437676, 3.8706440163437676, 3.8706440163437676, 3.8706440163437676, 3.8706440163437676, 3.8706440163437676, 3.8706440163437676, 9.04533805324308, 5119.380704275894, 741.9682221029424, 593.6656671390671, 360.69738990508233, 239.56411294882588, 724.4232897233429, 3777.155804840731, 373.83858643070374, 215.72214921513842, 19.81418953577878, 120.02125643918468, 271.3654438533609, 304.4292112290524, 464.8302314356685, 327.6784050916167, 570.8138818629935, 142.30258293897631, 549.1030148051358, 766.9688077899632, 357.1107426173634, 44.80008077420154, 3.8706441741316198, 3.8706734170194355, 304.4292112290524, 3.8706440163437676, 3.8706440163437676, 3.8706440163437676, 3.8706440163437676, 3.8706440163437676, 3.8706440163437676, 3.8706440163437676, 3.8706440163437676, 3.8706440163437676, 3.8706440163437676, 3.8706440163437676, 3.8706440163437676, 3.8706440163437676, 3.8706440163437676, 3.8706440163437676, 3.8706440163437676, 3.8706440163437676, 3.8706440163437676, 3.8706440163437676, 3.8706440163437676, 3.8706440163437676, 3.8706440163437676, 3.8706440163437676, 3.8706440163437676, 3.8706440163437676, 3.8706440163437676, 3.8706440163437676, 3.8706440163437676, 3.8706440163437676, 9.04533805324308, 5119.380704275894, 741.9682221029424, 593.6656671390671, 360.69738990508233, 239.56411294882588, 724.4232897233429, 3777.155804840731, 373.83858643070374, 215.72214921513842, 19.81418953577878, 120.02125643918468, 271.3654438533609, 204.1667052129322, 464.8302314356685, 327.6784050916167, 570.8138818629935, 142.30258293897631, 549.1030148051358, 766.9688077899632, 357.1107426173634, 44.80008077420154, 126.39680756228667, 3.8706441741316198, 3.8706734170194355, 931.4653424126041, 68.05324946493162, 55.191322796497005, 3.8706440163437676, 3.8706440163437676, 3.8706440163437676, 3.8706440163437676, 3.8706440163437676, 3.8706440163437676, 3.8706440163437676, 3.8706440163437676, 3.8706440163437676, 3.8706440163437676, 3.8706440163437676, 3.8706440163437676, 3.8706440163437676, 3.8706440163437676, 3.8706440163437676, 3.8706440163437676, 3.8706440163437676, 3.8706440163437676, 3.8706440163437676, 3.8706440163437676, 3.8706440163437676, 3.8706440163437676, 3.8706440163437676, 3.8706440163437676, 3.8706440163437676, 3.8706440163437676, 3.8706440163437676, 3.8706440163437676, 9.04533805324308, 5119.380704275894, 741.9682221029424, 593.6656671390671, 360.69738990508233, 239.56411294882588, 724.4232897233429, 3777.155804840731, 373.83858643070374, 215.72214921513842, 19.81418953577878, 120.02125643918468, 271.3654438533609, 304.4292112290524, 204.1667052129322, 464.8302314356685, 327.6784050916167, 570.8138818629935, 142.30258293897631, 549.1030148051358, 766.9688077899632, 357.1107426173634, 44.80008077420154, 126.39680756228667, 3.8706441741316198, 3.8706734170194355, 87.3136453515442, 80.80489599199299, 48.84909973344273, 3.8706440163437676, 3.8706440163437676, 3.8706440163437676, 3.8706440163437676, 3.8706440163437676, 3.8706440163437676, 3.8706440163437676, 3.8706440163437676, 3.8706440163437676, 3.8706440163437676, 3.8706440163437676, 3.8706440163437676, 3.8706440163437676, 3.8706440163437676, 3.8706440163437676, 3.8706440163437676, 3.8706440163437676, 3.8706440163437676, 3.8706440163437676, 3.8706440163437676, 3.8706440163437676, 3.8706440163437676, 3.8706440163437676, 3.8706440163437676, 3.8706440163437676, 3.8706440163437676, 3.8706440163437676, 9.04533805324308, 5119.380704275894, 741.9682221029424, 593.6656671390671, 360.69738990508233, 239.56411294882588, 724.4232897233429, 3777.155804840731, 373.83858643070374, 215.72214921513842, 19.81418953577878, 120.02125643918468, 271.3654438533609, 304.4292112290524, 204.1667052129322, 464.8302314356685, 327.6784050916167, 570.8138818629935, 142.30258293897631, 549.1030148051358, 766.9688077899632, 357.1107426173634, 44.80008077420154, 126.39680756228667, 3.8706441741316198, 3.8706734170194355, 62.82765350168277, 19.81418953577878, 3.8706440163437676, 3.8706440163437676, 3.8706440163437676, 3.8706440163437676, 3.8706440163437676, 3.8706440163437676, 3.8706440163437676, 3.8706440163437676, 3.8706440163437676, 3.8706440163437676, 3.8706440163437676, 3.8706440163437676, 3.8706440163437676, 3.8706440163437676, 3.8706440163437676, 3.8706440163437676, 3.8706440163437676, 3.8706440163437676, 3.8706440163437676, 3.8706440163437676, 3.8706440163437676, 3.8706440163437676, 3.8706440163437676, 3.8706440163437676, 3.8706440163437676, 3.8706440163437676, 3.8706440163437676, 3.8706440163437676, 9.04533805324308, 5119.380704275894, 741.9682221029424, 593.6656671390671, 360.69738990508233, 239.56411294882588, 724.4232897233429, 3777.155804840731, 373.83858643070374, 215.72214921513842, 120.02125643918468, 271.3654438533609, 304.4292112290524, 204.1667052129322, 464.8302314356685, 327.6784050916167, 570.8138818629935, 142.30258293897631, 549.1030148051358, 766.9688077899632, 357.1107426173634, 44.80008077420154, 126.39680756228667, 3.8706441741316198, 3.8706734170194355, 62.35297256890375, 3.8706440163437676, 3.8706440163437676, 3.8706440163437676, 3.8706440163437676, 3.8706440163437676, 3.8706440163437676, 3.8706440163437676, 3.8706440163437676, 3.8706440163437676, 3.8706440163437676, 3.8706440163437676, 3.8706440163437676, 3.8706440163437676, 3.8706440163437676, 3.8706440163437676, 3.8706440163437676, 3.8706440163437676, 3.8706440163437676, 3.8706440163437676, 3.8706440163437676, 3.8706440163437676, 3.8706440163437676, 3.8706440163437676, 3.8706440163437676, 3.8706440163437676, 3.8706440163437676, 3.8706440163437676, 3.8706440163437676, 3.8706440163437676, 9.04533805324308, 5119.380704275894, 741.9682221029424, 593.6656671390671, 360.69738990508233, 239.56411294882588, 724.4232897233429, 3777.155804840731, 373.83858643070374, 215.72214921513842, 19.81418953577878, 120.02125643918468, 271.3654438533609, 304.4292112290524, 204.1667052129322, 464.8302314356685, 327.6784050916167, 570.8138818629935, 142.30258293897631, 549.1030148051358, 766.9688077899632, 357.1107426173634, 44.80008077420154, 126.39680756228667, 3.8706441741316198, 3.8706734170194355, 40.66621529202658, 40.66494761531002, 3.8706440163437676, 3.8706440163437676, 3.8706440163437676, 3.8706440163437676, 3.8706440163437676, 3.8706440163437676, 3.8706440163437676, 3.8706440163437676, 3.8706440163437676, 3.8706440163437676, 3.8706440163437676, 3.8706440163437676, 3.8706440163437676, 3.8706440163437676, 3.8706440163437676, 3.8706440163437676, 3.8706440163437676, 3.8706440163437676, 3.8706440163437676, 3.8706440163437676, 3.8706440163437676, 3.8706440163437676, 3.8706440163437676, 3.8706440163437676, 3.8706440163437676, 3.8706440163437676, 3.8706440163437676, 3.8706440163437676, 9.04533805324308, 5119.380704275894, 741.9682221029424, 593.6656671390671, 360.69738990508233, 239.56411294882588, 724.4232897233429, 3777.155804840731, 373.83858643070374, 215.72214921513842, 19.81418953577878, 120.02125643918468, 271.3654438533609, 304.4292112290524, 204.1667052129322, 464.8302314356685, 327.6784050916167, 570.8138818629935, 142.30258293897631, 549.1030148051358, 766.9688077899632, 357.1107426173634, 44.80008077420154, 126.39680756228667, 3.8706441741316198, 3.8706734170194355], \"Category\": [\"Default\", \"Default\", \"Default\", \"Default\", \"Default\", \"Default\", \"Default\", \"Default\", \"Default\", \"Default\", \"Default\", \"Default\", \"Default\", \"Default\", \"Default\", \"Default\", \"Default\", \"Default\", \"Default\", \"Default\", \"Default\", \"Default\", \"Default\", \"Default\", \"Default\", \"Default\", \"Default\", \"Default\", \"Default\", \"Default\", \"Topic1\", \"Topic1\", \"Topic1\", \"Topic1\", \"Topic1\", \"Topic1\", \"Topic1\", \"Topic1\", \"Topic1\", \"Topic1\", \"Topic1\", \"Topic1\", \"Topic1\", \"Topic1\", \"Topic1\", \"Topic1\", \"Topic1\", \"Topic1\", \"Topic1\", \"Topic1\", \"Topic1\", \"Topic1\", \"Topic1\", \"Topic1\", \"Topic1\", \"Topic1\", \"Topic1\", \"Topic1\", \"Topic1\", \"Topic1\", \"Topic2\", \"Topic2\", \"Topic2\", \"Topic2\", \"Topic2\", \"Topic2\", \"Topic2\", \"Topic2\", \"Topic2\", \"Topic2\", \"Topic2\", \"Topic2\", \"Topic2\", \"Topic2\", \"Topic2\", \"Topic2\", \"Topic2\", \"Topic2\", \"Topic2\", \"Topic2\", \"Topic2\", \"Topic2\", \"Topic2\", \"Topic2\", \"Topic2\", \"Topic2\", \"Topic2\", \"Topic2\", \"Topic2\", \"Topic2\", \"Topic3\", \"Topic3\", \"Topic3\", \"Topic3\", \"Topic3\", \"Topic3\", \"Topic3\", \"Topic3\", \"Topic3\", \"Topic3\", \"Topic3\", \"Topic3\", \"Topic3\", \"Topic3\", \"Topic3\", \"Topic3\", \"Topic3\", \"Topic3\", \"Topic3\", \"Topic3\", \"Topic3\", \"Topic3\", \"Topic3\", \"Topic3\", \"Topic3\", \"Topic3\", \"Topic3\", \"Topic3\", \"Topic3\", \"Topic3\", \"Topic3\", \"Topic3\", \"Topic4\", \"Topic4\", \"Topic4\", \"Topic4\", \"Topic4\", \"Topic4\", \"Topic4\", \"Topic4\", \"Topic4\", \"Topic4\", \"Topic4\", \"Topic4\", \"Topic4\", \"Topic4\", \"Topic4\", \"Topic4\", \"Topic4\", \"Topic4\", \"Topic4\", \"Topic4\", \"Topic4\", \"Topic4\", \"Topic4\", \"Topic4\", \"Topic4\", \"Topic4\", \"Topic4\", \"Topic4\", \"Topic4\", \"Topic4\", \"Topic4\", \"Topic4\", \"Topic4\", \"Topic4\", \"Topic4\", \"Topic4\", \"Topic4\", \"Topic4\", \"Topic4\", \"Topic4\", \"Topic4\", \"Topic4\", \"Topic4\", \"Topic4\", \"Topic4\", \"Topic4\", \"Topic4\", \"Topic4\", \"Topic4\", \"Topic4\", \"Topic4\", \"Topic4\", \"Topic4\", \"Topic4\", \"Topic4\", \"Topic4\", \"Topic4\", \"Topic4\", \"Topic4\", \"Topic4\", \"Topic4\", \"Topic4\", \"Topic4\", \"Topic4\", \"Topic4\", \"Topic4\", \"Topic4\", \"Topic4\", \"Topic4\", \"Topic4\", \"Topic4\", \"Topic4\", \"Topic4\", \"Topic4\", \"Topic4\", \"Topic4\", \"Topic4\", \"Topic4\", \"Topic4\", \"Topic4\", \"Topic4\", \"Topic4\", \"Topic4\", \"Topic4\", \"Topic4\", \"Topic4\", \"Topic4\", \"Topic4\", \"Topic4\", \"Topic4\", \"Topic4\", \"Topic4\", \"Topic4\", \"Topic4\", \"Topic4\", \"Topic4\", \"Topic4\", \"Topic4\", \"Topic4\", \"Topic4\", \"Topic4\", \"Topic4\", \"Topic4\", \"Topic4\", \"Topic4\", \"Topic4\", \"Topic4\", \"Topic4\", \"Topic4\", \"Topic4\", \"Topic4\", \"Topic4\", \"Topic4\", \"Topic4\", \"Topic4\", \"Topic4\", \"Topic4\", \"Topic4\", \"Topic4\", \"Topic4\", \"Topic4\", \"Topic4\", \"Topic4\", \"Topic4\", \"Topic5\", \"Topic5\", \"Topic5\", \"Topic5\", \"Topic5\", \"Topic5\", \"Topic5\", \"Topic5\", \"Topic5\", \"Topic5\", \"Topic5\", \"Topic5\", \"Topic5\", \"Topic5\", \"Topic5\", \"Topic5\", \"Topic5\", \"Topic5\", \"Topic5\", \"Topic5\", \"Topic5\", \"Topic5\", \"Topic5\", \"Topic5\", \"Topic5\", \"Topic5\", \"Topic5\", \"Topic5\", \"Topic5\", \"Topic5\", \"Topic5\", \"Topic5\", \"Topic5\", \"Topic5\", \"Topic5\", \"Topic5\", \"Topic5\", \"Topic5\", \"Topic5\", \"Topic5\", \"Topic5\", \"Topic5\", \"Topic5\", \"Topic5\", \"Topic5\", \"Topic5\", \"Topic5\", \"Topic5\", \"Topic5\", \"Topic5\", \"Topic5\", \"Topic5\", \"Topic5\", \"Topic5\", \"Topic5\", \"Topic5\", \"Topic5\", \"Topic5\", \"Topic5\", \"Topic5\", \"Topic5\", \"Topic5\", \"Topic5\", \"Topic5\", \"Topic5\", \"Topic5\", \"Topic5\", \"Topic5\", \"Topic5\", \"Topic5\", \"Topic5\", \"Topic5\", \"Topic5\", \"Topic5\", \"Topic5\", \"Topic5\", \"Topic5\", \"Topic5\", \"Topic5\", \"Topic5\", \"Topic5\", \"Topic5\", \"Topic5\", \"Topic5\", \"Topic5\", \"Topic5\", \"Topic5\", \"Topic5\", \"Topic5\", \"Topic5\", \"Topic5\", \"Topic5\", \"Topic5\", \"Topic5\", \"Topic5\", \"Topic5\", \"Topic5\", \"Topic5\", \"Topic5\", \"Topic5\", \"Topic5\", \"Topic5\", \"Topic5\", \"Topic5\", \"Topic5\", \"Topic5\", \"Topic5\", \"Topic5\", \"Topic5\", \"Topic5\", \"Topic5\", \"Topic5\", \"Topic5\", \"Topic5\", \"Topic5\", \"Topic5\", \"Topic5\", \"Topic5\", \"Topic5\", \"Topic5\", \"Topic5\", \"Topic5\", \"Topic5\", \"Topic5\", \"Topic6\", \"Topic6\", \"Topic6\", \"Topic6\", \"Topic6\", \"Topic6\", \"Topic6\", \"Topic6\", \"Topic6\", \"Topic6\", \"Topic6\", \"Topic6\", \"Topic6\", \"Topic6\", \"Topic6\", \"Topic6\", \"Topic6\", \"Topic6\", \"Topic6\", \"Topic6\", \"Topic6\", \"Topic6\", \"Topic6\", \"Topic6\", \"Topic6\", \"Topic6\", \"Topic6\", \"Topic6\", \"Topic6\", \"Topic6\", \"Topic6\", \"Topic6\", \"Topic6\", \"Topic6\", \"Topic6\", \"Topic6\", \"Topic6\", \"Topic6\", \"Topic6\", \"Topic6\", \"Topic6\", \"Topic6\", \"Topic6\", \"Topic6\", \"Topic6\", \"Topic6\", \"Topic6\", \"Topic6\", \"Topic6\", \"Topic6\", \"Topic6\", \"Topic6\", \"Topic6\", \"Topic6\", \"Topic7\", \"Topic7\", \"Topic7\", \"Topic7\", \"Topic7\", \"Topic7\", \"Topic7\", \"Topic7\", \"Topic7\", \"Topic7\", \"Topic7\", \"Topic7\", \"Topic7\", \"Topic7\", \"Topic7\", \"Topic7\", \"Topic7\", \"Topic7\", \"Topic7\", \"Topic7\", \"Topic7\", \"Topic7\", \"Topic7\", \"Topic7\", \"Topic7\", \"Topic7\", \"Topic7\", \"Topic7\", \"Topic7\", \"Topic7\", \"Topic7\", \"Topic7\", \"Topic7\", \"Topic7\", \"Topic7\", \"Topic7\", \"Topic7\", \"Topic7\", \"Topic7\", \"Topic7\", \"Topic7\", \"Topic7\", \"Topic7\", \"Topic7\", \"Topic7\", \"Topic7\", \"Topic7\", \"Topic7\", \"Topic7\", \"Topic7\", \"Topic7\", \"Topic7\", \"Topic7\", \"Topic7\", \"Topic7\", \"Topic8\", \"Topic8\", \"Topic8\", \"Topic8\", \"Topic8\", \"Topic8\", \"Topic8\", \"Topic8\", \"Topic8\", \"Topic8\", \"Topic8\", \"Topic8\", \"Topic8\", \"Topic8\", \"Topic8\", \"Topic8\", \"Topic8\", \"Topic8\", \"Topic8\", \"Topic8\", \"Topic8\", \"Topic8\", \"Topic8\", \"Topic8\", \"Topic8\", \"Topic8\", \"Topic8\", \"Topic8\", \"Topic8\", \"Topic8\", \"Topic8\", \"Topic8\", \"Topic8\", \"Topic8\", \"Topic8\", \"Topic8\", \"Topic8\", \"Topic8\", \"Topic8\", \"Topic8\", \"Topic8\", \"Topic8\", \"Topic8\", \"Topic8\", \"Topic8\", \"Topic8\", \"Topic8\", \"Topic8\", \"Topic8\", \"Topic8\", \"Topic8\", \"Topic8\", \"Topic8\", \"Topic8\", \"Topic8\", \"Topic8\", \"Topic9\", \"Topic9\", \"Topic9\", \"Topic9\", \"Topic9\", \"Topic9\", \"Topic9\", \"Topic9\", \"Topic9\", \"Topic9\", \"Topic9\", \"Topic9\", \"Topic9\", \"Topic9\", \"Topic9\", \"Topic9\", \"Topic9\", \"Topic9\", \"Topic9\", \"Topic9\", \"Topic9\", \"Topic9\", \"Topic9\", \"Topic9\", \"Topic9\", \"Topic9\", \"Topic9\", \"Topic9\", \"Topic9\", \"Topic9\", \"Topic9\", \"Topic9\", \"Topic9\", \"Topic9\", \"Topic9\", \"Topic9\", \"Topic9\", \"Topic9\", \"Topic9\", \"Topic9\", \"Topic9\", \"Topic9\", \"Topic9\", \"Topic9\", \"Topic9\", \"Topic9\", \"Topic9\", \"Topic9\", \"Topic9\", \"Topic9\", \"Topic9\", \"Topic9\", \"Topic9\", \"Topic9\", \"Topic10\", \"Topic10\", \"Topic10\", \"Topic10\", \"Topic10\", \"Topic10\", \"Topic10\", \"Topic10\", \"Topic10\", \"Topic10\", \"Topic10\", \"Topic10\", \"Topic10\", \"Topic10\", \"Topic10\", \"Topic10\", \"Topic10\", \"Topic10\", \"Topic10\", \"Topic10\", \"Topic10\", \"Topic10\", \"Topic10\", \"Topic10\", \"Topic10\", \"Topic10\", \"Topic10\", \"Topic10\", \"Topic10\", \"Topic10\", \"Topic10\", \"Topic10\", \"Topic10\", \"Topic10\", \"Topic10\", \"Topic10\", \"Topic10\", \"Topic10\", \"Topic10\", \"Topic10\", \"Topic10\", \"Topic10\", \"Topic10\", \"Topic10\", \"Topic10\", \"Topic10\", \"Topic10\", \"Topic10\", \"Topic10\", \"Topic10\", \"Topic10\", \"Topic10\", \"Topic10\", \"Topic10\", \"Topic10\", \"Topic11\", \"Topic11\", \"Topic11\", \"Topic11\", \"Topic11\", \"Topic11\", \"Topic11\", \"Topic11\", \"Topic11\", \"Topic11\", \"Topic11\", \"Topic11\", \"Topic11\", \"Topic11\", \"Topic11\", \"Topic11\", \"Topic11\", \"Topic11\", \"Topic11\", \"Topic11\", \"Topic11\", \"Topic11\", \"Topic11\", \"Topic11\", \"Topic11\", \"Topic11\", \"Topic11\", \"Topic11\", \"Topic11\", \"Topic11\", \"Topic11\", \"Topic11\", \"Topic11\", \"Topic11\", \"Topic11\", \"Topic11\", \"Topic11\", \"Topic11\", \"Topic11\", \"Topic11\", \"Topic11\", \"Topic11\", \"Topic11\", \"Topic11\", \"Topic11\", \"Topic11\", \"Topic11\", \"Topic11\", \"Topic11\", \"Topic11\", \"Topic11\", \"Topic11\", \"Topic11\", \"Topic11\", \"Topic11\", \"Topic12\", \"Topic12\", \"Topic12\", \"Topic12\", \"Topic12\", \"Topic12\", \"Topic12\", \"Topic12\", \"Topic12\", \"Topic12\", \"Topic12\", \"Topic12\", \"Topic12\", \"Topic12\", \"Topic12\", \"Topic12\", \"Topic12\", \"Topic12\", \"Topic12\", \"Topic12\", \"Topic12\", \"Topic12\", \"Topic12\", \"Topic12\", \"Topic12\", \"Topic12\", \"Topic12\", \"Topic12\", \"Topic12\", \"Topic12\", \"Topic12\", \"Topic12\", \"Topic12\", \"Topic12\", \"Topic12\", \"Topic12\", \"Topic12\", \"Topic12\", \"Topic12\", \"Topic12\", \"Topic12\", \"Topic12\", \"Topic12\", \"Topic12\", \"Topic12\", \"Topic12\", \"Topic12\", \"Topic12\", \"Topic12\", \"Topic12\", \"Topic12\", \"Topic12\", \"Topic12\", \"Topic12\", \"Topic12\", \"Topic12\", \"Topic13\", \"Topic13\", \"Topic13\", \"Topic13\", \"Topic13\", \"Topic13\", \"Topic13\", \"Topic13\", \"Topic13\", \"Topic13\", \"Topic13\", \"Topic13\", \"Topic13\", \"Topic13\", \"Topic13\", \"Topic13\", \"Topic13\", \"Topic13\", \"Topic13\", \"Topic13\", \"Topic13\", \"Topic13\", \"Topic13\", \"Topic13\", \"Topic13\", \"Topic13\", \"Topic13\", \"Topic13\", \"Topic13\", \"Topic13\", \"Topic13\", \"Topic13\", \"Topic13\", \"Topic13\", \"Topic13\", \"Topic13\", \"Topic13\", \"Topic13\", \"Topic13\", \"Topic13\", \"Topic13\", \"Topic13\", \"Topic13\", \"Topic13\", \"Topic13\", \"Topic13\", \"Topic13\", \"Topic13\", \"Topic13\", \"Topic13\", \"Topic13\", \"Topic13\", \"Topic13\", \"Topic13\", \"Topic13\", \"Topic13\", \"Topic14\", \"Topic14\", \"Topic14\", \"Topic14\", \"Topic14\", \"Topic14\", \"Topic14\", \"Topic14\", \"Topic14\", \"Topic14\", \"Topic14\", \"Topic14\", \"Topic14\", \"Topic14\", \"Topic14\", \"Topic14\", \"Topic14\", \"Topic14\", \"Topic14\", \"Topic14\", \"Topic14\", \"Topic14\", \"Topic14\", \"Topic14\", \"Topic14\", \"Topic14\", \"Topic14\", \"Topic14\", \"Topic14\", \"Topic14\", \"Topic14\", \"Topic14\", \"Topic14\", \"Topic14\", \"Topic14\", \"Topic14\", \"Topic14\", \"Topic14\", \"Topic14\", \"Topic14\", \"Topic14\", \"Topic14\", \"Topic14\", \"Topic14\", \"Topic14\", \"Topic14\", \"Topic14\", \"Topic14\", \"Topic14\", \"Topic14\", \"Topic14\", \"Topic14\", \"Topic14\", \"Topic14\", \"Topic15\", \"Topic15\", \"Topic15\", \"Topic15\", \"Topic15\", \"Topic15\", \"Topic15\", \"Topic15\", \"Topic15\", \"Topic15\", \"Topic15\", \"Topic15\", \"Topic15\", \"Topic15\", \"Topic15\", \"Topic15\", \"Topic15\", \"Topic15\", \"Topic15\", \"Topic15\", \"Topic15\", \"Topic15\", \"Topic15\", \"Topic15\", \"Topic15\", \"Topic15\", \"Topic15\", \"Topic15\", \"Topic15\", \"Topic15\", \"Topic15\", \"Topic15\", \"Topic15\", \"Topic15\", \"Topic15\", \"Topic15\", \"Topic15\", \"Topic15\", \"Topic15\", \"Topic15\", \"Topic15\", \"Topic15\", \"Topic15\", \"Topic15\", \"Topic15\", \"Topic15\", \"Topic15\", \"Topic15\", \"Topic15\", \"Topic15\", \"Topic15\", \"Topic15\", \"Topic15\", \"Topic15\", \"Topic15\", \"Topic15\", \"Topic16\", \"Topic16\", \"Topic16\", \"Topic16\", \"Topic16\", \"Topic16\", \"Topic16\", \"Topic16\", \"Topic16\", \"Topic16\", \"Topic16\", \"Topic16\", \"Topic16\", \"Topic16\", \"Topic16\", \"Topic16\", \"Topic16\", \"Topic16\", \"Topic16\", \"Topic16\", \"Topic16\", \"Topic16\", \"Topic16\", \"Topic16\", \"Topic16\", \"Topic16\", \"Topic16\", \"Topic16\", \"Topic16\", \"Topic16\", \"Topic16\", \"Topic16\", \"Topic16\", \"Topic16\", \"Topic16\", \"Topic16\", \"Topic16\", \"Topic16\", \"Topic16\", \"Topic16\", \"Topic16\", \"Topic16\", \"Topic16\", \"Topic16\", \"Topic16\", \"Topic16\", \"Topic16\", \"Topic16\", \"Topic16\", \"Topic16\", \"Topic16\", \"Topic16\", \"Topic16\", \"Topic16\", \"Topic16\", \"Topic16\", \"Topic17\", \"Topic17\", \"Topic17\", \"Topic17\", \"Topic17\", \"Topic17\", \"Topic17\", \"Topic17\", \"Topic17\", \"Topic17\", \"Topic17\", \"Topic17\", \"Topic17\", \"Topic17\", \"Topic17\", \"Topic17\", \"Topic17\", \"Topic17\", \"Topic17\", \"Topic17\", \"Topic17\", \"Topic17\", \"Topic17\", \"Topic17\", \"Topic17\", \"Topic17\", \"Topic17\", \"Topic17\", \"Topic17\", \"Topic17\", \"Topic17\", \"Topic17\", \"Topic17\", \"Topic17\", \"Topic17\", \"Topic17\", \"Topic17\", \"Topic17\", \"Topic17\", \"Topic17\", \"Topic17\", \"Topic17\", \"Topic17\", \"Topic17\", \"Topic17\", \"Topic17\", \"Topic17\", \"Topic17\", \"Topic17\", \"Topic17\", \"Topic17\", \"Topic17\", \"Topic17\", \"Topic17\", \"Topic17\", \"Topic17\", \"Topic18\", \"Topic18\", \"Topic18\", \"Topic18\", \"Topic18\", \"Topic18\", \"Topic18\", \"Topic18\", \"Topic18\", \"Topic18\", \"Topic18\", \"Topic18\", \"Topic18\", \"Topic18\", \"Topic18\", \"Topic18\", \"Topic18\", \"Topic18\", \"Topic18\", \"Topic18\", \"Topic18\", \"Topic18\", \"Topic18\", \"Topic18\", \"Topic18\", \"Topic18\", \"Topic18\", \"Topic18\", \"Topic18\", \"Topic18\", \"Topic18\", \"Topic18\", \"Topic18\", \"Topic18\", \"Topic18\", \"Topic18\", \"Topic18\", \"Topic18\", \"Topic18\", \"Topic18\", \"Topic18\", \"Topic18\", \"Topic18\", \"Topic18\", \"Topic18\", \"Topic18\", \"Topic18\", \"Topic18\", \"Topic18\", \"Topic18\", \"Topic18\", \"Topic18\", \"Topic18\", \"Topic18\", \"Topic18\", \"Topic19\", \"Topic19\", \"Topic19\", \"Topic19\", \"Topic19\", \"Topic19\", \"Topic19\", \"Topic19\", \"Topic19\", \"Topic19\", \"Topic19\", \"Topic19\", \"Topic19\", \"Topic19\", \"Topic19\", \"Topic19\", \"Topic19\", \"Topic19\", \"Topic19\", \"Topic19\", \"Topic19\", \"Topic19\", \"Topic19\", \"Topic19\", \"Topic19\", \"Topic19\", \"Topic19\", \"Topic19\", \"Topic19\", \"Topic19\", \"Topic19\", \"Topic19\", \"Topic19\", \"Topic19\", \"Topic19\", \"Topic19\", \"Topic19\", \"Topic19\", \"Topic19\", \"Topic19\", \"Topic19\", \"Topic19\", \"Topic19\", \"Topic19\", \"Topic19\", \"Topic19\", \"Topic19\", \"Topic19\", \"Topic19\", \"Topic19\", \"Topic19\", \"Topic19\", \"Topic19\", \"Topic19\", \"Topic19\", \"Topic19\", \"Topic20\", \"Topic20\", \"Topic20\", \"Topic20\", \"Topic20\", \"Topic20\", \"Topic20\", \"Topic20\", \"Topic20\", \"Topic20\", \"Topic20\", \"Topic20\", \"Topic20\", \"Topic20\", \"Topic20\", \"Topic20\", \"Topic20\", \"Topic20\", \"Topic20\", \"Topic20\", \"Topic20\", \"Topic20\", \"Topic20\", \"Topic20\", \"Topic20\", \"Topic20\", \"Topic20\", \"Topic20\", \"Topic20\", \"Topic20\", \"Topic20\", \"Topic20\", \"Topic20\", \"Topic20\", \"Topic20\", \"Topic20\", \"Topic20\", \"Topic20\", \"Topic20\", \"Topic20\", \"Topic20\", \"Topic20\", \"Topic20\", \"Topic20\", \"Topic20\", \"Topic20\", \"Topic20\", \"Topic20\", \"Topic20\", \"Topic20\", \"Topic20\", \"Topic20\", \"Topic20\", \"Topic20\", \"Topic20\", \"Topic20\"], \"logprob\": [30.0, 29.0, 28.0, 27.0, 26.0, 25.0, 24.0, 23.0, 22.0, 21.0, 20.0, 19.0, 18.0, 17.0, 16.0, 15.0, 14.0, 13.0, 12.0, 11.0, 10.0, 9.0, 8.0, 7.0, 6.0, 5.0, 4.0, 3.0, 2.0, 1.0, -0.0076, -8.3205, -13.3687, -13.3687, -13.3688, -13.3689, -13.3693, -13.3693, -13.3693, -13.3693, -13.3693, -13.3693, -13.3697, -13.3693, -13.3699, -13.37, -13.37, -13.37, -13.37, -13.37, -13.3701, -13.3701, -13.3701, -13.3702, -13.3701, -13.3703, -13.3703, -13.3704, -13.3703, -13.3703, -0.1537, -4.181, -4.9225, -10.5678, -10.5707, -10.5711, -10.5714, -10.5714, -10.5716, -10.5716, -10.5719, -10.5719, -10.5719, -10.5719, -10.5719, -10.5719, -10.572, -10.5722, -10.5724, -10.5724, -10.5724, -10.5726, -10.5726, -10.5726, -10.5726, -10.5726, -10.5726, -10.5727, -10.5727, -10.5728, -0.4424, -2.4022, -2.6419, -2.8487, -10.4328, -10.4333, -10.4332, -10.4332, -10.4333, -10.4334, -10.4333, -10.4333, -10.4333, -10.4333, -10.4333, -10.4333, -10.4333, -10.4333, -10.4334, -10.4334, -10.4334, -10.4334, -10.4334, -10.4334, -10.4334, -10.4334, -10.4334, -10.4334, -10.4334, -10.4335, -10.4335, -10.4334, -1.4575, -1.9909, -2.0242, -2.3269, -3.2325, -3.488, -9.5577, -9.5577, -9.5577, -9.5577, -9.5577, -9.5577, -9.5577, -9.5577, -9.5577, -9.5577, -9.5577, -9.5577, -9.5577, -9.5577, -9.5577, -9.5577, -9.5577, -9.5577, -9.5577, -9.5577, -9.5577, -9.5577, -9.5577, -9.5577, -9.5577, -9.5577, -9.5577, -9.5577, -9.5577, -9.5577, -9.5577, -9.5577, -9.5577, -9.5577, -9.5577, -9.5577, -9.5577, -9.5577, -9.5577, -9.5577, -9.5577, -9.5577, -9.5577, -9.5577, -9.5577, -9.5577, -9.5577, -9.5577, -9.5577, -9.5577, -9.5577, -9.5577, -9.5576, -9.5577, -9.5577, -9.5577, -9.5577, -9.5576, -9.5577, -9.5577, -9.5577, -9.5577, -9.5577, -9.5577, -9.5577, -9.5577, -9.5577, -9.5577, -9.5577, -9.5577, -9.5577, -9.5577, -9.5577, -9.5577, -9.5577, -9.5576, -9.5576, -9.5576, -9.5576, -9.5576, -9.5576, -9.5576, -9.5576, -9.5577, -9.5577, -9.5576, -9.5576, -9.5577, -9.5576, -9.5576, -9.5576, -9.5576, -9.5576, -9.5577, -9.5576, -9.5576, -9.5575, -9.5576, -9.5576, -9.5576, -9.5576, -9.5576, -9.5576, -9.5576, -9.5576, -9.5576, -9.5576, -9.5576, -9.5576, -9.5576, -9.5576, -9.5576, -9.5576, -9.5576, -9.5576, -9.5576, -9.5576, -9.5576, -0.2023, -2.9751, -3.5069, -4.9287, -10.8076, -10.8076, -10.8076, -10.8076, -10.8076, -10.8076, -10.8076, -10.8076, -10.8076, -10.8076, -10.8076, -10.8076, -10.8076, -10.8076, -10.8076, -10.8076, -10.8076, -10.8076, -10.8076, -10.8076, -10.8076, -10.8076, -10.8076, -10.8076, -10.8076, -10.8076, -10.8076, -10.8076, -10.8076, -10.8076, -10.8076, -10.8076, -10.8076, -10.8076, -10.8076, -10.8076, -10.8076, -10.8076, -10.8076, -10.8076, -10.8076, -10.8076, -10.8076, -10.8076, -10.8076, -10.8076, -10.8076, -10.8076, -10.8076, -10.8076, -10.8076, -10.8076, -10.8076, -10.8076, -10.8076, -10.8076, -10.8076, -10.8076, -10.8076, -10.8076, -10.8076, -10.8076, -10.8076, -10.8076, -10.8076, -10.8076, -10.8076, -10.8076, -10.8076, -10.8076, -10.8076, -10.8076, -10.8076, -10.8076, -10.8076, -10.8076, -10.8076, -10.8076, -10.8076, -10.8076, -10.8076, -10.8076, -10.8076, -10.8076, -10.8076, -10.8076, -10.8076, -10.8076, -10.8076, -10.8076, -10.8076, -10.8076, -10.8076, -10.8076, -10.8076, -10.8076, -10.8076, -10.8076, -10.8076, -10.8076, -10.8076, -10.8076, -10.8076, -10.8076, -10.8076, -10.8076, -10.8076, -10.8076, -10.8076, -10.8076, -10.8076, -10.8076, -10.8076, -10.8076, -10.8076, -10.8076, -10.8076, -10.8076, -10.8076, -10.8076, -1.3759, -1.8131, -2.9702, -3.4893, -9.1404, -9.1404, -9.1404, -9.1404, -9.1404, -9.1404, -9.1404, -9.1404, -9.1404, -9.1404, -9.1404, -9.1404, -9.1404, -9.1404, -9.1404, -9.1404, -9.1404, -9.1404, -9.1404, -9.1404, -9.1404, -9.1404, -9.1404, -9.1404, -9.1404, -9.1404, -9.1404, -9.1404, -9.1404, -9.1404, -9.1404, -9.1404, -9.1404, -9.1404, -9.1404, -9.1404, -9.1404, -9.1404, -9.1404, -9.1404, -9.1404, -9.1404, -9.1404, -9.1404, -9.1404, -9.1404, -9.1404, -9.1404, -9.1404, -9.1404, -1.2896, -1.802, -9.033, -9.033, -9.033, -9.033, -9.033, -9.033, -9.033, -9.033, -9.033, -9.033, -9.033, -9.033, -9.033, -9.033, -9.033, -9.033, -9.033, -9.033, -9.033, -9.033, -9.033, -9.033, -9.033, -9.033, -9.033, -9.033, -9.033, -9.033, -9.033, -9.033, -9.033, -9.033, -9.033, -9.033, -9.033, -9.033, -9.033, -9.033, -9.033, -9.033, -9.033, -9.033, -9.033, -9.033, -9.033, -9.033, -9.033, -9.033, -9.033, -9.033, -9.033, -9.033, -9.033, -0.7021, -9.137, -9.137, -9.137, -9.137, -9.137, -9.137, -9.137, -9.137, -9.137, -9.137, -9.137, -9.137, -9.137, -9.137, -9.137, -9.137, -9.137, -9.137, -9.137, -9.137, -9.137, -9.137, -9.137, -9.137, -9.137, -9.137, -9.137, -9.137, -9.137, -9.137, -9.137, -9.137, -9.137, -9.137, -9.137, -9.137, -9.137, -9.137, -9.137, -9.137, -9.137, -9.137, -9.137, -9.137, -9.137, -9.137, -9.137, -9.137, -9.137, -9.137, -9.137, -9.137, -9.137, -9.137, -9.137, -1.4784, -3.1542, -3.6387, -8.8047, -8.8047, -8.8047, -8.8047, -8.8047, -8.8047, -8.8047, -8.8047, -8.8047, -8.8047, -8.8047, -8.8047, -8.8047, -8.8047, -8.8047, -8.8047, -8.8047, -8.8047, -8.8047, -8.8047, -8.8047, -8.8047, -8.8047, -8.8047, -8.8047, -8.8047, -8.8047, -8.8047, -8.8047, -8.8047, -8.8047, -8.8047, -8.8047, -8.8047, -8.8047, -8.8047, -8.8047, -8.8047, -8.8047, -8.8047, -8.8047, -8.8047, -8.8047, -8.8047, -8.8047, -8.8047, -8.8047, -8.8047, -8.8047, -8.8047, -8.8047, -1.4969, -2.9736, -4.9353, -8.7838, -8.7838, -8.7838, -8.7838, -8.7838, -8.7838, -8.7838, -8.7838, -8.7838, -8.7838, -8.7838, -8.7838, -8.7838, -8.7838, -8.7838, -8.7838, -8.7838, -8.7838, -8.7838, -8.7838, -8.7838, -8.7838, -8.7838, -8.7838, -8.7838, -8.7838, -8.7838, -8.7838, -8.7838, -8.7838, -8.7838, -8.7838, -8.7838, -8.7838, -8.7838, -8.7838, -8.7838, -8.7838, -8.7838, -8.7838, -8.7838, -8.7838, -8.7838, -8.7838, -8.7838, -8.7838, -8.7838, -8.7838, -8.7838, -8.7838, -8.7838, -8.7838, -1.5345, -2.968, -8.7631, -8.7631, -8.7631, -8.7631, -8.7631, -8.7631, -8.7631, -8.7631, -8.7631, -8.7631, -8.7631, -8.7631, -8.7631, -8.7631, -8.7631, -8.7631, -8.7631, -8.7631, -8.7631, -8.7631, -8.7631, -8.7631, -8.7631, -8.7631, -8.7631, -8.7631, -8.7631, -8.7631, -8.7631, -8.7631, -8.7631, -8.7631, -8.7631, -8.7631, -8.7631, -8.7631, -8.7631, -8.7631, -8.7631, -8.7631, -8.7631, -8.7631, -8.7631, -8.7631, -8.7631, -8.7631, -8.7631, -8.7631, -8.7631, -8.7631, -8.7631, -8.7631, -8.7631, -2.1597, -2.9034, -3.0468, -8.6979, -8.6979, -8.6979, -8.6979, -8.6979, -8.6979, -8.6979, -8.6979, -8.6979, -8.6979, -8.6979, -8.6979, -8.6979, -8.6979, -8.6979, -8.6979, -8.6979, -8.6979, -8.6979, -8.6979, -8.6979, -8.6979, -8.6979, -8.6979, -8.6979, -8.6979, -8.6979, -8.6979, -8.6979, -8.6979, -8.6979, -8.6979, -8.6979, -8.6979, -8.6979, -8.6979, -8.6979, -8.6979, -8.6979, -8.6979, -8.6979, -8.6979, -8.6979, -8.6979, -8.6979, -8.6979, -8.6979, -8.6979, -8.6979, -8.6979, -8.6979, -8.6979, -8.6979, -1.634, -2.173, -8.8221, -8.8221, -8.8221, -8.8221, -8.8221, -8.8221, -8.8221, -8.8221, -8.8221, -8.8221, -8.8221, -8.8221, -8.8221, -8.8221, -8.8221, -8.8221, -8.8221, -8.8221, -8.8221, -8.8221, -8.8221, -8.8221, -8.8221, -8.8221, -8.8221, -8.8221, -8.8221, -8.8221, -8.8221, -8.8221, -8.8221, -8.8221, -8.8221, -8.8221, -8.8221, -8.8221, -8.8221, -8.8221, -8.8221, -8.8221, -8.8221, -8.8221, -8.8221, -8.8221, -8.8221, -8.8221, -8.8221, -8.8221, -8.8221, -8.8221, -8.8221, -8.8221, -8.8221, -8.8221, -1.611, -2.102, -8.8356, -8.841, -8.841, -8.841, -8.841, -8.841, -8.841, -8.841, -8.841, -8.841, -8.841, -8.841, -8.841, -8.841, -8.841, -8.841, -8.841, -8.841, -8.841, -8.841, -8.841, -8.841, -8.841, -8.841, -8.841, -8.841, -8.841, -8.841, -8.841, -8.841, -8.841, -8.841, -8.841, -8.841, -8.841, -8.841, -8.841, -8.841, -8.841, -8.841, -8.841, -8.841, -8.841, -8.841, -8.841, -8.841, -8.841, -8.841, -8.841, -8.841, -8.841, -8.841, -1.175, -8.8221, -8.8221, -8.8221, -8.8221, -8.8221, -8.8221, -8.8221, -8.8221, -8.8221, -8.8221, -8.8221, -8.8221, -8.8221, -8.8221, -8.8221, -8.8221, -8.8221, -8.8221, -8.8221, -8.8221, -8.8221, -8.8221, -8.8221, -8.8221, -8.8221, -8.8221, -8.8221, -8.8221, -8.8221, -8.8221, -8.8221, -8.8221, -8.8221, -8.8221, -8.8221, -8.8221, -8.8221, -8.8221, -8.8221, -8.8221, -8.8221, -8.8221, -8.8221, -8.8221, -8.8221, -8.8221, -8.8221, -8.8221, -8.8221, -8.8221, -8.8221, -8.8221, -8.8221, -8.8221, -8.8221, -2.7066, -2.9295, -8.5806, -8.5806, -8.5806, -8.5806, -8.5806, -8.5806, -8.5806, -8.5806, -8.5806, -8.5806, -8.5806, -8.5806, -8.5806, -8.5806, -8.5806, -8.5806, -8.5806, -8.5806, -8.5806, -8.5806, -8.5806, -8.5806, -8.5806, -8.5806, -8.5806, -8.5806, -8.5806, -8.5806, -8.5806, -8.5806, -8.5806, -8.5806, -8.5806, -8.5806, -8.5806, -8.5806, -8.5806, -8.5806, -8.5806, -8.5806, -8.5806, -8.5806, -8.5806, -8.5806, -8.5806, -8.5806, -8.5806, -8.5806, -8.5806, -8.5806, -8.5806, -8.5806, -8.5806, -8.5806, -2.4294, -2.5104, -3.0457, -8.6968, -8.6968, -8.6968, -8.6968, -8.6968, -8.6968, -8.6968, -8.6968, -8.6968, -8.6968, -8.6968, -8.6968, -8.6968, -8.6968, -8.6968, -8.6968, -8.6968, -8.6968, -8.6968, -8.6968, -8.6968, -8.6968, -8.6968, -8.6968, -8.6968, -8.6968, -8.6968, -8.6968, -8.6968, -8.6968, -8.6968, -8.6968, -8.6968, -8.6968, -8.6968, -8.6968, -8.6968, -8.6968, -8.6968, -8.6968, -8.6968, -8.6968, -8.6968, -8.6968, -8.6968, -8.6968, -8.6968, -8.6968, -8.6968, -8.6968, -8.6968, -8.6968, -8.6968, -2.6728, -3.973, -8.5445, -8.5445, -8.5445, -8.5445, -8.5445, -8.5445, -8.5445, -8.5445, -8.5445, -8.5445, -8.5445, -8.5445, -8.5445, -8.5445, -8.5445, -8.5445, -8.5445, -8.5445, -8.5445, -8.5445, -8.5445, -8.5445, -8.5445, -8.5445, -8.5445, -8.5445, -8.5445, -8.5445, -8.5445, -8.5445, -8.5445, -8.5445, -8.5445, -8.5445, -8.5445, -8.5445, -8.5445, -8.5445, -8.5445, -8.5445, -8.5445, -8.5445, -8.5445, -8.5445, -8.5445, -8.5445, -8.5445, -8.5445, -8.5445, -8.5445, -8.5445, -8.5445, -8.5445, -2.5388, -8.535, -8.535, -8.535, -8.535, -8.535, -8.535, -8.535, -8.535, -8.535, -8.535, -8.535, -8.535, -8.535, -8.535, -8.535, -8.535, -8.535, -8.535, -8.535, -8.535, -8.535, -8.535, -8.535, -8.535, -8.535, -8.535, -8.535, -8.535, -8.535, -8.535, -8.535, -8.535, -8.535, -8.535, -8.535, -8.535, -8.535, -8.535, -8.535, -8.535, -8.535, -8.535, -8.535, -8.535, -8.535, -8.535, -8.535, -8.535, -8.535, -8.535, -8.535, -8.535, -8.535, -8.535, -8.535, -2.916, -2.9161, -8.5672, -8.5672, -8.5672, -8.5672, -8.5672, -8.5672, -8.5672, -8.5672, -8.5672, -8.5672, -8.5672, -8.5672, -8.5672, -8.5672, -8.5672, -8.5672, -8.5672, -8.5672, -8.5672, -8.5672, -8.5672, -8.5672, -8.5672, -8.5672, -8.5672, -8.5672, -8.5672, -8.5672, -8.5672, -8.5672, -8.5672, -8.5672, -8.5672, -8.5672, -8.5672, -8.5672, -8.5672, -8.5672, -8.5672, -8.5672, -8.5672, -8.5672, -8.5672, -8.5672, -8.5672, -8.5672, -8.5672, -8.5672, -8.5672, -8.5672, -8.5672, -8.5672, -8.5672, -8.5672], \"loglift\": [30.0, 29.0, 28.0, 27.0, 26.0, 25.0, 24.0, 23.0, 22.0, 21.0, 20.0, 19.0, 18.0, 17.0, 16.0, 15.0, 14.0, 13.0, 12.0, 11.0, 10.0, 9.0, 8.0, 7.0, 6.0, 5.0, 4.0, 3.0, 2.0, 1.0, 1.2177, 0.6658, -3.5338, -3.5338, -3.5339, -3.534, -3.5343, -3.5343, -3.5343, -3.5343, -3.5343, -3.5343, -3.5347, -3.5347, -3.5349, -3.5349, -3.5349, -3.5349, -3.5349, -3.5349, -3.535, -3.535, -3.5351, -3.5351, -3.5352, -3.5352, -3.5352, -3.5353, -3.5353, -3.5353, 1.6497, 1.6336, 1.6159, -0.7333, -0.7359, -0.7362, -0.7365, -0.7365, -0.7367, -0.7367, -0.7369, -0.7369, -0.7369, -0.7369, -0.7369, -0.7369, -0.737, -0.7372, -0.7373, -0.7374, -0.7374, -0.7375, -0.7376, -0.7376, -0.7376, -0.7376, -0.7376, -0.7376, -0.7376, -0.7377, 2.2053, 2.201, 2.1997, 2.1982, -0.5983, -0.5983, -0.5983, -0.5983, -0.5983, -0.5984, -0.5984, -0.5984, -0.5984, -0.5984, -0.5984, -0.5984, -0.5984, -0.5984, -0.5984, -0.5984, -0.5984, -0.5984, -0.5984, -0.5984, -0.5984, -0.5984, -0.5984, -0.5984, -0.5984, -0.5984, -0.5984, -0.5984, 2.5571, 2.5552, 2.5551, 2.5534, 2.5442, 2.5397, 0.2775, 0.2775, 0.2775, 0.2775, 0.2775, 0.2775, 0.2775, 0.2775, 0.2775, 0.2775, 0.2775, 0.2775, 0.2775, 0.2775, 0.2775, 0.2775, 0.2775, 0.2775, 0.2775, 0.2775, 0.2775, 0.2775, 0.2775, 0.2775, 0.2775, 0.2775, 0.2775, 0.2775, 0.2775, 0.2775, 0.2775, 0.2775, 0.2775, 0.2775, 0.2775, 0.2775, 0.2775, 0.2775, 0.2775, 0.2775, 0.2775, 0.2775, 0.2775, 0.2775, 0.2775, 0.2775, 0.2775, 0.2775, 0.2775, 0.2775, 0.2775, 0.2775, 0.2774, 0.2775, 0.2775, 0.2775, 0.2775, 0.2774, 0.2775, 0.2775, 0.2775, 0.2775, 0.2775, 0.2775, 0.2775, 0.2775, 0.2775, 0.2775, 0.2775, 0.2775, 0.2775, 0.2775, 0.2775, 0.2775, 0.2775, 0.2775, 0.2775, 0.2775, 0.2775, 0.2775, 0.2775, 0.2775, 0.2775, 0.2775, 0.2775, 0.2775, 0.2775, 0.2775, 0.2774, 0.2774, 0.2775, 0.2774, 0.2775, 0.2775, 0.2773, 0.2774, 0.2771, 0.2775, 0.2775, 0.2775, 0.2775, 0.2775, 0.2773, 0.2773, 0.2774, 0.2774, 0.2774, 0.2774, 0.2774, 0.2774, 0.2773, 0.2773, 0.2774, 0.2774, 0.2774, 0.2774, 0.2774, 0.2774, 2.7496, 2.7347, 2.7237, 2.6435, -0.9724, -0.9724, -0.9724, -0.9724, -0.9724, -0.9724, -0.9724, -0.9724, -0.9724, -0.9724, -0.9724, -0.9724, -0.9724, -0.9724, -0.9724, -0.9724, -0.9724, -0.9724, -0.9724, -0.9724, -0.9724, -0.9724, -0.9724, -0.9724, -0.9724, -0.9724, -0.9724, -0.9724, -0.9724, -0.9724, -0.9724, -0.9724, -0.9724, -0.9724, -0.9724, -0.9724, -0.9724, -0.9724, -0.9724, -0.9724, -0.9724, -0.9724, -0.9724, -0.9724, -0.9724, -0.9724, -0.9724, -0.9724, -0.9724, -0.9724, -0.9724, -0.9724, -0.9724, -0.9724, -0.9724, -0.9724, -0.9724, -0.9724, -0.9724, -0.9724, -0.9724, -0.9724, -0.9724, -0.9724, -0.9724, -0.9724, -0.9724, -0.9724, -0.9724, -0.9724, -0.9724, -0.9724, -0.9724, -0.9724, -0.9724, -0.9724, -0.9724, -0.9724, -0.9724, -0.9724, -0.9724, -0.9724, -0.9724, -0.9724, -0.9726, -0.9726, -0.9726, -0.9726, -0.9726, -0.9726, -0.9726, -0.9725, -0.9725, -0.9725, -0.9725, -0.9725, -0.9725, -0.9725, -0.9725, -0.9725, -0.9725, -0.9725, -0.9725, -0.9725, -0.9725, -0.9725, -0.9725, -0.9725, -0.9725, -0.9725, -0.9727, -0.9727, -0.9725, -0.9727, -0.9725, -0.9726, -0.973, -0.9726, -0.9726, -0.9726, 3.455, 3.4516, 3.4307, 3.4103, 0.6948, 0.6948, 0.6948, 0.6948, 0.6948, 0.6948, 0.6948, 0.6948, 0.6948, 0.6948, 0.6948, 0.6948, 0.6948, 0.6948, 0.6948, 0.6948, 0.6948, 0.6948, 0.6948, 0.6948, 0.6948, 0.6948, 0.6948, 0.6948, 0.6948, 0.6948, -0.1541, -6.4926, -4.5611, -4.3381, -3.8399, -3.4306, -4.5372, -6.1885, -3.3258, -0.9382, -3.5553, -3.6703, -3.2708, -4.0935, -3.7438, -4.2989, -2.9098, -4.2601, -4.5943, -3.8299, -1.754, -2.7912, 0.6948, 0.6948, 3.5126, 3.5086, 0.8022, 0.8022, 0.8022, 0.8022, 0.8022, 0.8022, 0.8022, 0.8022, 0.8022, 0.8022, 0.8022, 0.8022, 0.8022, 0.8022, 0.8022, 0.8022, 0.8022, 0.8022, 0.8022, 0.8022, 0.8022, 0.8022, 0.8022, 0.8022, 0.8022, 0.8022, 0.8022, 0.8022, -0.0467, -6.3852, -4.4537, -3.7324, -3.3232, -4.4298, -6.0811, -3.7682, -3.2184, -0.8308, -2.6321, -3.4479, -3.5628, -3.1633, -3.9861, -3.6364, -4.1915, -2.8024, -4.1527, -4.4869, -1.6466, -2.6838, 0.8022, 0.8022, -4.6812, 3.6497, 0.6981, 0.6981, 0.6981, 0.6981, 0.6981, 0.6981, 0.6981, 0.6981, 0.6981, 0.6981, 0.6981, 0.6981, 0.6981, 0.6981, 0.6981, 0.6981, 0.6981, 0.6981, 0.6981, 0.6981, 0.6981, 0.6981, 0.6981, 0.6981, 0.6981, 0.6981, 0.6981, 0.6981, 0.6981, -0.1507, -6.4893, -4.5578, -4.3348, -3.8365, -3.4273, -4.5338, -6.1852, -3.8723, -3.3225, -0.9349, -2.7361, -3.5519, -3.6669, -3.2674, -4.0901, -3.7405, -4.2955, -2.9064, -4.2567, -4.5909, -3.8265, -1.7507, -2.7879, 0.6981, 0.6981, 3.8221, 3.7793, 3.7476, 1.0305, 1.0305, 1.0305, 1.0305, 1.0305, 1.0305, 1.0305, 1.0305, 1.0305, 1.0305, 1.0305, 1.0305, 1.0305, 1.0305, 1.0305, 1.0305, 1.0305, 1.0305, 1.0305, 1.0305, 1.0305, 1.0305, 1.0305, 1.0305, 1.0305, 1.0305, 1.0305, 0.1817, -6.1569, -4.2254, -4.0024, -3.0949, -4.2015, -5.8528, -3.5399, -2.9901, -0.6025, -2.4038, -3.2196, -3.3345, -2.935, -3.7578, -3.4081, -3.9632, -2.5741, -3.9244, -4.2585, -3.4941, -2.4555, 1.0305, 1.0305, 3.8997, 3.8627, 3.6103, 1.0513, 1.0513, 1.0513, 1.0513, 1.0513, 1.0513, 1.0513, 1.0513, 1.0513, 1.0513, 1.0513, 1.0513, 1.0513, 1.0513, 1.0513, 1.0513, 1.0513, 1.0513, 1.0513, 1.0513, 1.0513, 1.0513, 1.0513, 1.0513, 1.0513, 1.0513, 1.0513, 0.2025, -6.136, -4.2045, -3.9815, -3.4833, -3.0741, -4.1806, -5.832, -3.5191, -2.9692, -0.5816, -2.3829, -3.1987, -3.3137, -2.9142, -3.7369, -3.9423, -2.5532, -3.9035, -4.2377, -3.4733, -1.3974, -2.4347, 1.0513, 1.0513, 4.0506, 4.0083, 1.072, 1.072, 1.072, 1.072, 1.072, 1.072, 1.072, 1.072, 1.072, 1.072, 1.072, 1.072, 1.072, 1.072, 1.072, 1.072, 1.072, 1.072, 1.072, 1.072, 1.072, 1.072, 1.072, 1.072, 1.072, 1.072, 1.072, 1.072, 0.2232, -6.1153, -4.1838, -3.9609, -3.4626, -3.0534, -4.1599, -5.8113, -3.4984, -2.9485, -0.5609, -2.3622, -3.293, -2.8935, -3.7162, -3.3666, -3.9216, -2.5325, -3.8828, -4.217, -3.4526, -1.3768, -2.414, 1.072, 1.072, 4.1631, 4.1322, 4.1233, 1.1373, 1.1373, 1.1373, 1.1373, 1.1373, 1.1373, 1.1373, 1.1373, 1.1373, 1.1373, 1.1373, 1.1373, 1.1373, 1.1373, 1.1373, 1.1373, 1.1373, 1.1373, 1.1373, 1.1373, 1.1373, 1.1373, 1.1373, 1.1373, 1.1373, 1.1373, 1.1373, 0.2885, -6.0501, -4.1186, -3.8956, -3.3973, -2.9881, -4.0947, -5.746, -3.4331, -2.8833, -0.4957, -2.2969, -3.1127, -3.2277, -2.8282, -3.651, -3.3013, -3.8563, -2.4672, -3.8176, -4.1517, -3.3873, -1.3115, -2.3487, 1.1373, 1.1373, 4.2158, 4.2032, 1.013, 1.013, 1.013, 1.013, 1.013, 1.013, 1.013, 1.013, 1.013, 1.013, 1.013, 1.013, 1.013, 1.013, 1.013, 1.013, 1.013, 1.013, 1.013, 1.013, 1.013, 1.013, 1.013, 1.013, 1.013, 1.013, 1.013, 1.013, 0.1642, -6.1743, -4.2429, -4.0199, -3.5216, -3.1124, -4.2189, -5.8703, -3.5574, -3.0075, -0.6199, -2.4212, -3.237, -3.352, -2.9525, -3.7752, -3.4256, -3.9806, -2.5915, -3.9418, -4.276, -3.5116, -1.4358, -2.473, 1.013, 1.013, 4.2586, 4.2471, 0.9993, 0.9942, 0.9942, 0.9942, 0.9942, 0.9942, 0.9942, 0.9942, 0.9942, 0.9942, 0.9942, 0.9942, 0.9942, 0.9942, 0.9942, 0.9942, 0.9942, 0.9942, 0.9942, 0.9942, 0.9942, 0.9942, 0.9942, 0.9942, 0.9942, 0.9942, 0.9942, 0.9942, 0.1453, -6.1932, -4.2617, -4.0387, -3.5405, -3.1312, -4.2378, -5.8891, -3.5762, -3.0264, -0.6388, -2.4401, -3.2559, -3.3709, -3.7941, -3.4445, -3.9995, -2.6104, -3.9607, -4.2949, -3.5305, -1.4546, 0.9942, 0.9942, 4.2952, 1.013, 1.013, 1.013, 1.013, 1.013, 1.013, 1.013, 1.013, 1.013, 1.013, 1.013, 1.013, 1.013, 1.013, 1.013, 1.013, 1.013, 1.013, 1.013, 1.013, 1.013, 1.013, 1.013, 1.013, 1.013, 1.013, 1.013, 1.013, 1.013, 0.1642, -6.1743, -4.2428, -4.0199, -3.5216, -3.1124, -4.2189, -5.8703, -3.5574, -3.0075, -0.6199, -2.4212, -3.237, -2.9525, -3.7752, -3.4256, -3.9806, -2.5915, -3.9418, -4.276, -3.5116, -1.4358, -2.473, 1.013, 1.013, -4.4703, 4.2617, 4.2483, 1.2546, 1.2546, 1.2546, 1.2546, 1.2546, 1.2546, 1.2546, 1.2546, 1.2546, 1.2546, 1.2546, 1.2546, 1.2546, 1.2546, 1.2546, 1.2546, 1.2546, 1.2546, 1.2546, 1.2546, 1.2546, 1.2546, 1.2546, 1.2546, 1.2546, 1.2546, 1.2546, 1.2546, 0.4057, -5.9328, -4.0013, -3.7783, -3.2801, -2.8708, -3.9774, -5.6287, -3.3158, -2.766, -0.3784, -2.1797, -2.9955, -3.1105, -2.711, -3.5337, -3.184, -3.7391, -2.35, -3.7003, -4.0345, -3.2701, -1.1942, -2.2314, 1.2546, 1.2546, 4.2897, 4.2861, 4.2541, 1.1383, 1.1383, 1.1383, 1.1383, 1.1383, 1.1383, 1.1383, 1.1383, 1.1383, 1.1383, 1.1383, 1.1383, 1.1383, 1.1383, 1.1383, 1.1383, 1.1383, 1.1383, 1.1383, 1.1383, 1.1383, 1.1383, 1.1383, 1.1383, 1.1383, 1.1383, 1.1383, 0.2895, -6.049, -4.1175, -3.8946, -3.3963, -2.9871, -4.0936, -5.745, -3.4321, -2.8822, -0.4946, -2.2959, -3.1117, -3.2267, -2.8272, -3.6499, -3.3003, -3.8553, -2.4662, -3.8165, -4.1507, -3.3863, -1.3104, -2.3477, 1.1383, 1.1383, 4.3754, 4.2292, 1.2906, 1.2906, 1.2906, 1.2906, 1.2906, 1.2906, 1.2906, 1.2906, 1.2906, 1.2906, 1.2906, 1.2906, 1.2906, 1.2906, 1.2906, 1.2906, 1.2906, 1.2906, 1.2906, 1.2906, 1.2906, 1.2906, 1.2906, 1.2906, 1.2906, 1.2906, 1.2906, 1.2906, 0.4418, -5.8967, -3.9653, -3.7423, -3.244, -2.8348, -3.9413, -5.5927, -3.2798, -2.7299, -2.1436, -2.9594, -3.0744, -2.6749, -3.4976, -3.148, -3.703, -2.3139, -3.6642, -3.9984, -3.234, -1.1582, -2.1954, 1.2906, 1.2906, 4.5169, 1.3001, 1.3001, 1.3001, 1.3001, 1.3001, 1.3001, 1.3001, 1.3001, 1.3001, 1.3001, 1.3001, 1.3001, 1.3001, 1.3001, 1.3001, 1.3001, 1.3001, 1.3001, 1.3001, 1.3001, 1.3001, 1.3001, 1.3001, 1.3001, 1.3001, 1.3001, 1.3001, 1.3001, 1.3001, 0.4513, -5.8872, -3.9557, -3.7327, -3.2345, -2.8253, -3.9318, -5.5832, -3.2703, -2.7204, -0.3328, -2.1341, -2.9499, -3.0649, -2.6654, -3.4881, -3.1385, -3.6935, -2.3044, -3.6547, -3.9889, -3.2245, -1.1486, -2.1859, 1.3001, 1.3001, 4.5671, 4.5671, 1.268, 1.268, 1.268, 1.268, 1.268, 1.268, 1.268, 1.268, 1.268, 1.268, 1.268, 1.268, 1.268, 1.268, 1.268, 1.268, 1.268, 1.268, 1.268, 1.268, 1.268, 1.268, 1.268, 1.268, 1.268, 1.268, 1.268, 1.268, 0.4192, -5.9194, -3.9879, -3.7649, -3.2666, -2.8574, -3.964, -5.6153, -3.3024, -2.7526, -0.365, -2.1663, -2.9821, -3.097, -2.6975, -3.5203, -3.1706, -3.7256, -2.3365, -3.6869, -4.021, -3.2566, -1.1808, -2.218, 1.268, 1.268]}, \"token.table\": {\"Topic\": [3, 20, 8, 12, 9, 11, 5, 6, 1, 2, 7, 17, 15, 5, 5, 13, 7, 11, 13, 3, 6, 6, 3, 16, 4, 4, 4, 4, 14, 12, 19, 20, 10, 12, 9, 10, 14, 6, 17, 10, 18, 4, 1, 9, 5, 4, 2, 18, 3, 16, 2, 17], \"Freq\": [0.9993396263198262, 0.9098745275665817, 0.9962796872252612, 0.9430726111734117, 0.9897493300241088, 0.9479666513137751, 0.9988997528681753, 0.9466377050185629, 0.9998021038294211, 0.9654835113633637, 0.9884888855842457, 0.9529125562840892, 0.9887356038692613, 0.8870748215334917, 0.9767918271701888, 0.9672728582130764, 0.9938253678089012, 0.9875981119571751, 0.9844054483700193, 0.9917599347533002, 0.9933080168984495, 0.9897319683680773, 0.9933185194260764, 0.9421770917094315, 0.9948253335081522, 0.9943489386845983, 0.9809024263675015, 0.9946517627241563, 0.9795916517897147, 0.9709462859617457, 0.9462259387040687, 0.9098461642988102, 0.9887743438857735, 0.9349713332185875, 0.9508891545211384, 0.9529286215195681, 0.9731258436997092, 0.9664954645661264, 0.9212042851465779, 0.7114575499931639, 0.9390769304860279, 0.9863465300922774, 0.5527709379758692, 0.9151769213686364, 0.9851225089394453, 0.9969787484446497, 0.999726900985958, 0.8075021171624789, 0.9952744620832797, 0.9404400304643749, 0.9827456326173242, 0.9620489404811502], \"Term\": [\"africa\", \"amazingly\", \"amp\", \"atlanta\", \"blow\", \"cdcdirector\", \"coronavirus\", \"courageous\", \"covid\", \"crazy\", \"desperate\", \"doctor\", \"dr\", \"easy\", \"expert\", \"find\", \"full\", \"globalhlthtwit\", \"go\", \"good\", \"government\", \"head\", \"health\", \"hodkinson\", \"know\", \"leader\", \"medical\", \"midst\", \"moeti\", \"pfizer\", \"pleased\", \"policy\", \"public\", \"qualified\", \"realjoelsmalley\", \"remember\", \"research\", \"rise\", \"roger\", \"sell\", \"speak\", \"still\", \"telglobalhealth\", \"thank\", \"third\", \"today\", \"vaccine\", \"warnedcase\", \"wave\", \"way\", \"whoafro\", \"yet\"]}, \"R\": 30, \"lambda.step\": 0.01, \"plot.opts\": {\"xlab\": \"PC1\", \"ylab\": \"PC2\"}, \"topic.order\": [15, 16, 2, 14, 8, 5, 17, 19, 7, 3, 13, 6, 11, 18, 9, 20, 1, 12, 10, 4]};\n\nfunction LDAvis_load_lib(url, callback){\n  var s = document.createElement('script');\n  s.src = url;\n  s.async = true;\n  s.onreadystatechange = s.onload = callback;\n  s.onerror = function(){console.warn(\"failed to load library \" + url);};\n  document.getElementsByTagName(\"head\")[0].appendChild(s);\n}\n\nif(typeof(LDAvis) !== \"undefined\"){\n   // already loaded: just create the visualization\n   !function(LDAvis){\n       new LDAvis(\"#\" + \"ldavis_el1422025202153332327014712136\", ldavis_el1422025202153332327014712136_data);\n   }(LDAvis);\n}else if(typeof define === \"function\" && define.amd){\n   // require.js is available: use it to load d3/LDAvis\n   require.config({paths: {d3: \"https://d3js.org/d3.v5\"}});\n   require([\"d3\"], function(d3){\n      window.d3 = d3;\n      LDAvis_load_lib(\"https://cdn.jsdelivr.net/gh/bmabey/pyLDAvis@3.3.1/pyLDAvis/js/ldavis.v3.0.0.js\", function(){\n        new LDAvis(\"#\" + \"ldavis_el1422025202153332327014712136\", ldavis_el1422025202153332327014712136_data);\n      });\n    });\n}else{\n    // require.js not available: dynamically load d3 & LDAvis\n    LDAvis_load_lib(\"https://d3js.org/d3.v5.js\", function(){\n         LDAvis_load_lib(\"https://cdn.jsdelivr.net/gh/bmabey/pyLDAvis@3.3.1/pyLDAvis/js/ldavis.v3.0.0.js\", function(){\n                 new LDAvis(\"#\" + \"ldavis_el1422025202153332327014712136\", ldavis_el1422025202153332327014712136_data);\n            })\n         });\n}\n</script>"
     },
     "metadata": {},
     "execution_count": 39
    }
   ],
   "source": [
    "# Visualize the topics\n",
    "pyLDAvis.enable_notebook()\n",
    "vis = pyLDAvis.gensim_models.prepare(lda_model, corpus, id2word)\n",
    "vis"
   ]
  },
  {
   "source": [
    "Saving generated Topic LDA Model"
   ],
   "cell_type": "markdown",
   "metadata": {}
  },
  {
   "cell_type": "code",
   "execution_count": 40,
   "metadata": {},
   "outputs": [
    {
     "output_type": "stream",
     "name": "stderr",
     "text": [
      "C:\\Python38\\lib\\site-packages\\ipykernel\\ipkernel.py:283: DeprecationWarning: `should_run_async` will not call `transform_cell` automatically in the future. Please pass the result to `transformed_cell` argument and any exception that happen during thetransform in `preprocessing_exc_tuple` in IPython 7.17 and above.\n  and should_run_async(code)\n"
     ]
    },
    {
     "output_type": "execute_result",
     "data": {
      "text/plain": [
       "['../trained_models/newtopicLDAmodel.jl']"
      ]
     },
     "metadata": {},
     "execution_count": 40
    }
   ],
   "source": [
    "joblib.dump(lda_model, '../trained_models/newtopicLDAmodel.jl')\n",
    "# then reload it with\n",
    "# lda_model = joblib.load('lda_model.jl')s\n"
   ]
  },
  {
   "cell_type": "code",
   "execution_count": 41,
   "metadata": {},
   "outputs": [
    {
     "output_type": "stream",
     "name": "stderr",
     "text": [
      "C:\\Python38\\lib\\site-packages\\ipykernel\\ipkernel.py:283: DeprecationWarning: `should_run_async` will not call `transform_cell` automatically in the future. Please pass the result to `transformed_cell` argument and any exception that happen during thetransform in `preprocessing_exc_tuple` in IPython 7.17 and above.\n  and should_run_async(code)\n"
     ]
    },
    {
     "output_type": "execute_result",
     "data": {
      "text/plain": [
       "['../trained_models/newtrainedModelsData.jl']"
      ]
     },
     "metadata": {},
     "execution_count": 41
    }
   ],
   "source": [
    "description = {'sentiment_analysis':{'name':best_model_name,'score':best_score}, 'topic_modeling':{'perplexity_score':perplexity_score, 'coherence_score':coherence_lda}}\n",
    "joblib.dump(description, '../trained_models/newtrainedModelsData.jl')\n",
    "# # then reload it with\n",
    "# lda_model = pickle.load('lda_model.pk')"
   ]
  }
 ]
}